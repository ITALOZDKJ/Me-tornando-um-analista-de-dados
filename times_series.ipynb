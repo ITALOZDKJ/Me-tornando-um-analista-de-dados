{
  "nbformat": 4,
  "nbformat_minor": 5,
  "metadata": {
    "kernelspec": {
      "display_name": "Python 3 (ipykernel)",
      "language": "python",
      "name": "python3"
    },
    "language_info": {
      "codemirror_mode": {
        "name": "ipython",
        "version": 3
      },
      "file_extension": ".py",
      "mimetype": "text/x-python",
      "name": "python",
      "nbconvert_exporter": "python",
      "pygments_lexer": "ipython3",
      "version": "3.8.10"
    },
    "colab": {
      "name": "times_series.ipynb",
      "provenance": [],
      "include_colab_link": true
    }
  },
  "cells": [
    {
      "cell_type": "markdown",
      "metadata": {
        "id": "view-in-github",
        "colab_type": "text"
      },
      "source": [
        "<a href=\"https://colab.research.google.com/github/ITALOZDKJ/Me-tornando-um-analista-de-dados/blob/main/times_series.ipynb\" target=\"_parent\"><img src=\"https://colab.research.google.com/assets/colab-badge.svg\" alt=\"Open In Colab\"/></a>"
      ]
    },
    {
      "cell_type": "markdown",
      "metadata": {
        "id": "a727b971"
      },
      "source": [
        "## In this notebook, I start my studies with times series\n",
        "## In the future, I want apply this knowledge on finance marketplace  "
      ],
      "id": "a727b971"
    },
    {
      "cell_type": "code",
      "metadata": {
        "id": "06d8fee7"
      },
      "source": [
        "import pandas as pd\n",
        "import matplotlib.pyplot as plt\n",
        "from statsmodels.tsa.seasonal import seasonal_decompose\n",
        "import yfinance as yf\n",
        "import numpy as np"
      ],
      "id": "06d8fee7",
      "execution_count": null,
      "outputs": []
    },
    {
      "cell_type": "markdown",
      "metadata": {
        "id": "fdfabb5a"
      },
      "source": [
        "### 1) Aquisition of action data"
      ],
      "id": "fdfabb5a"
    },
    {
      "cell_type": "code",
      "metadata": {
        "id": "bbc3538e"
      },
      "source": [
        "ticket = yf.Ticker('^BVSP')\n",
        "#df = ticket.history(period='3y', interval= '1mo')\n",
        "df = ticket.history(interval='1d', start='2018-01-01', end='2021-01-01')\n"
      ],
      "id": "bbc3538e",
      "execution_count": null,
      "outputs": []
    },
    {
      "cell_type": "code",
      "metadata": {
        "id": "cab9b3d1",
        "outputId": "e417c4f1-8b59-4b04-c727-c007228c67ab"
      },
      "source": [
        "df"
      ],
      "id": "cab9b3d1",
      "execution_count": null,
      "outputs": [
        {
          "data": {
            "text/html": [
              "<div>\n",
              "<style scoped>\n",
              "    .dataframe tbody tr th:only-of-type {\n",
              "        vertical-align: middle;\n",
              "    }\n",
              "\n",
              "    .dataframe tbody tr th {\n",
              "        vertical-align: top;\n",
              "    }\n",
              "\n",
              "    .dataframe thead th {\n",
              "        text-align: right;\n",
              "    }\n",
              "</style>\n",
              "<table border=\"1\" class=\"dataframe\">\n",
              "  <thead>\n",
              "    <tr style=\"text-align: right;\">\n",
              "      <th></th>\n",
              "      <th>Open</th>\n",
              "      <th>High</th>\n",
              "      <th>Low</th>\n",
              "      <th>Close</th>\n",
              "      <th>Volume</th>\n",
              "      <th>Dividends</th>\n",
              "      <th>Stock Splits</th>\n",
              "    </tr>\n",
              "    <tr>\n",
              "      <th>Date</th>\n",
              "      <th></th>\n",
              "      <th></th>\n",
              "      <th></th>\n",
              "      <th></th>\n",
              "      <th></th>\n",
              "      <th></th>\n",
              "      <th></th>\n",
              "    </tr>\n",
              "  </thead>\n",
              "  <tbody>\n",
              "    <tr>\n",
              "      <th>2018-01-02</th>\n",
              "      <td>76403.0</td>\n",
              "      <td>77909.0</td>\n",
              "      <td>76403.0</td>\n",
              "      <td>77891.0</td>\n",
              "      <td>2880300</td>\n",
              "      <td>0</td>\n",
              "      <td>0</td>\n",
              "    </tr>\n",
              "    <tr>\n",
              "      <th>2018-01-03</th>\n",
              "      <td>77889.0</td>\n",
              "      <td>78414.0</td>\n",
              "      <td>77602.0</td>\n",
              "      <td>77995.0</td>\n",
              "      <td>3142200</td>\n",
              "      <td>0</td>\n",
              "      <td>0</td>\n",
              "    </tr>\n",
              "    <tr>\n",
              "      <th>2018-01-04</th>\n",
              "      <td>77998.0</td>\n",
              "      <td>79135.0</td>\n",
              "      <td>77998.0</td>\n",
              "      <td>78647.0</td>\n",
              "      <td>3486100</td>\n",
              "      <td>0</td>\n",
              "      <td>0</td>\n",
              "    </tr>\n",
              "    <tr>\n",
              "      <th>2018-01-05</th>\n",
              "      <td>78644.0</td>\n",
              "      <td>79071.0</td>\n",
              "      <td>78218.0</td>\n",
              "      <td>79071.0</td>\n",
              "      <td>2747100</td>\n",
              "      <td>0</td>\n",
              "      <td>0</td>\n",
              "    </tr>\n",
              "    <tr>\n",
              "      <th>2018-01-08</th>\n",
              "      <td>79070.0</td>\n",
              "      <td>79395.0</td>\n",
              "      <td>78631.0</td>\n",
              "      <td>79379.0</td>\n",
              "      <td>2550800</td>\n",
              "      <td>0</td>\n",
              "      <td>0</td>\n",
              "    </tr>\n",
              "    <tr>\n",
              "      <th>...</th>\n",
              "      <td>...</td>\n",
              "      <td>...</td>\n",
              "      <td>...</td>\n",
              "      <td>...</td>\n",
              "      <td>...</td>\n",
              "      <td>...</td>\n",
              "      <td>...</td>\n",
              "    </tr>\n",
              "    <tr>\n",
              "      <th>2020-12-22</th>\n",
              "      <td>115825.0</td>\n",
              "      <td>116903.0</td>\n",
              "      <td>115648.0</td>\n",
              "      <td>116348.0</td>\n",
              "      <td>6947900</td>\n",
              "      <td>0</td>\n",
              "      <td>0</td>\n",
              "    </tr>\n",
              "    <tr>\n",
              "      <th>2020-12-23</th>\n",
              "      <td>116636.0</td>\n",
              "      <td>118311.0</td>\n",
              "      <td>116636.0</td>\n",
              "      <td>117857.0</td>\n",
              "      <td>6483300</td>\n",
              "      <td>0</td>\n",
              "      <td>0</td>\n",
              "    </tr>\n",
              "    <tr>\n",
              "      <th>2020-12-28</th>\n",
              "      <td>117806.0</td>\n",
              "      <td>119213.0</td>\n",
              "      <td>117805.0</td>\n",
              "      <td>119051.0</td>\n",
              "      <td>7171700</td>\n",
              "      <td>0</td>\n",
              "      <td>0</td>\n",
              "    </tr>\n",
              "    <tr>\n",
              "      <th>2020-12-29</th>\n",
              "      <td>119130.0</td>\n",
              "      <td>119861.0</td>\n",
              "      <td>118750.0</td>\n",
              "      <td>119475.0</td>\n",
              "      <td>6769700</td>\n",
              "      <td>0</td>\n",
              "      <td>0</td>\n",
              "    </tr>\n",
              "    <tr>\n",
              "      <th>2020-12-30</th>\n",
              "      <td>119410.0</td>\n",
              "      <td>120150.0</td>\n",
              "      <td>118919.0</td>\n",
              "      <td>119306.0</td>\n",
              "      <td>8235700</td>\n",
              "      <td>0</td>\n",
              "      <td>0</td>\n",
              "    </tr>\n",
              "  </tbody>\n",
              "</table>\n",
              "<p>738 rows × 7 columns</p>\n",
              "</div>"
            ],
            "text/plain": [
              "                Open      High       Low     Close   Volume  Dividends  \\\n",
              "Date                                                                     \n",
              "2018-01-02   76403.0   77909.0   76403.0   77891.0  2880300          0   \n",
              "2018-01-03   77889.0   78414.0   77602.0   77995.0  3142200          0   \n",
              "2018-01-04   77998.0   79135.0   77998.0   78647.0  3486100          0   \n",
              "2018-01-05   78644.0   79071.0   78218.0   79071.0  2747100          0   \n",
              "2018-01-08   79070.0   79395.0   78631.0   79379.0  2550800          0   \n",
              "...              ...       ...       ...       ...      ...        ...   \n",
              "2020-12-22  115825.0  116903.0  115648.0  116348.0  6947900          0   \n",
              "2020-12-23  116636.0  118311.0  116636.0  117857.0  6483300          0   \n",
              "2020-12-28  117806.0  119213.0  117805.0  119051.0  7171700          0   \n",
              "2020-12-29  119130.0  119861.0  118750.0  119475.0  6769700          0   \n",
              "2020-12-30  119410.0  120150.0  118919.0  119306.0  8235700          0   \n",
              "\n",
              "            Stock Splits  \n",
              "Date                      \n",
              "2018-01-02             0  \n",
              "2018-01-03             0  \n",
              "2018-01-04             0  \n",
              "2018-01-05             0  \n",
              "2018-01-08             0  \n",
              "...                  ...  \n",
              "2020-12-22             0  \n",
              "2020-12-23             0  \n",
              "2020-12-28             0  \n",
              "2020-12-29             0  \n",
              "2020-12-30             0  \n",
              "\n",
              "[738 rows x 7 columns]"
            ]
          },
          "execution_count": 3,
          "metadata": {},
          "output_type": "execute_result"
        }
      ]
    },
    {
      "cell_type": "code",
      "metadata": {
        "id": "bed8ee2a",
        "outputId": "41581879-0991-44e0-c745-0a356340e47c"
      },
      "source": [
        "df.tail()"
      ],
      "id": "bed8ee2a",
      "execution_count": null,
      "outputs": [
        {
          "data": {
            "text/html": [
              "<div>\n",
              "<style scoped>\n",
              "    .dataframe tbody tr th:only-of-type {\n",
              "        vertical-align: middle;\n",
              "    }\n",
              "\n",
              "    .dataframe tbody tr th {\n",
              "        vertical-align: top;\n",
              "    }\n",
              "\n",
              "    .dataframe thead th {\n",
              "        text-align: right;\n",
              "    }\n",
              "</style>\n",
              "<table border=\"1\" class=\"dataframe\">\n",
              "  <thead>\n",
              "    <tr style=\"text-align: right;\">\n",
              "      <th></th>\n",
              "      <th>Open</th>\n",
              "      <th>High</th>\n",
              "      <th>Low</th>\n",
              "      <th>Close</th>\n",
              "      <th>Volume</th>\n",
              "      <th>Dividends</th>\n",
              "      <th>Stock Splits</th>\n",
              "    </tr>\n",
              "    <tr>\n",
              "      <th>Date</th>\n",
              "      <th></th>\n",
              "      <th></th>\n",
              "      <th></th>\n",
              "      <th></th>\n",
              "      <th></th>\n",
              "      <th></th>\n",
              "      <th></th>\n",
              "    </tr>\n",
              "  </thead>\n",
              "  <tbody>\n",
              "    <tr>\n",
              "      <th>2020-12-22</th>\n",
              "      <td>115825.0</td>\n",
              "      <td>116903.0</td>\n",
              "      <td>115648.0</td>\n",
              "      <td>116348.0</td>\n",
              "      <td>6947900</td>\n",
              "      <td>0</td>\n",
              "      <td>0</td>\n",
              "    </tr>\n",
              "    <tr>\n",
              "      <th>2020-12-23</th>\n",
              "      <td>116636.0</td>\n",
              "      <td>118311.0</td>\n",
              "      <td>116636.0</td>\n",
              "      <td>117857.0</td>\n",
              "      <td>6483300</td>\n",
              "      <td>0</td>\n",
              "      <td>0</td>\n",
              "    </tr>\n",
              "    <tr>\n",
              "      <th>2020-12-28</th>\n",
              "      <td>117806.0</td>\n",
              "      <td>119213.0</td>\n",
              "      <td>117805.0</td>\n",
              "      <td>119051.0</td>\n",
              "      <td>7171700</td>\n",
              "      <td>0</td>\n",
              "      <td>0</td>\n",
              "    </tr>\n",
              "    <tr>\n",
              "      <th>2020-12-29</th>\n",
              "      <td>119130.0</td>\n",
              "      <td>119861.0</td>\n",
              "      <td>118750.0</td>\n",
              "      <td>119475.0</td>\n",
              "      <td>6769700</td>\n",
              "      <td>0</td>\n",
              "      <td>0</td>\n",
              "    </tr>\n",
              "    <tr>\n",
              "      <th>2020-12-30</th>\n",
              "      <td>119410.0</td>\n",
              "      <td>120150.0</td>\n",
              "      <td>118919.0</td>\n",
              "      <td>119306.0</td>\n",
              "      <td>8235700</td>\n",
              "      <td>0</td>\n",
              "      <td>0</td>\n",
              "    </tr>\n",
              "  </tbody>\n",
              "</table>\n",
              "</div>"
            ],
            "text/plain": [
              "                Open      High       Low     Close   Volume  Dividends  \\\n",
              "Date                                                                     \n",
              "2020-12-22  115825.0  116903.0  115648.0  116348.0  6947900          0   \n",
              "2020-12-23  116636.0  118311.0  116636.0  117857.0  6483300          0   \n",
              "2020-12-28  117806.0  119213.0  117805.0  119051.0  7171700          0   \n",
              "2020-12-29  119130.0  119861.0  118750.0  119475.0  6769700          0   \n",
              "2020-12-30  119410.0  120150.0  118919.0  119306.0  8235700          0   \n",
              "\n",
              "            Stock Splits  \n",
              "Date                      \n",
              "2020-12-22             0  \n",
              "2020-12-23             0  \n",
              "2020-12-28             0  \n",
              "2020-12-29             0  \n",
              "2020-12-30             0  "
            ]
          },
          "execution_count": 4,
          "metadata": {},
          "output_type": "execute_result"
        }
      ]
    },
    {
      "cell_type": "markdown",
      "metadata": {
        "id": "bf75cd45"
      },
      "source": [
        "### 2) Decomposition of a times series\n",
        "\n",
        "#### Modelos matemáticos\n",
        "#### Adidite Model\n",
        "        y(t) = Tend_t + Seasonality_t + Noise_t\n",
        "#### Multiplicative Model\n",
        "    y(t) = Tend_t * Seasonality_t * Noise_t"
      ],
      "id": "bf75cd45"
    },
    {
      "cell_type": "code",
      "metadata": {
        "id": "613f970c",
        "outputId": "e656bb1f-6f4b-4963-d1a4-b206023a2379"
      },
      "source": [
        "df[['Close']].info()"
      ],
      "id": "613f970c",
      "execution_count": null,
      "outputs": [
        {
          "name": "stdout",
          "output_type": "stream",
          "text": [
            "<class 'pandas.core.frame.DataFrame'>\n",
            "DatetimeIndex: 738 entries, 2018-01-02 to 2020-12-30\n",
            "Data columns (total 1 columns):\n",
            " #   Column  Non-Null Count  Dtype  \n",
            "---  ------  --------------  -----  \n",
            " 0   Close   738 non-null    float64\n",
            "dtypes: float64(1)\n",
            "memory usage: 11.5 KB\n"
          ]
        }
      ]
    },
    {
      "cell_type": "code",
      "metadata": {
        "id": "decd3871",
        "outputId": "3f79b1b2-22a1-41d4-b581-ffe8b1a3c36c"
      },
      "source": [
        "df[['Close']].head()"
      ],
      "id": "decd3871",
      "execution_count": null,
      "outputs": [
        {
          "data": {
            "text/html": [
              "<div>\n",
              "<style scoped>\n",
              "    .dataframe tbody tr th:only-of-type {\n",
              "        vertical-align: middle;\n",
              "    }\n",
              "\n",
              "    .dataframe tbody tr th {\n",
              "        vertical-align: top;\n",
              "    }\n",
              "\n",
              "    .dataframe thead th {\n",
              "        text-align: right;\n",
              "    }\n",
              "</style>\n",
              "<table border=\"1\" class=\"dataframe\">\n",
              "  <thead>\n",
              "    <tr style=\"text-align: right;\">\n",
              "      <th></th>\n",
              "      <th>Close</th>\n",
              "    </tr>\n",
              "    <tr>\n",
              "      <th>Date</th>\n",
              "      <th></th>\n",
              "    </tr>\n",
              "  </thead>\n",
              "  <tbody>\n",
              "    <tr>\n",
              "      <th>2018-01-02</th>\n",
              "      <td>77891.0</td>\n",
              "    </tr>\n",
              "    <tr>\n",
              "      <th>2018-01-03</th>\n",
              "      <td>77995.0</td>\n",
              "    </tr>\n",
              "    <tr>\n",
              "      <th>2018-01-04</th>\n",
              "      <td>78647.0</td>\n",
              "    </tr>\n",
              "    <tr>\n",
              "      <th>2018-01-05</th>\n",
              "      <td>79071.0</td>\n",
              "    </tr>\n",
              "    <tr>\n",
              "      <th>2018-01-08</th>\n",
              "      <td>79379.0</td>\n",
              "    </tr>\n",
              "  </tbody>\n",
              "</table>\n",
              "</div>"
            ],
            "text/plain": [
              "              Close\n",
              "Date               \n",
              "2018-01-02  77891.0\n",
              "2018-01-03  77995.0\n",
              "2018-01-04  78647.0\n",
              "2018-01-05  79071.0\n",
              "2018-01-08  79379.0"
            ]
          },
          "execution_count": 6,
          "metadata": {},
          "output_type": "execute_result"
        }
      ]
    },
    {
      "cell_type": "code",
      "metadata": {
        "id": "267fd3cb",
        "outputId": "904b2b67-cd17-4ffd-9a9c-7217936f4a1c"
      },
      "source": [
        "help(seasonal_decompose)"
      ],
      "id": "267fd3cb",
      "execution_count": null,
      "outputs": [
        {
          "name": "stdout",
          "output_type": "stream",
          "text": [
            "Help on function seasonal_decompose in module statsmodels.tsa.seasonal:\n",
            "\n",
            "seasonal_decompose(x, model='additive', filt=None, period=None, two_sided=True, extrapolate_trend=0)\n",
            "    Seasonal decomposition using moving averages.\n",
            "    \n",
            "    Parameters\n",
            "    ----------\n",
            "    x : array_like\n",
            "        Time series. If 2d, individual series are in columns. x must contain 2\n",
            "        complete cycles.\n",
            "    model : {\"additive\", \"multiplicative\"}, optional\n",
            "        Type of seasonal component. Abbreviations are accepted.\n",
            "    filt : array_like, optional\n",
            "        The filter coefficients for filtering out the seasonal component.\n",
            "        The concrete moving average method used in filtering is determined by\n",
            "        two_sided.\n",
            "    period : int, optional\n",
            "        Period of the series. Must be used if x is not a pandas object or if\n",
            "        the index of x does not have  a frequency. Overrides default\n",
            "        periodicity of x if x is a pandas object with a timeseries index.\n",
            "    two_sided : bool, optional\n",
            "        The moving average method used in filtering.\n",
            "        If True (default), a centered moving average is computed using the\n",
            "        filt. If False, the filter coefficients are for past values only.\n",
            "    extrapolate_trend : int or 'freq', optional\n",
            "        If set to > 0, the trend resulting from the convolution is\n",
            "        linear least-squares extrapolated on both ends (or the single one\n",
            "        if two_sided is False) considering this many (+1) closest points.\n",
            "        If set to 'freq', use `freq` closest points. Setting this parameter\n",
            "        results in no NaN values in trend or resid components.\n",
            "    \n",
            "    Returns\n",
            "    -------\n",
            "    DecomposeResult\n",
            "        A object with seasonal, trend, and resid attributes.\n",
            "    \n",
            "    See Also\n",
            "    --------\n",
            "    statsmodels.tsa.filters.bk_filter.bkfilter\n",
            "        Baxter-King filter.\n",
            "    statsmodels.tsa.filters.cf_filter.cffilter\n",
            "        Christiano-Fitzgerald asymmetric, random walk filter.\n",
            "    statsmodels.tsa.filters.hp_filter.hpfilter\n",
            "        Hodrick-Prescott filter.\n",
            "    statsmodels.tsa.filters.convolution_filter\n",
            "        Linear filtering via convolution.\n",
            "    statsmodels.tsa.seasonal.STL\n",
            "        Season-Trend decomposition using LOESS.\n",
            "    \n",
            "    Notes\n",
            "    -----\n",
            "    This is a naive decomposition. More sophisticated methods should\n",
            "    be preferred.\n",
            "    \n",
            "    The additive model is Y[t] = T[t] + S[t] + e[t]\n",
            "    \n",
            "    The multiplicative model is Y[t] = T[t] * S[t] * e[t]\n",
            "    \n",
            "    The results are obtained by first estimating the trend by applying\n",
            "    a convolution filter to the data. The trend is then removed from the\n",
            "    series and the average of this de-trended series for each period is\n",
            "    the returned seasonal component.\n",
            "\n"
          ]
        }
      ]
    },
    {
      "cell_type": "code",
      "metadata": {
        "id": "39e341f3"
      },
      "source": [
        "decomposicao = seasonal_decompose(df[['Close']], model='additive', period = 30, extrapolate_trend=30)"
      ],
      "id": "39e341f3",
      "execution_count": null,
      "outputs": []
    },
    {
      "cell_type": "code",
      "metadata": {
        "id": "844b13f0",
        "outputId": "f34d00c1-d16c-4bac-e3c5-2e2fca1a1d28"
      },
      "source": [
        "df[['Close']].plot()"
      ],
      "id": "844b13f0",
      "execution_count": null,
      "outputs": [
        {
          "data": {
            "text/plain": [
              "<AxesSubplot:xlabel='Date'>"
            ]
          },
          "execution_count": 9,
          "metadata": {},
          "output_type": "execute_result"
        },
        {
          "data": {
            "image/png": "[encoded data removed]",
            "text/plain": [
              "<Figure size 432x288 with 1 Axes>"
            ]
          },
          "metadata": {
            "needs_background": "light"
          },
          "output_type": "display_data"
        }
      ]
    },
    {
      "cell_type": "code",
      "metadata": {
        "id": "6b227668",
        "outputId": "3bb642da-3ee6-4bac-dae7-3ab51cc39a7e"
      },
      "source": [
        "df['Close'].head()"
      ],
      "id": "6b227668",
      "execution_count": null,
      "outputs": [
        {
          "data": {
            "text/plain": [
              "Date\n",
              "2018-01-02    77891.0\n",
              "2018-01-03    77995.0\n",
              "2018-01-04    78647.0\n",
              "2018-01-05    79071.0\n",
              "2018-01-08    79379.0\n",
              "Name: Close, dtype: float64"
            ]
          },
          "execution_count": 10,
          "metadata": {},
          "output_type": "execute_result"
        }
      ]
    },
    {
      "cell_type": "code",
      "metadata": {
        "id": "6bb128a4",
        "outputId": "6ad1a3a5-ff52-4a1e-977b-1904571d6f2f"
      },
      "source": [
        "decomposicao.trend + decomposicao.seasonal + decomposicao.resid"
      ],
      "id": "6bb128a4",
      "execution_count": null,
      "outputs": [
        {
          "data": {
            "text/plain": [
              "Date\n",
              "2018-01-02     77891.0\n",
              "2018-01-03     77995.0\n",
              "2018-01-04     78647.0\n",
              "2018-01-05     79071.0\n",
              "2018-01-08     79379.0\n",
              "                ...   \n",
              "2020-12-22    116348.0\n",
              "2020-12-23    117857.0\n",
              "2020-12-28    119051.0\n",
              "2020-12-29    119475.0\n",
              "2020-12-30    119306.0\n",
              "Length: 738, dtype: float64"
            ]
          },
          "execution_count": 11,
          "metadata": {},
          "output_type": "execute_result"
        }
      ]
    },
    {
      "cell_type": "code",
      "metadata": {
        "id": "fc52cf6f",
        "outputId": "0ae7dea0-ea39-40da-c966-55767e903524"
      },
      "source": [
        "decomposicao.plot()"
      ],
      "id": "fc52cf6f",
      "execution_count": null,
      "outputs": [
        {
          "data": {
            "image/png": "[encoded data removed]",
            "text/plain": [
              "<Figure size 432x288 with 4 Axes>"
            ]
          },
          "execution_count": 12,
          "metadata": {},
          "output_type": "execute_result"
        },
        {
          "data": {
            "image/png": "[encoded data removed]",
            "text/plain": [
              "<Figure size 432x288 with 4 Axes>"
            ]
          },
          "metadata": {
            "needs_background": "light"
          },
          "output_type": "display_data"
        }
      ]
    },
    {
      "cell_type": "code",
      "metadata": {
        "id": "66b30f6e"
      },
      "source": [
        "decomposicao_multi = seasonal_decompose(df[['Close']], model='multiplicative', period = 30, extrapolate_trend=30)"
      ],
      "id": "66b30f6e",
      "execution_count": null,
      "outputs": []
    },
    {
      "cell_type": "code",
      "metadata": {
        "id": "dec73ca1",
        "outputId": "a4f2a095-baf6-4dec-dcdb-1e89fc2d91f4"
      },
      "source": [
        "decomposicao_multi.seasonal"
      ],
      "id": "dec73ca1",
      "execution_count": null,
      "outputs": [
        {
          "data": {
            "text/plain": [
              "Date\n",
              "2018-01-02    0.995060\n",
              "2018-01-03    0.993866\n",
              "2018-01-04    0.992221\n",
              "2018-01-05    0.995142\n",
              "2018-01-08    0.994795\n",
              "                ...   \n",
              "2020-12-22    0.999016\n",
              "2020-12-23    0.996295\n",
              "2020-12-28    0.999866\n",
              "2020-12-29    1.000383\n",
              "2020-12-30    1.005108\n",
              "Name: seasonal, Length: 738, dtype: float64"
            ]
          },
          "execution_count": 14,
          "metadata": {},
          "output_type": "execute_result"
        }
      ]
    },
    {
      "cell_type": "code",
      "metadata": {
        "id": "8bb27ff1",
        "outputId": "1bba39bf-5add-40e9-e91a-201d2155aea1"
      },
      "source": [
        "decomposicao.seasonal"
      ],
      "id": "8bb27ff1",
      "execution_count": null,
      "outputs": [
        {
          "data": {
            "text/plain": [
              "Date\n",
              "2018-01-02   -432.417769\n",
              "2018-01-03   -530.715330\n",
              "2018-01-04   -661.547557\n",
              "2018-01-05   -386.401386\n",
              "2018-01-08   -412.778625\n",
              "                 ...    \n",
              "2020-12-22   -119.953775\n",
              "2020-12-23   -350.220348\n",
              "2020-12-28    -53.545970\n",
              "2020-12-29    -28.361648\n",
              "2020-12-30    405.056008\n",
              "Name: seasonal, Length: 738, dtype: float64"
            ]
          },
          "execution_count": 15,
          "metadata": {},
          "output_type": "execute_result"
        }
      ]
    },
    {
      "cell_type": "code",
      "metadata": {
        "id": "ca1f13f4",
        "outputId": "841076ae-e368-449a-b378-695802be8cdd"
      },
      "source": [
        "ax, fig = plt.subplots(figsize=(14,10))\n",
        "plt.plot(decomposicao.observed)\n",
        "plt.plot(decomposicao.trend)\n",
        "plt.plot(decomposicao.resid)"
      ],
      "id": "ca1f13f4",
      "execution_count": null,
      "outputs": [
        {
          "data": {
            "text/plain": [
              "[<matplotlib.lines.Line2D at 0x7f060df375b0>]"
            ]
          },
          "execution_count": 16,
          "metadata": {},
          "output_type": "execute_result"
        },
        {
          "data": {
            "image/png": "[encoded data removed]",
            "text/plain": [
              "<Figure size 1008x720 with 1 Axes>"
            ]
          },
          "metadata": {
            "needs_background": "light"
          },
          "output_type": "display_data"
        }
      ]
    },
    {
      "cell_type": "code",
      "metadata": {
        "id": "73e3d841",
        "outputId": "be0ae1a6-1485-440a-c906-85af49c4f8d6"
      },
      "source": [
        "help(df[['Close']].rolling)"
      ],
      "id": "73e3d841",
      "execution_count": null,
      "outputs": [
        {
          "name": "stdout",
          "output_type": "stream",
          "text": [
            "Help on method rolling in module pandas.core.generic:\n",
            "\n",
            "rolling(window: 'int | timedelta | BaseOffset | BaseIndexer', min_periods: 'int | None' = None, center: 'bool_t' = False, win_type: 'str | None' = None, on: 'str | None' = None, axis: 'Axis' = 0, closed: 'str | None' = None, method: 'str' = 'single') method of pandas.core.frame.DataFrame instance\n",
            "    Provide rolling window calculations.\n",
            "    \n",
            "    Parameters\n",
            "    ----------\n",
            "    window : int, offset, or BaseIndexer subclass\n",
            "        Size of the moving window. This is the number of observations used for\n",
            "        calculating the statistic. Each window will be a fixed size.\n",
            "    \n",
            "        If its an offset then this will be the time period of each window. Each\n",
            "        window will be a variable sized based on the observations included in\n",
            "        the time-period. This is only valid for datetimelike indexes.\n",
            "    \n",
            "        If a BaseIndexer subclass is passed, calculates the window boundaries\n",
            "        based on the defined ``get_window_bounds`` method. Additional rolling\n",
            "        keyword arguments, namely `min_periods`, `center`, and\n",
            "        `closed` will be passed to `get_window_bounds`.\n",
            "    min_periods : int, default None\n",
            "        Minimum number of observations in window required to have a value\n",
            "        (otherwise result is NA). For a window that is specified by an offset,\n",
            "        `min_periods` will default to 1. Otherwise, `min_periods` will default\n",
            "        to the size of the window.\n",
            "    center : bool, default False\n",
            "        Set the labels at the center of the window.\n",
            "    win_type : str, default None\n",
            "        Provide a window type. If ``None``, all points are evenly weighted.\n",
            "        See the notes below for further information.\n",
            "    on : str, optional\n",
            "        For a DataFrame, a datetime-like column or Index level on which\n",
            "        to calculate the rolling window, rather than the DataFrame's index.\n",
            "        Provided integer column is ignored and excluded from result since\n",
            "        an integer index is not used to calculate the rolling window.\n",
            "    axis : int or str, default 0\n",
            "    closed : str, default None\n",
            "        Make the interval closed on the 'right', 'left', 'both' or\n",
            "        'neither' endpoints. Defaults to 'right'.\n",
            "    \n",
            "        .. versionchanged:: 1.2.0\n",
            "    \n",
            "            The closed parameter with fixed windows is now supported.\n",
            "    method : str {'single', 'table'}, default 'single'\n",
            "        Execute the rolling operation per single column or row (``'single'``)\n",
            "        or over the entire object (``'table'``).\n",
            "    \n",
            "        This argument is only implemented when specifying ``engine='numba'``\n",
            "        in the method call.\n",
            "    \n",
            "        .. versionadded:: 1.3.0\n",
            "    \n",
            "    Returns\n",
            "    -------\n",
            "    a Window or Rolling sub-classed for the particular operation\n",
            "    \n",
            "    See Also\n",
            "    --------\n",
            "    expanding : Provides expanding transformations.\n",
            "    ewm : Provides exponential weighted functions.\n",
            "    \n",
            "    Notes\n",
            "    -----\n",
            "    By default, the result is set to the right edge of the window. This can be\n",
            "    changed to the center of the window by setting ``center=True``.\n",
            "    \n",
            "    To learn more about the offsets & frequency strings, please see `this link\n",
            "    <https://pandas.pydata.org/pandas-docs/stable/user_guide/timeseries.html#offset-aliases>`__.\n",
            "    \n",
            "    If ``win_type=None``, all points are evenly weighted; otherwise, ``win_type``\n",
            "    can accept a string of any `scipy.signal window function\n",
            "    <https://docs.scipy.org/doc/scipy/reference/signal.windows.html#module-scipy.signal.windows>`__.\n",
            "    \n",
            "    Certain Scipy window types require additional parameters to be passed\n",
            "    in the aggregation function. The additional parameters must match\n",
            "    the keywords specified in the Scipy window type method signature.\n",
            "    Please see the third example below on how to add the additional parameters.\n",
            "    \n",
            "    Examples\n",
            "    --------\n",
            "    >>> df = pd.DataFrame({'B': [0, 1, 2, np.nan, 4]})\n",
            "    >>> df\n",
            "         B\n",
            "    0  0.0\n",
            "    1  1.0\n",
            "    2  2.0\n",
            "    3  NaN\n",
            "    4  4.0\n",
            "    \n",
            "    Rolling sum with a window length of 2, using the 'triang'\n",
            "    window type.\n",
            "    \n",
            "    >>> df.rolling(2, win_type='triang').sum()\n",
            "         B\n",
            "    0  NaN\n",
            "    1  0.5\n",
            "    2  1.5\n",
            "    3  NaN\n",
            "    4  NaN\n",
            "    \n",
            "    Rolling sum with a window length of 2, using the 'gaussian'\n",
            "    window type (note how we need to specify std).\n",
            "    \n",
            "    >>> df.rolling(2, win_type='gaussian').sum(std=3)\n",
            "              B\n",
            "    0       NaN\n",
            "    1  0.986207\n",
            "    2  2.958621\n",
            "    3       NaN\n",
            "    4       NaN\n",
            "    \n",
            "    Rolling sum with a window length of 2, min_periods defaults\n",
            "    to the window length.\n",
            "    \n",
            "    >>> df.rolling(2).sum()\n",
            "         B\n",
            "    0  NaN\n",
            "    1  1.0\n",
            "    2  3.0\n",
            "    3  NaN\n",
            "    4  NaN\n",
            "    \n",
            "    Same as above, but explicitly set the min_periods\n",
            "    \n",
            "    >>> df.rolling(2, min_periods=1).sum()\n",
            "         B\n",
            "    0  0.0\n",
            "    1  1.0\n",
            "    2  3.0\n",
            "    3  2.0\n",
            "    4  4.0\n",
            "    \n",
            "    Same as above, but with forward-looking windows\n",
            "    \n",
            "    >>> indexer = pd.api.indexers.FixedForwardWindowIndexer(window_size=2)\n",
            "    >>> df.rolling(window=indexer, min_periods=1).sum()\n",
            "         B\n",
            "    0  1.0\n",
            "    1  3.0\n",
            "    2  2.0\n",
            "    3  4.0\n",
            "    4  4.0\n",
            "    \n",
            "    A ragged (meaning not-a-regular frequency), time-indexed DataFrame\n",
            "    \n",
            "    >>> df = pd.DataFrame({'B': [0, 1, 2, np.nan, 4]},\n",
            "    ...                   index = [pd.Timestamp('20130101 09:00:00'),\n",
            "    ...                            pd.Timestamp('20130101 09:00:02'),\n",
            "    ...                            pd.Timestamp('20130101 09:00:03'),\n",
            "    ...                            pd.Timestamp('20130101 09:00:05'),\n",
            "    ...                            pd.Timestamp('20130101 09:00:06')])\n",
            "    \n",
            "    >>> df\n",
            "                           B\n",
            "    2013-01-01 09:00:00  0.0\n",
            "    2013-01-01 09:00:02  1.0\n",
            "    2013-01-01 09:00:03  2.0\n",
            "    2013-01-01 09:00:05  NaN\n",
            "    2013-01-01 09:00:06  4.0\n",
            "    \n",
            "    Contrasting to an integer rolling window, this will roll a variable\n",
            "    length window corresponding to the time period.\n",
            "    The default for min_periods is 1.\n",
            "    \n",
            "    >>> df.rolling('2s').sum()\n",
            "                           B\n",
            "    2013-01-01 09:00:00  0.0\n",
            "    2013-01-01 09:00:02  1.0\n",
            "    2013-01-01 09:00:03  3.0\n",
            "    2013-01-01 09:00:05  NaN\n",
            "    2013-01-01 09:00:06  4.0\n",
            "\n"
          ]
        }
      ]
    },
    {
      "cell_type": "markdown",
      "metadata": {
        "id": "769f290e"
      },
      "source": [
        "### 3) Cálculo da média móvel"
      ],
      "id": "769f290e"
    },
    {
      "cell_type": "code",
      "metadata": {
        "id": "e0fe511f"
      },
      "source": [
        "media_movel7 = df[['Close']].rolling(7).mean()\n",
        "media_movel14 = df[['Close']].rolling(14).mean()\n",
        "media_movel21 = df[['Close']].rolling(21).mean()"
      ],
      "id": "e0fe511f",
      "execution_count": null,
      "outputs": []
    },
    {
      "cell_type": "code",
      "metadata": {
        "id": "1c9bf18c",
        "outputId": "9d96e72e-b8c7-4a4f-f060-917205bc58ef"
      },
      "source": [
        "help(df.rolling)"
      ],
      "id": "1c9bf18c",
      "execution_count": null,
      "outputs": [
        {
          "name": "stdout",
          "output_type": "stream",
          "text": [
            "Help on method rolling in module pandas.core.generic:\n",
            "\n",
            "rolling(window: 'int | timedelta | BaseOffset | BaseIndexer', min_periods: 'int | None' = None, center: 'bool_t' = False, win_type: 'str | None' = None, on: 'str | None' = None, axis: 'Axis' = 0, closed: 'str | None' = None, method: 'str' = 'single') method of pandas.core.frame.DataFrame instance\n",
            "    Provide rolling window calculations.\n",
            "    \n",
            "    Parameters\n",
            "    ----------\n",
            "    window : int, offset, or BaseIndexer subclass\n",
            "        Size of the moving window. This is the number of observations used for\n",
            "        calculating the statistic. Each window will be a fixed size.\n",
            "    \n",
            "        If its an offset then this will be the time period of each window. Each\n",
            "        window will be a variable sized based on the observations included in\n",
            "        the time-period. This is only valid for datetimelike indexes.\n",
            "    \n",
            "        If a BaseIndexer subclass is passed, calculates the window boundaries\n",
            "        based on the defined ``get_window_bounds`` method. Additional rolling\n",
            "        keyword arguments, namely `min_periods`, `center`, and\n",
            "        `closed` will be passed to `get_window_bounds`.\n",
            "    min_periods : int, default None\n",
            "        Minimum number of observations in window required to have a value\n",
            "        (otherwise result is NA). For a window that is specified by an offset,\n",
            "        `min_periods` will default to 1. Otherwise, `min_periods` will default\n",
            "        to the size of the window.\n",
            "    center : bool, default False\n",
            "        Set the labels at the center of the window.\n",
            "    win_type : str, default None\n",
            "        Provide a window type. If ``None``, all points are evenly weighted.\n",
            "        See the notes below for further information.\n",
            "    on : str, optional\n",
            "        For a DataFrame, a datetime-like column or Index level on which\n",
            "        to calculate the rolling window, rather than the DataFrame's index.\n",
            "        Provided integer column is ignored and excluded from result since\n",
            "        an integer index is not used to calculate the rolling window.\n",
            "    axis : int or str, default 0\n",
            "    closed : str, default None\n",
            "        Make the interval closed on the 'right', 'left', 'both' or\n",
            "        'neither' endpoints. Defaults to 'right'.\n",
            "    \n",
            "        .. versionchanged:: 1.2.0\n",
            "    \n",
            "            The closed parameter with fixed windows is now supported.\n",
            "    method : str {'single', 'table'}, default 'single'\n",
            "        Execute the rolling operation per single column or row (``'single'``)\n",
            "        or over the entire object (``'table'``).\n",
            "    \n",
            "        This argument is only implemented when specifying ``engine='numba'``\n",
            "        in the method call.\n",
            "    \n",
            "        .. versionadded:: 1.3.0\n",
            "    \n",
            "    Returns\n",
            "    -------\n",
            "    a Window or Rolling sub-classed for the particular operation\n",
            "    \n",
            "    See Also\n",
            "    --------\n",
            "    expanding : Provides expanding transformations.\n",
            "    ewm : Provides exponential weighted functions.\n",
            "    \n",
            "    Notes\n",
            "    -----\n",
            "    By default, the result is set to the right edge of the window. This can be\n",
            "    changed to the center of the window by setting ``center=True``.\n",
            "    \n",
            "    To learn more about the offsets & frequency strings, please see `this link\n",
            "    <https://pandas.pydata.org/pandas-docs/stable/user_guide/timeseries.html#offset-aliases>`__.\n",
            "    \n",
            "    If ``win_type=None``, all points are evenly weighted; otherwise, ``win_type``\n",
            "    can accept a string of any `scipy.signal window function\n",
            "    <https://docs.scipy.org/doc/scipy/reference/signal.windows.html#module-scipy.signal.windows>`__.\n",
            "    \n",
            "    Certain Scipy window types require additional parameters to be passed\n",
            "    in the aggregation function. The additional parameters must match\n",
            "    the keywords specified in the Scipy window type method signature.\n",
            "    Please see the third example below on how to add the additional parameters.\n",
            "    \n",
            "    Examples\n",
            "    --------\n",
            "    >>> df = pd.DataFrame({'B': [0, 1, 2, np.nan, 4]})\n",
            "    >>> df\n",
            "         B\n",
            "    0  0.0\n",
            "    1  1.0\n",
            "    2  2.0\n",
            "    3  NaN\n",
            "    4  4.0\n",
            "    \n",
            "    Rolling sum with a window length of 2, using the 'triang'\n",
            "    window type.\n",
            "    \n",
            "    >>> df.rolling(2, win_type='triang').sum()\n",
            "         B\n",
            "    0  NaN\n",
            "    1  0.5\n",
            "    2  1.5\n",
            "    3  NaN\n",
            "    4  NaN\n",
            "    \n",
            "    Rolling sum with a window length of 2, using the 'gaussian'\n",
            "    window type (note how we need to specify std).\n",
            "    \n",
            "    >>> df.rolling(2, win_type='gaussian').sum(std=3)\n",
            "              B\n",
            "    0       NaN\n",
            "    1  0.986207\n",
            "    2  2.958621\n",
            "    3       NaN\n",
            "    4       NaN\n",
            "    \n",
            "    Rolling sum with a window length of 2, min_periods defaults\n",
            "    to the window length.\n",
            "    \n",
            "    >>> df.rolling(2).sum()\n",
            "         B\n",
            "    0  NaN\n",
            "    1  1.0\n",
            "    2  3.0\n",
            "    3  NaN\n",
            "    4  NaN\n",
            "    \n",
            "    Same as above, but explicitly set the min_periods\n",
            "    \n",
            "    >>> df.rolling(2, min_periods=1).sum()\n",
            "         B\n",
            "    0  0.0\n",
            "    1  1.0\n",
            "    2  3.0\n",
            "    3  2.0\n",
            "    4  4.0\n",
            "    \n",
            "    Same as above, but with forward-looking windows\n",
            "    \n",
            "    >>> indexer = pd.api.indexers.FixedForwardWindowIndexer(window_size=2)\n",
            "    >>> df.rolling(window=indexer, min_periods=1).sum()\n",
            "         B\n",
            "    0  1.0\n",
            "    1  3.0\n",
            "    2  2.0\n",
            "    3  4.0\n",
            "    4  4.0\n",
            "    \n",
            "    A ragged (meaning not-a-regular frequency), time-indexed DataFrame\n",
            "    \n",
            "    >>> df = pd.DataFrame({'B': [0, 1, 2, np.nan, 4]},\n",
            "    ...                   index = [pd.Timestamp('20130101 09:00:00'),\n",
            "    ...                            pd.Timestamp('20130101 09:00:02'),\n",
            "    ...                            pd.Timestamp('20130101 09:00:03'),\n",
            "    ...                            pd.Timestamp('20130101 09:00:05'),\n",
            "    ...                            pd.Timestamp('20130101 09:00:06')])\n",
            "    \n",
            "    >>> df\n",
            "                           B\n",
            "    2013-01-01 09:00:00  0.0\n",
            "    2013-01-01 09:00:02  1.0\n",
            "    2013-01-01 09:00:03  2.0\n",
            "    2013-01-01 09:00:05  NaN\n",
            "    2013-01-01 09:00:06  4.0\n",
            "    \n",
            "    Contrasting to an integer rolling window, this will roll a variable\n",
            "    length window corresponding to the time period.\n",
            "    The default for min_periods is 1.\n",
            "    \n",
            "    >>> df.rolling('2s').sum()\n",
            "                           B\n",
            "    2013-01-01 09:00:00  0.0\n",
            "    2013-01-01 09:00:02  1.0\n",
            "    2013-01-01 09:00:03  3.0\n",
            "    2013-01-01 09:00:05  NaN\n",
            "    2013-01-01 09:00:06  4.0\n",
            "\n"
          ]
        }
      ]
    },
    {
      "cell_type": "code",
      "metadata": {
        "id": "94e226a9",
        "outputId": "a80b5c3a-82f9-4709-9350-0cbae8f4460f"
      },
      "source": [
        "fig, ax = plt.subplots(figsize=(10,6))\n",
        "plt.plot(media_movel7, 'black')\n",
        "plt.plot(df[['Close']],'blue')\n",
        "plt.plot(df[['Open']], 'red')"
      ],
      "id": "94e226a9",
      "execution_count": null,
      "outputs": [
        {
          "data": {
            "text/plain": [
              "[<matplotlib.lines.Line2D at 0x7f060dc61f10>]"
            ]
          },
          "execution_count": 20,
          "metadata": {},
          "output_type": "execute_result"
        },
        {
          "data": {
            "image/png": "[encoded data removed]",
            "text/plain": [
              "<Figure size 720x432 with 1 Axes>"
            ]
          },
          "metadata": {
            "needs_background": "light"
          },
          "output_type": "display_data"
        }
      ]
    },
    {
      "cell_type": "code",
      "metadata": {
        "id": "002ac7d5",
        "outputId": "4b5157e9-e798-472f-9533-3b7419cfa156"
      },
      "source": [
        "help(plt.subplots) "
      ],
      "id": "002ac7d5",
      "execution_count": null,
      "outputs": [
        {
          "name": "stdout",
          "output_type": "stream",
          "text": [
            "Help on function subplots in module matplotlib.pyplot:\n",
            "\n",
            "subplots(nrows=1, ncols=1, *, sharex=False, sharey=False, squeeze=True, subplot_kw=None, gridspec_kw=None, **fig_kw)\n",
            "    Create a figure and a set of subplots.\n",
            "    \n",
            "    This utility wrapper makes it convenient to create common layouts of\n",
            "    subplots, including the enclosing figure object, in a single call.\n",
            "    \n",
            "    Parameters\n",
            "    ----------\n",
            "    nrows, ncols : int, default: 1\n",
            "        Number of rows/columns of the subplot grid.\n",
            "    \n",
            "    sharex, sharey : bool or {'none', 'all', 'row', 'col'}, default: False\n",
            "        Controls sharing of properties among x (*sharex*) or y (*sharey*)\n",
            "        axes:\n",
            "    \n",
            "        - True or 'all': x- or y-axis will be shared among all subplots.\n",
            "        - False or 'none': each subplot x- or y-axis will be independent.\n",
            "        - 'row': each subplot row will share an x- or y-axis.\n",
            "        - 'col': each subplot column will share an x- or y-axis.\n",
            "    \n",
            "        When subplots have a shared x-axis along a column, only the x tick\n",
            "        labels of the bottom subplot are created. Similarly, when subplots\n",
            "        have a shared y-axis along a row, only the y tick labels of the first\n",
            "        column subplot are created. To later turn other subplots' ticklabels\n",
            "        on, use `~matplotlib.axes.Axes.tick_params`.\n",
            "    \n",
            "        When subplots have a shared axis that has units, calling\n",
            "        `~matplotlib.axis.Axis.set_units` will update each axis with the\n",
            "        new units.\n",
            "    \n",
            "    squeeze : bool, default: True\n",
            "        - If True, extra dimensions are squeezed out from the returned\n",
            "          array of `~matplotlib.axes.Axes`:\n",
            "    \n",
            "          - if only one subplot is constructed (nrows=ncols=1), the\n",
            "            resulting single Axes object is returned as a scalar.\n",
            "          - for Nx1 or 1xM subplots, the returned object is a 1D numpy\n",
            "            object array of Axes objects.\n",
            "          - for NxM, subplots with N>1 and M>1 are returned as a 2D array.\n",
            "    \n",
            "        - If False, no squeezing at all is done: the returned Axes object is\n",
            "          always a 2D array containing Axes instances, even if it ends up\n",
            "          being 1x1.\n",
            "    \n",
            "    subplot_kw : dict, optional\n",
            "        Dict with keywords passed to the\n",
            "        `~matplotlib.figure.Figure.add_subplot` call used to create each\n",
            "        subplot.\n",
            "    \n",
            "    gridspec_kw : dict, optional\n",
            "        Dict with keywords passed to the `~matplotlib.gridspec.GridSpec`\n",
            "        constructor used to create the grid the subplots are placed on.\n",
            "    \n",
            "    **fig_kw\n",
            "        All additional keyword arguments are passed to the\n",
            "        `.pyplot.figure` call.\n",
            "    \n",
            "    Returns\n",
            "    -------\n",
            "    fig : `~.figure.Figure`\n",
            "    \n",
            "    ax : `.axes.Axes` or array of Axes\n",
            "        *ax* can be either a single `~matplotlib.axes.Axes` object or an\n",
            "        array of Axes objects if more than one subplot was created.  The\n",
            "        dimensions of the resulting array can be controlled with the squeeze\n",
            "        keyword, see above.\n",
            "    \n",
            "        Typical idioms for handling the return value are::\n",
            "    \n",
            "            # using the variable ax for single a Axes\n",
            "            fig, ax = plt.subplots()\n",
            "    \n",
            "            # using the variable axs for multiple Axes\n",
            "            fig, axs = plt.subplots(2, 2)\n",
            "    \n",
            "            # using tuple unpacking for multiple Axes\n",
            "            fig, (ax1, ax2) = plt.subplots(1, 2)\n",
            "            fig, ((ax1, ax2), (ax3, ax4)) = plt.subplots(2, 2)\n",
            "    \n",
            "        The names ``ax`` and pluralized ``axs`` are preferred over ``axes``\n",
            "        because for the latter it's not clear if it refers to a single\n",
            "        `~.axes.Axes` instance or a collection of these.\n",
            "    \n",
            "    See Also\n",
            "    --------\n",
            "    .pyplot.figure\n",
            "    .pyplot.subplot\n",
            "    .pyplot.axes\n",
            "    .Figure.subplots\n",
            "    .Figure.add_subplot\n",
            "    \n",
            "    Examples\n",
            "    --------\n",
            "    ::\n",
            "    \n",
            "        # First create some toy data:\n",
            "        x = np.linspace(0, 2*np.pi, 400)\n",
            "        y = np.sin(x**2)\n",
            "    \n",
            "        # Create just a figure and only one subplot\n",
            "        fig, ax = plt.subplots()\n",
            "        ax.plot(x, y)\n",
            "        ax.set_title('Simple plot')\n",
            "    \n",
            "        # Create two subplots and unpack the output array immediately\n",
            "        f, (ax1, ax2) = plt.subplots(1, 2, sharey=True)\n",
            "        ax1.plot(x, y)\n",
            "        ax1.set_title('Sharing Y axis')\n",
            "        ax2.scatter(x, y)\n",
            "    \n",
            "        # Create four polar axes and access them through the returned array\n",
            "        fig, axs = plt.subplots(2, 2, subplot_kw=dict(projection=\"polar\"))\n",
            "        axs[0, 0].plot(x, y)\n",
            "        axs[1, 1].scatter(x, y)\n",
            "    \n",
            "        # Share a X axis with each column of subplots\n",
            "        plt.subplots(2, 2, sharex='col')\n",
            "    \n",
            "        # Share a Y axis with each row of subplots\n",
            "        plt.subplots(2, 2, sharey='row')\n",
            "    \n",
            "        # Share both X and Y axes with all subplots\n",
            "        plt.subplots(2, 2, sharex='all', sharey='all')\n",
            "    \n",
            "        # Note that this is the same as\n",
            "        plt.subplots(2, 2, sharex=True, sharey=True)\n",
            "    \n",
            "        # Create figure number 10 with a single subplot\n",
            "        # and clears it if it already exists.\n",
            "        fig, ax = plt.subplots(num=10, clear=True)\n",
            "\n"
          ]
        }
      ]
    },
    {
      "cell_type": "code",
      "metadata": {
        "id": "43002ca2",
        "outputId": "9003095f-d473-4b33-e475-aed94c1a7f5b"
      },
      "source": [
        "help(seasonal_decompose)"
      ],
      "id": "43002ca2",
      "execution_count": null,
      "outputs": [
        {
          "name": "stdout",
          "output_type": "stream",
          "text": [
            "Help on function seasonal_decompose in module statsmodels.tsa.seasonal:\n",
            "\n",
            "seasonal_decompose(x, model='additive', filt=None, period=None, two_sided=True, extrapolate_trend=0)\n",
            "    Seasonal decomposition using moving averages.\n",
            "    \n",
            "    Parameters\n",
            "    ----------\n",
            "    x : array_like\n",
            "        Time series. If 2d, individual series are in columns. x must contain 2\n",
            "        complete cycles.\n",
            "    model : {\"additive\", \"multiplicative\"}, optional\n",
            "        Type of seasonal component. Abbreviations are accepted.\n",
            "    filt : array_like, optional\n",
            "        The filter coefficients for filtering out the seasonal component.\n",
            "        The concrete moving average method used in filtering is determined by\n",
            "        two_sided.\n",
            "    period : int, optional\n",
            "        Period of the series. Must be used if x is not a pandas object or if\n",
            "        the index of x does not have  a frequency. Overrides default\n",
            "        periodicity of x if x is a pandas object with a timeseries index.\n",
            "    two_sided : bool, optional\n",
            "        The moving average method used in filtering.\n",
            "        If True (default), a centered moving average is computed using the\n",
            "        filt. If False, the filter coefficients are for past values only.\n",
            "    extrapolate_trend : int or 'freq', optional\n",
            "        If set to > 0, the trend resulting from the convolution is\n",
            "        linear least-squares extrapolated on both ends (or the single one\n",
            "        if two_sided is False) considering this many (+1) closest points.\n",
            "        If set to 'freq', use `freq` closest points. Setting this parameter\n",
            "        results in no NaN values in trend or resid components.\n",
            "    \n",
            "    Returns\n",
            "    -------\n",
            "    DecomposeResult\n",
            "        A object with seasonal, trend, and resid attributes.\n",
            "    \n",
            "    See Also\n",
            "    --------\n",
            "    statsmodels.tsa.filters.bk_filter.bkfilter\n",
            "        Baxter-King filter.\n",
            "    statsmodels.tsa.filters.cf_filter.cffilter\n",
            "        Christiano-Fitzgerald asymmetric, random walk filter.\n",
            "    statsmodels.tsa.filters.hp_filter.hpfilter\n",
            "        Hodrick-Prescott filter.\n",
            "    statsmodels.tsa.filters.convolution_filter\n",
            "        Linear filtering via convolution.\n",
            "    statsmodels.tsa.seasonal.STL\n",
            "        Season-Trend decomposition using LOESS.\n",
            "    \n",
            "    Notes\n",
            "    -----\n",
            "    This is a naive decomposition. More sophisticated methods should\n",
            "    be preferred.\n",
            "    \n",
            "    The additive model is Y[t] = T[t] + S[t] + e[t]\n",
            "    \n",
            "    The multiplicative model is Y[t] = T[t] * S[t] * e[t]\n",
            "    \n",
            "    The results are obtained by first estimating the trend by applying\n",
            "    a convolution filter to the data. The trend is then removed from the\n",
            "    series and the average of this de-trended series for each period is\n",
            "    the returned seasonal component.\n",
            "\n"
          ]
        }
      ]
    },
    {
      "cell_type": "markdown",
      "metadata": {
        "id": "f6900fde"
      },
      "source": [
        "#### CONTINUE..."
      ],
      "id": "f6900fde"
    },
    {
      "cell_type": "markdown",
      "metadata": {
        "id": "e51ff70e"
      },
      "source": [
        "### 4) Extraction of features"
      ],
      "id": "e51ff70e"
    },
    {
      "cell_type": "code",
      "metadata": {
        "id": "374a0214",
        "outputId": "b68e7358-e62a-4ed8-eaf1-433f6b40f671"
      },
      "source": [
        "df.head()"
      ],
      "id": "374a0214",
      "execution_count": null,
      "outputs": [
        {
          "data": {
            "text/html": [
              "<div>\n",
              "<style scoped>\n",
              "    .dataframe tbody tr th:only-of-type {\n",
              "        vertical-align: middle;\n",
              "    }\n",
              "\n",
              "    .dataframe tbody tr th {\n",
              "        vertical-align: top;\n",
              "    }\n",
              "\n",
              "    .dataframe thead th {\n",
              "        text-align: right;\n",
              "    }\n",
              "</style>\n",
              "<table border=\"1\" class=\"dataframe\">\n",
              "  <thead>\n",
              "    <tr style=\"text-align: right;\">\n",
              "      <th></th>\n",
              "      <th>Open</th>\n",
              "      <th>High</th>\n",
              "      <th>Low</th>\n",
              "      <th>Close</th>\n",
              "      <th>Volume</th>\n",
              "      <th>Dividends</th>\n",
              "      <th>Stock Splits</th>\n",
              "    </tr>\n",
              "    <tr>\n",
              "      <th>Date</th>\n",
              "      <th></th>\n",
              "      <th></th>\n",
              "      <th></th>\n",
              "      <th></th>\n",
              "      <th></th>\n",
              "      <th></th>\n",
              "      <th></th>\n",
              "    </tr>\n",
              "  </thead>\n",
              "  <tbody>\n",
              "    <tr>\n",
              "      <th>2018-01-02</th>\n",
              "      <td>76403.0</td>\n",
              "      <td>77909.0</td>\n",
              "      <td>76403.0</td>\n",
              "      <td>77891.0</td>\n",
              "      <td>2880300</td>\n",
              "      <td>0</td>\n",
              "      <td>0</td>\n",
              "    </tr>\n",
              "    <tr>\n",
              "      <th>2018-01-03</th>\n",
              "      <td>77889.0</td>\n",
              "      <td>78414.0</td>\n",
              "      <td>77602.0</td>\n",
              "      <td>77995.0</td>\n",
              "      <td>3142200</td>\n",
              "      <td>0</td>\n",
              "      <td>0</td>\n",
              "    </tr>\n",
              "    <tr>\n",
              "      <th>2018-01-04</th>\n",
              "      <td>77998.0</td>\n",
              "      <td>79135.0</td>\n",
              "      <td>77998.0</td>\n",
              "      <td>78647.0</td>\n",
              "      <td>3486100</td>\n",
              "      <td>0</td>\n",
              "      <td>0</td>\n",
              "    </tr>\n",
              "    <tr>\n",
              "      <th>2018-01-05</th>\n",
              "      <td>78644.0</td>\n",
              "      <td>79071.0</td>\n",
              "      <td>78218.0</td>\n",
              "      <td>79071.0</td>\n",
              "      <td>2747100</td>\n",
              "      <td>0</td>\n",
              "      <td>0</td>\n",
              "    </tr>\n",
              "    <tr>\n",
              "      <th>2018-01-08</th>\n",
              "      <td>79070.0</td>\n",
              "      <td>79395.0</td>\n",
              "      <td>78631.0</td>\n",
              "      <td>79379.0</td>\n",
              "      <td>2550800</td>\n",
              "      <td>0</td>\n",
              "      <td>0</td>\n",
              "    </tr>\n",
              "  </tbody>\n",
              "</table>\n",
              "</div>"
            ],
            "text/plain": [
              "               Open     High      Low    Close   Volume  Dividends  \\\n",
              "Date                                                                 \n",
              "2018-01-02  76403.0  77909.0  76403.0  77891.0  2880300          0   \n",
              "2018-01-03  77889.0  78414.0  77602.0  77995.0  3142200          0   \n",
              "2018-01-04  77998.0  79135.0  77998.0  78647.0  3486100          0   \n",
              "2018-01-05  78644.0  79071.0  78218.0  79071.0  2747100          0   \n",
              "2018-01-08  79070.0  79395.0  78631.0  79379.0  2550800          0   \n",
              "\n",
              "            Stock Splits  \n",
              "Date                      \n",
              "2018-01-02             0  \n",
              "2018-01-03             0  \n",
              "2018-01-04             0  \n",
              "2018-01-05             0  \n",
              "2018-01-08             0  "
            ]
          },
          "execution_count": 23,
          "metadata": {},
          "output_type": "execute_result"
        }
      ]
    },
    {
      "cell_type": "code",
      "metadata": {
        "id": "024de5db",
        "outputId": "cec5850e-b12c-45e4-81ed-0c56c4f1fc3e"
      },
      "source": [
        "help(df.reset_index)"
      ],
      "id": "024de5db",
      "execution_count": null,
      "outputs": [
        {
          "name": "stdout",
          "output_type": "stream",
          "text": [
            "Help on method reset_index in module pandas.core.frame:\n",
            "\n",
            "reset_index(level: 'Hashable | Sequence[Hashable] | None' = None, drop: 'bool' = False, inplace: 'bool' = False, col_level: 'Hashable' = 0, col_fill: 'Hashable' = '') -> 'DataFrame | None' method of pandas.core.frame.DataFrame instance\n",
            "    Reset the index, or a level of it.\n",
            "    \n",
            "    Reset the index of the DataFrame, and use the default one instead.\n",
            "    If the DataFrame has a MultiIndex, this method can remove one or more\n",
            "    levels.\n",
            "    \n",
            "    Parameters\n",
            "    ----------\n",
            "    level : int, str, tuple, or list, default None\n",
            "        Only remove the given levels from the index. Removes all levels by\n",
            "        default.\n",
            "    drop : bool, default False\n",
            "        Do not try to insert index into dataframe columns. This resets\n",
            "        the index to the default integer index.\n",
            "    inplace : bool, default False\n",
            "        Modify the DataFrame in place (do not create a new object).\n",
            "    col_level : int or str, default 0\n",
            "        If the columns have multiple levels, determines which level the\n",
            "        labels are inserted into. By default it is inserted into the first\n",
            "        level.\n",
            "    col_fill : object, default ''\n",
            "        If the columns have multiple levels, determines how the other\n",
            "        levels are named. If None then the index name is repeated.\n",
            "    \n",
            "    Returns\n",
            "    -------\n",
            "    DataFrame or None\n",
            "        DataFrame with the new index or None if ``inplace=True``.\n",
            "    \n",
            "    See Also\n",
            "    --------\n",
            "    DataFrame.set_index : Opposite of reset_index.\n",
            "    DataFrame.reindex : Change to new indices or expand indices.\n",
            "    DataFrame.reindex_like : Change to same indices as other DataFrame.\n",
            "    \n",
            "    Examples\n",
            "    --------\n",
            "    >>> df = pd.DataFrame([('bird', 389.0),\n",
            "    ...                    ('bird', 24.0),\n",
            "    ...                    ('mammal', 80.5),\n",
            "    ...                    ('mammal', np.nan)],\n",
            "    ...                   index=['falcon', 'parrot', 'lion', 'monkey'],\n",
            "    ...                   columns=('class', 'max_speed'))\n",
            "    >>> df\n",
            "             class  max_speed\n",
            "    falcon    bird      389.0\n",
            "    parrot    bird       24.0\n",
            "    lion    mammal       80.5\n",
            "    monkey  mammal        NaN\n",
            "    \n",
            "    When we reset the index, the old index is added as a column, and a\n",
            "    new sequential index is used:\n",
            "    \n",
            "    >>> df.reset_index()\n",
            "        index   class  max_speed\n",
            "    0  falcon    bird      389.0\n",
            "    1  parrot    bird       24.0\n",
            "    2    lion  mammal       80.5\n",
            "    3  monkey  mammal        NaN\n",
            "    \n",
            "    We can use the `drop` parameter to avoid the old index being added as\n",
            "    a column:\n",
            "    \n",
            "    >>> df.reset_index(drop=True)\n",
            "        class  max_speed\n",
            "    0    bird      389.0\n",
            "    1    bird       24.0\n",
            "    2  mammal       80.5\n",
            "    3  mammal        NaN\n",
            "    \n",
            "    You can also use `reset_index` with `MultiIndex`.\n",
            "    \n",
            "    >>> index = pd.MultiIndex.from_tuples([('bird', 'falcon'),\n",
            "    ...                                    ('bird', 'parrot'),\n",
            "    ...                                    ('mammal', 'lion'),\n",
            "    ...                                    ('mammal', 'monkey')],\n",
            "    ...                                   names=['class', 'name'])\n",
            "    >>> columns = pd.MultiIndex.from_tuples([('speed', 'max'),\n",
            "    ...                                      ('species', 'type')])\n",
            "    >>> df = pd.DataFrame([(389.0, 'fly'),\n",
            "    ...                    ( 24.0, 'fly'),\n",
            "    ...                    ( 80.5, 'run'),\n",
            "    ...                    (np.nan, 'jump')],\n",
            "    ...                   index=index,\n",
            "    ...                   columns=columns)\n",
            "    >>> df\n",
            "                   speed species\n",
            "                     max    type\n",
            "    class  name\n",
            "    bird   falcon  389.0     fly\n",
            "           parrot   24.0     fly\n",
            "    mammal lion     80.5     run\n",
            "           monkey    NaN    jump\n",
            "    \n",
            "    If the index has multiple levels, we can reset a subset of them:\n",
            "    \n",
            "    >>> df.reset_index(level='class')\n",
            "             class  speed species\n",
            "                      max    type\n",
            "    name\n",
            "    falcon    bird  389.0     fly\n",
            "    parrot    bird   24.0     fly\n",
            "    lion    mammal   80.5     run\n",
            "    monkey  mammal    NaN    jump\n",
            "    \n",
            "    If we are not dropping the index, by default, it is placed in the top\n",
            "    level. We can place it in another level:\n",
            "    \n",
            "    >>> df.reset_index(level='class', col_level=1)\n",
            "                    speed species\n",
            "             class    max    type\n",
            "    name\n",
            "    falcon    bird  389.0     fly\n",
            "    parrot    bird   24.0     fly\n",
            "    lion    mammal   80.5     run\n",
            "    monkey  mammal    NaN    jump\n",
            "    \n",
            "    When the index is inserted under another level, we can specify under\n",
            "    which one with the parameter `col_fill`:\n",
            "    \n",
            "    >>> df.reset_index(level='class', col_level=1, col_fill='species')\n",
            "                  species  speed species\n",
            "                    class    max    type\n",
            "    name\n",
            "    falcon           bird  389.0     fly\n",
            "    parrot           bird   24.0     fly\n",
            "    lion           mammal   80.5     run\n",
            "    monkey         mammal    NaN    jump\n",
            "    \n",
            "    If we specify a nonexistent level for `col_fill`, it is created:\n",
            "    \n",
            "    >>> df.reset_index(level='class', col_level=1, col_fill='genus')\n",
            "                    genus  speed species\n",
            "                    class    max    type\n",
            "    name\n",
            "    falcon           bird  389.0     fly\n",
            "    parrot           bird   24.0     fly\n",
            "    lion           mammal   80.5     run\n",
            "    monkey         mammal    NaN    jump\n",
            "\n"
          ]
        }
      ]
    },
    {
      "cell_type": "code",
      "metadata": {
        "id": "7663add7"
      },
      "source": [
        "df.reset_index(inplace=True)"
      ],
      "id": "7663add7",
      "execution_count": null,
      "outputs": []
    },
    {
      "cell_type": "code",
      "metadata": {
        "id": "77fd84dd",
        "outputId": "a02d2fcb-8d2f-4819-bc69-f6c0ae925e2c"
      },
      "source": [
        "df.shape"
      ],
      "id": "77fd84dd",
      "execution_count": null,
      "outputs": [
        {
          "data": {
            "text/plain": [
              "(738, 8)"
            ]
          },
          "execution_count": 26,
          "metadata": {},
          "output_type": "execute_result"
        }
      ]
    },
    {
      "cell_type": "code",
      "metadata": {
        "id": "dcea4643"
      },
      "source": [
        "# Make a features for each time cource\n",
        "df['Year'] = df['Date'].dt.year\n",
        "df['Month'] = df['Date'].dt.month\n",
        "df['Day'] = df['Date'].dt.day"
      ],
      "id": "dcea4643",
      "execution_count": null,
      "outputs": []
    },
    {
      "cell_type": "code",
      "metadata": {
        "id": "6c6430e8",
        "outputId": "f6f42c67-38f9-40c5-ddbc-73e851f9ae55"
      },
      "source": [
        "df"
      ],
      "id": "6c6430e8",
      "execution_count": null,
      "outputs": [
        {
          "data": {
            "text/html": [
              "<div>\n",
              "<style scoped>\n",
              "    .dataframe tbody tr th:only-of-type {\n",
              "        vertical-align: middle;\n",
              "    }\n",
              "\n",
              "    .dataframe tbody tr th {\n",
              "        vertical-align: top;\n",
              "    }\n",
              "\n",
              "    .dataframe thead th {\n",
              "        text-align: right;\n",
              "    }\n",
              "</style>\n",
              "<table border=\"1\" class=\"dataframe\">\n",
              "  <thead>\n",
              "    <tr style=\"text-align: right;\">\n",
              "      <th></th>\n",
              "      <th>Date</th>\n",
              "      <th>Open</th>\n",
              "      <th>High</th>\n",
              "      <th>Low</th>\n",
              "      <th>Close</th>\n",
              "      <th>Volume</th>\n",
              "      <th>Dividends</th>\n",
              "      <th>Stock Splits</th>\n",
              "      <th>Year</th>\n",
              "      <th>Month</th>\n",
              "      <th>Day</th>\n",
              "    </tr>\n",
              "  </thead>\n",
              "  <tbody>\n",
              "    <tr>\n",
              "      <th>0</th>\n",
              "      <td>2018-01-02</td>\n",
              "      <td>76403.0</td>\n",
              "      <td>77909.0</td>\n",
              "      <td>76403.0</td>\n",
              "      <td>77891.0</td>\n",
              "      <td>2880300</td>\n",
              "      <td>0</td>\n",
              "      <td>0</td>\n",
              "      <td>2018</td>\n",
              "      <td>1</td>\n",
              "      <td>2</td>\n",
              "    </tr>\n",
              "    <tr>\n",
              "      <th>1</th>\n",
              "      <td>2018-01-03</td>\n",
              "      <td>77889.0</td>\n",
              "      <td>78414.0</td>\n",
              "      <td>77602.0</td>\n",
              "      <td>77995.0</td>\n",
              "      <td>3142200</td>\n",
              "      <td>0</td>\n",
              "      <td>0</td>\n",
              "      <td>2018</td>\n",
              "      <td>1</td>\n",
              "      <td>3</td>\n",
              "    </tr>\n",
              "    <tr>\n",
              "      <th>2</th>\n",
              "      <td>2018-01-04</td>\n",
              "      <td>77998.0</td>\n",
              "      <td>79135.0</td>\n",
              "      <td>77998.0</td>\n",
              "      <td>78647.0</td>\n",
              "      <td>3486100</td>\n",
              "      <td>0</td>\n",
              "      <td>0</td>\n",
              "      <td>2018</td>\n",
              "      <td>1</td>\n",
              "      <td>4</td>\n",
              "    </tr>\n",
              "    <tr>\n",
              "      <th>3</th>\n",
              "      <td>2018-01-05</td>\n",
              "      <td>78644.0</td>\n",
              "      <td>79071.0</td>\n",
              "      <td>78218.0</td>\n",
              "      <td>79071.0</td>\n",
              "      <td>2747100</td>\n",
              "      <td>0</td>\n",
              "      <td>0</td>\n",
              "      <td>2018</td>\n",
              "      <td>1</td>\n",
              "      <td>5</td>\n",
              "    </tr>\n",
              "    <tr>\n",
              "      <th>4</th>\n",
              "      <td>2018-01-08</td>\n",
              "      <td>79070.0</td>\n",
              "      <td>79395.0</td>\n",
              "      <td>78631.0</td>\n",
              "      <td>79379.0</td>\n",
              "      <td>2550800</td>\n",
              "      <td>0</td>\n",
              "      <td>0</td>\n",
              "      <td>2018</td>\n",
              "      <td>1</td>\n",
              "      <td>8</td>\n",
              "    </tr>\n",
              "    <tr>\n",
              "      <th>...</th>\n",
              "      <td>...</td>\n",
              "      <td>...</td>\n",
              "      <td>...</td>\n",
              "      <td>...</td>\n",
              "      <td>...</td>\n",
              "      <td>...</td>\n",
              "      <td>...</td>\n",
              "      <td>...</td>\n",
              "      <td>...</td>\n",
              "      <td>...</td>\n",
              "      <td>...</td>\n",
              "    </tr>\n",
              "    <tr>\n",
              "      <th>733</th>\n",
              "      <td>2020-12-22</td>\n",
              "      <td>115825.0</td>\n",
              "      <td>116903.0</td>\n",
              "      <td>115648.0</td>\n",
              "      <td>116348.0</td>\n",
              "      <td>6947900</td>\n",
              "      <td>0</td>\n",
              "      <td>0</td>\n",
              "      <td>2020</td>\n",
              "      <td>12</td>\n",
              "      <td>22</td>\n",
              "    </tr>\n",
              "    <tr>\n",
              "      <th>734</th>\n",
              "      <td>2020-12-23</td>\n",
              "      <td>116636.0</td>\n",
              "      <td>118311.0</td>\n",
              "      <td>116636.0</td>\n",
              "      <td>117857.0</td>\n",
              "      <td>6483300</td>\n",
              "      <td>0</td>\n",
              "      <td>0</td>\n",
              "      <td>2020</td>\n",
              "      <td>12</td>\n",
              "      <td>23</td>\n",
              "    </tr>\n",
              "    <tr>\n",
              "      <th>735</th>\n",
              "      <td>2020-12-28</td>\n",
              "      <td>117806.0</td>\n",
              "      <td>119213.0</td>\n",
              "      <td>117805.0</td>\n",
              "      <td>119051.0</td>\n",
              "      <td>7171700</td>\n",
              "      <td>0</td>\n",
              "      <td>0</td>\n",
              "      <td>2020</td>\n",
              "      <td>12</td>\n",
              "      <td>28</td>\n",
              "    </tr>\n",
              "    <tr>\n",
              "      <th>736</th>\n",
              "      <td>2020-12-29</td>\n",
              "      <td>119130.0</td>\n",
              "      <td>119861.0</td>\n",
              "      <td>118750.0</td>\n",
              "      <td>119475.0</td>\n",
              "      <td>6769700</td>\n",
              "      <td>0</td>\n",
              "      <td>0</td>\n",
              "      <td>2020</td>\n",
              "      <td>12</td>\n",
              "      <td>29</td>\n",
              "    </tr>\n",
              "    <tr>\n",
              "      <th>737</th>\n",
              "      <td>2020-12-30</td>\n",
              "      <td>119410.0</td>\n",
              "      <td>120150.0</td>\n",
              "      <td>118919.0</td>\n",
              "      <td>119306.0</td>\n",
              "      <td>8235700</td>\n",
              "      <td>0</td>\n",
              "      <td>0</td>\n",
              "      <td>2020</td>\n",
              "      <td>12</td>\n",
              "      <td>30</td>\n",
              "    </tr>\n",
              "  </tbody>\n",
              "</table>\n",
              "<p>738 rows × 11 columns</p>\n",
              "</div>"
            ],
            "text/plain": [
              "          Date      Open      High       Low     Close   Volume  Dividends  \\\n",
              "0   2018-01-02   76403.0   77909.0   76403.0   77891.0  2880300          0   \n",
              "1   2018-01-03   77889.0   78414.0   77602.0   77995.0  3142200          0   \n",
              "2   2018-01-04   77998.0   79135.0   77998.0   78647.0  3486100          0   \n",
              "3   2018-01-05   78644.0   79071.0   78218.0   79071.0  2747100          0   \n",
              "4   2018-01-08   79070.0   79395.0   78631.0   79379.0  2550800          0   \n",
              "..         ...       ...       ...       ...       ...      ...        ...   \n",
              "733 2020-12-22  115825.0  116903.0  115648.0  116348.0  6947900          0   \n",
              "734 2020-12-23  116636.0  118311.0  116636.0  117857.0  6483300          0   \n",
              "735 2020-12-28  117806.0  119213.0  117805.0  119051.0  7171700          0   \n",
              "736 2020-12-29  119130.0  119861.0  118750.0  119475.0  6769700          0   \n",
              "737 2020-12-30  119410.0  120150.0  118919.0  119306.0  8235700          0   \n",
              "\n",
              "     Stock Splits  Year  Month  Day  \n",
              "0               0  2018      1    2  \n",
              "1               0  2018      1    3  \n",
              "2               0  2018      1    4  \n",
              "3               0  2018      1    5  \n",
              "4               0  2018      1    8  \n",
              "..            ...   ...    ...  ...  \n",
              "733             0  2020     12   22  \n",
              "734             0  2020     12   23  \n",
              "735             0  2020     12   28  \n",
              "736             0  2020     12   29  \n",
              "737             0  2020     12   30  \n",
              "\n",
              "[738 rows x 11 columns]"
            ]
          },
          "execution_count": 28,
          "metadata": {},
          "output_type": "execute_result"
        }
      ]
    },
    {
      "cell_type": "code",
      "metadata": {
        "id": "17e07d41",
        "outputId": "9ebc9755-6ad6-4ca6-a028-5d6bb0e95179"
      },
      "source": [
        "# Rentability is the actual price/previus price * 100 - 100\n",
        "df[['Close']]"
      ],
      "id": "17e07d41",
      "execution_count": null,
      "outputs": [
        {
          "data": {
            "text/html": [
              "<div>\n",
              "<style scoped>\n",
              "    .dataframe tbody tr th:only-of-type {\n",
              "        vertical-align: middle;\n",
              "    }\n",
              "\n",
              "    .dataframe tbody tr th {\n",
              "        vertical-align: top;\n",
              "    }\n",
              "\n",
              "    .dataframe thead th {\n",
              "        text-align: right;\n",
              "    }\n",
              "</style>\n",
              "<table border=\"1\" class=\"dataframe\">\n",
              "  <thead>\n",
              "    <tr style=\"text-align: right;\">\n",
              "      <th></th>\n",
              "      <th>Close</th>\n",
              "    </tr>\n",
              "  </thead>\n",
              "  <tbody>\n",
              "    <tr>\n",
              "      <th>0</th>\n",
              "      <td>77891.0</td>\n",
              "    </tr>\n",
              "    <tr>\n",
              "      <th>1</th>\n",
              "      <td>77995.0</td>\n",
              "    </tr>\n",
              "    <tr>\n",
              "      <th>2</th>\n",
              "      <td>78647.0</td>\n",
              "    </tr>\n",
              "    <tr>\n",
              "      <th>3</th>\n",
              "      <td>79071.0</td>\n",
              "    </tr>\n",
              "    <tr>\n",
              "      <th>4</th>\n",
              "      <td>79379.0</td>\n",
              "    </tr>\n",
              "    <tr>\n",
              "      <th>...</th>\n",
              "      <td>...</td>\n",
              "    </tr>\n",
              "    <tr>\n",
              "      <th>733</th>\n",
              "      <td>116348.0</td>\n",
              "    </tr>\n",
              "    <tr>\n",
              "      <th>734</th>\n",
              "      <td>117857.0</td>\n",
              "    </tr>\n",
              "    <tr>\n",
              "      <th>735</th>\n",
              "      <td>119051.0</td>\n",
              "    </tr>\n",
              "    <tr>\n",
              "      <th>736</th>\n",
              "      <td>119475.0</td>\n",
              "    </tr>\n",
              "    <tr>\n",
              "      <th>737</th>\n",
              "      <td>119306.0</td>\n",
              "    </tr>\n",
              "  </tbody>\n",
              "</table>\n",
              "<p>738 rows × 1 columns</p>\n",
              "</div>"
            ],
            "text/plain": [
              "        Close\n",
              "0     77891.0\n",
              "1     77995.0\n",
              "2     78647.0\n",
              "3     79071.0\n",
              "4     79379.0\n",
              "..        ...\n",
              "733  116348.0\n",
              "734  117857.0\n",
              "735  119051.0\n",
              "736  119475.0\n",
              "737  119306.0\n",
              "\n",
              "[738 rows x 1 columns]"
            ]
          },
          "execution_count": 29,
          "metadata": {},
          "output_type": "execute_result"
        }
      ]
    },
    {
      "cell_type": "code",
      "metadata": {
        "id": "6cffae51",
        "outputId": "34051cba-5774-4f56-9e86-1564927bda57"
      },
      "source": [
        "vector = [1,2,3,4,5]\n",
        "vector = pd.Series(vector)\n",
        "print(vector.shift())"
      ],
      "id": "6cffae51",
      "execution_count": null,
      "outputs": [
        {
          "name": "stdout",
          "output_type": "stream",
          "text": [
            "0    NaN\n",
            "1    1.0\n",
            "2    2.0\n",
            "3    3.0\n",
            "4    4.0\n",
            "dtype: float64\n"
          ]
        }
      ]
    },
    {
      "cell_type": "code",
      "metadata": {
        "id": "0139fa85"
      },
      "source": [
        "df['Rentability'] = (df['Close']/df['Close'].shift()) * 100 - 100\n",
        "df['Rentability'] = round(df['Rentability'],2)"
      ],
      "id": "0139fa85",
      "execution_count": null,
      "outputs": []
    },
    {
      "cell_type": "code",
      "metadata": {
        "id": "75e64ef0",
        "outputId": "99576831-84b9-410e-ec56-429fc9616c8d"
      },
      "source": [
        "df[['Close','Rentability']].head()"
      ],
      "id": "75e64ef0",
      "execution_count": null,
      "outputs": [
        {
          "data": {
            "text/html": [
              "<div>\n",
              "<style scoped>\n",
              "    .dataframe tbody tr th:only-of-type {\n",
              "        vertical-align: middle;\n",
              "    }\n",
              "\n",
              "    .dataframe tbody tr th {\n",
              "        vertical-align: top;\n",
              "    }\n",
              "\n",
              "    .dataframe thead th {\n",
              "        text-align: right;\n",
              "    }\n",
              "</style>\n",
              "<table border=\"1\" class=\"dataframe\">\n",
              "  <thead>\n",
              "    <tr style=\"text-align: right;\">\n",
              "      <th></th>\n",
              "      <th>Close</th>\n",
              "      <th>Rentability</th>\n",
              "    </tr>\n",
              "  </thead>\n",
              "  <tbody>\n",
              "    <tr>\n",
              "      <th>0</th>\n",
              "      <td>77891.0</td>\n",
              "      <td>NaN</td>\n",
              "    </tr>\n",
              "    <tr>\n",
              "      <th>1</th>\n",
              "      <td>77995.0</td>\n",
              "      <td>0.13</td>\n",
              "    </tr>\n",
              "    <tr>\n",
              "      <th>2</th>\n",
              "      <td>78647.0</td>\n",
              "      <td>0.84</td>\n",
              "    </tr>\n",
              "    <tr>\n",
              "      <th>3</th>\n",
              "      <td>79071.0</td>\n",
              "      <td>0.54</td>\n",
              "    </tr>\n",
              "    <tr>\n",
              "      <th>4</th>\n",
              "      <td>79379.0</td>\n",
              "      <td>0.39</td>\n",
              "    </tr>\n",
              "  </tbody>\n",
              "</table>\n",
              "</div>"
            ],
            "text/plain": [
              "     Close  Rentability\n",
              "0  77891.0          NaN\n",
              "1  77995.0         0.13\n",
              "2  78647.0         0.84\n",
              "3  79071.0         0.54\n",
              "4  79379.0         0.39"
            ]
          },
          "execution_count": 35,
          "metadata": {},
          "output_type": "execute_result"
        }
      ]
    },
    {
      "cell_type": "code",
      "metadata": {
        "id": "3a3fa4f3",
        "outputId": "a61e6509-a1d4-460c-cb52-82dbb263df1e"
      },
      "source": [
        "df['Rentability'].max()"
      ],
      "id": "3a3fa4f3",
      "execution_count": null,
      "outputs": [
        {
          "data": {
            "text/plain": [
              "13.91"
            ]
          },
          "execution_count": 36,
          "metadata": {},
          "output_type": "execute_result"
        }
      ]
    },
    {
      "cell_type": "code",
      "metadata": {
        "id": "afa63396",
        "outputId": "5b057a43-c7c1-4473-d3d7-3f008bd505f1"
      },
      "source": [
        "df[df['Rentability'] == df['Rentability'].max()]"
      ],
      "id": "afa63396",
      "execution_count": null,
      "outputs": [
        {
          "data": {
            "text/html": [
              "<div>\n",
              "<style scoped>\n",
              "    .dataframe tbody tr th:only-of-type {\n",
              "        vertical-align: middle;\n",
              "    }\n",
              "\n",
              "    .dataframe tbody tr th {\n",
              "        vertical-align: top;\n",
              "    }\n",
              "\n",
              "    .dataframe thead th {\n",
              "        text-align: right;\n",
              "    }\n",
              "</style>\n",
              "<table border=\"1\" class=\"dataframe\">\n",
              "  <thead>\n",
              "    <tr style=\"text-align: right;\">\n",
              "      <th></th>\n",
              "      <th>Date</th>\n",
              "      <th>Open</th>\n",
              "      <th>High</th>\n",
              "      <th>Low</th>\n",
              "      <th>Close</th>\n",
              "      <th>Volume</th>\n",
              "      <th>Dividends</th>\n",
              "      <th>Stock Splits</th>\n",
              "      <th>Year</th>\n",
              "      <th>Month</th>\n",
              "      <th>Day</th>\n",
              "      <th>Rentability</th>\n",
              "    </tr>\n",
              "  </thead>\n",
              "  <tbody>\n",
              "    <tr>\n",
              "      <th>539</th>\n",
              "      <td>2020-03-13</td>\n",
              "      <td>72621.0</td>\n",
              "      <td>83758.0</td>\n",
              "      <td>72621.0</td>\n",
              "      <td>82678.0</td>\n",
              "      <td>15766300</td>\n",
              "      <td>0</td>\n",
              "      <td>0</td>\n",
              "      <td>2020</td>\n",
              "      <td>3</td>\n",
              "      <td>13</td>\n",
              "      <td>13.91</td>\n",
              "    </tr>\n",
              "  </tbody>\n",
              "</table>\n",
              "</div>"
            ],
            "text/plain": [
              "          Date     Open     High      Low    Close    Volume  Dividends  \\\n",
              "539 2020-03-13  72621.0  83758.0  72621.0  82678.0  15766300          0   \n",
              "\n",
              "     Stock Splits  Year  Month  Day  Rentability  \n",
              "539             0  2020      3   13        13.91  "
            ]
          },
          "execution_count": 37,
          "metadata": {},
          "output_type": "execute_result"
        }
      ]
    },
    {
      "cell_type": "code",
      "metadata": {
        "id": "05d12ae5",
        "outputId": "e5393f3b-3734-4bf7-f8ad-4126e4e20e8e"
      },
      "source": [
        "fig, ax = plt.subplots(figsize = (10,9))\n",
        "plt.plot(df['Rentability'])\n",
        "plt.show()"
      ],
      "id": "05d12ae5",
      "execution_count": null,
      "outputs": [
        {
          "data": {
            "image/png": "[encoded data removed]",
            "text/plain": [
              "<Figure size 720x648 with 1 Axes>"
            ]
          },
          "metadata": {
            "needs_background": "light"
          },
          "output_type": "display_data"
        }
      ]
    },
    {
      "cell_type": "code",
      "metadata": {
        "id": "16df901c"
      },
      "source": [
        "# Function to extract the features\n",
        "def extraction_features(df):\n",
        "    df['Year'] = df['Date'].dt.year\n",
        "    df['Month'] = df['Date'].dt.month\n",
        "    df['Day'] = df['Date'].dt.day\n",
        "    df['Rentability'] = round(df['Close']/df['Close'].shift() * 100 -100,3)"
      ],
      "id": "16df901c",
      "execution_count": null,
      "outputs": []
    },
    {
      "cell_type": "markdown",
      "metadata": {
        "id": "b2c40f9c"
      },
      "source": [
        "### Hypothesis 1) What's the best month to do my investment?"
      ],
      "id": "b2c40f9c"
    },
    {
      "cell_type": "code",
      "metadata": {
        "id": "ecadf012",
        "outputId": "e5f66b92-446b-447c-d68a-6cc50ca90def"
      },
      "source": [
        "df.groupby(by='Month').mean()['Rentability'].plot(kind='bar')"
      ],
      "id": "ecadf012",
      "execution_count": null,
      "outputs": [
        {
          "data": {
            "text/plain": [
              "<AxesSubplot:xlabel='Month'>"
            ]
          },
          "execution_count": 48,
          "metadata": {},
          "output_type": "execute_result"
        },
        {
          "data": {
            "image/png": "[encoded data removed]",
            "text/plain": [
              "<Figure size 432x288 with 1 Axes>"
            ]
          },
          "metadata": {
            "needs_background": "light"
          },
          "output_type": "display_data"
        }
      ]
    },
    {
      "cell_type": "markdown",
      "metadata": {
        "id": "b096067a"
      },
      "source": [
        "### And the best day?"
      ],
      "id": "b096067a"
    },
    {
      "cell_type": "code",
      "metadata": {
        "id": "554d1a21",
        "outputId": "cf635966-5788-471b-83e3-23e094632556"
      },
      "source": [
        "df.groupby(by='Day').mean()['Rentability'].plot(kind='bar')"
      ],
      "id": "554d1a21",
      "execution_count": null,
      "outputs": [
        {
          "data": {
            "text/plain": [
              "<AxesSubplot:xlabel='Day'>"
            ]
          },
          "execution_count": 49,
          "metadata": {},
          "output_type": "execute_result"
        },
        {
          "data": {
            "image/png": "[encoded data removed]",
            "text/plain": [
              "<Figure size 432x288 with 1 Axes>"
            ]
          },
          "metadata": {
            "needs_background": "light"
          },
          "output_type": "display_data"
        }
      ]
    },
    {
      "cell_type": "code",
      "metadata": {
        "id": "fbcca969"
      },
      "source": [
        "companys = ['TLSA','KO','MSFT','GOOGL']"
      ],
      "id": "fbcca969",
      "execution_count": null,
      "outputs": []
    },
    {
      "cell_type": "code",
      "metadata": {
        "id": "82dde296",
        "outputId": "5b913df2-f867-4b84-f1d0-14de96657d6f"
      },
      "source": [
        "dfs = []\n",
        "for c in companys:\n",
        "    ticker = yf.Ticker(c)\n",
        "    df_aux = ticker.history(interval='1d', start='2018-01-01', end='2021-10-10')\n",
        "    df_aux.reset_index(inplace=True)\n",
        "    df_aux['Ticker'] = c\n",
        "    dfs.append(df_aux)\n",
        "    print(f'Company {c} readed.')"
      ],
      "id": "82dde296",
      "execution_count": null,
      "outputs": [
        {
          "name": "stdout",
          "output_type": "stream",
          "text": [
            "Company TLSA readed.\n",
            "Company KO readed.\n",
            "Company MSFT readed.\n",
            "Company GOOGL readed.\n"
          ]
        }
      ]
    },
    {
      "cell_type": "code",
      "metadata": {
        "id": "d98fa115",
        "outputId": "2d8bb486-93af-49fa-a7da-d54fefc40acc"
      },
      "source": [
        "dfs"
      ],
      "id": "d98fa115",
      "execution_count": null,
      "outputs": [
        {
          "data": {
            "text/plain": [
              "[          Date      Open      High       Low     Close  Volume  Dividends  \\\n",
              " 0   2018-11-20  2.100840  2.100840  1.670668  1.670668   87465          0   \n",
              " 1   2018-11-21  1.838735  2.434974  1.838735  2.118848   38984          0   \n",
              " 2   2018-11-23  2.200880  2.200880  1.958784  1.960784   14994          0   \n",
              " 3   2018-11-26  1.940776  1.940776  1.552621  1.676671   24990          0   \n",
              " 4   2018-11-27  1.760704  1.800720  1.700680  1.792717   21991          0   \n",
              " ..         ...       ...       ...       ...       ...     ...        ...   \n",
              " 704 2021-10-04  1.410000  1.430000  1.390000  1.410000   88700          0   \n",
              " 705 2021-10-05  1.400000  1.430000  1.370000  1.410000  137900          0   \n",
              " 706 2021-10-06  1.380000  1.450000  1.360000  1.420000   67700          0   \n",
              " 707 2021-10-07  1.410000  1.420000  1.380000  1.400000   58900          0   \n",
              " 708 2021-10-08  1.390000  1.450000  1.380000  1.400000   62400          0   \n",
              " \n",
              "      Stock Splits Ticker  \n",
              " 0             0.0   TLSA  \n",
              " 1             0.0   TLSA  \n",
              " 2             0.0   TLSA  \n",
              " 3             0.0   TLSA  \n",
              " 4             0.0   TLSA  \n",
              " ..            ...    ...  \n",
              " 704           0.0   TLSA  \n",
              " 705           0.0   TLSA  \n",
              " 706           0.0   TLSA  \n",
              " 707           0.0   TLSA  \n",
              " 708           0.0   TLSA  \n",
              " \n",
              " [709 rows x 9 columns],\n",
              "           Date       Open       High        Low      Close    Volume  \\\n",
              " 0   2018-01-02  40.630686  40.657235  40.276682  40.303234  10872200   \n",
              " 1   2018-01-03  40.258986  40.435985  40.126234  40.214733  12635600   \n",
              " 2   2018-01-04  40.320939  40.905044  40.223588  40.781143  12709400   \n",
              " 3   2018-01-05  40.728043  40.887345  40.524492  40.772293  13113100   \n",
              " 4   2018-01-08  40.666093  40.798842  40.604142  40.710342   7068600   \n",
              " ..         ...        ...        ...        ...        ...       ...   \n",
              " 945 2021-10-04  53.060001  53.529999  52.400002  52.990002  18973400   \n",
              " 946 2021-10-05  53.020000  53.470001  52.930000  53.080002  17173100   \n",
              " 947 2021-10-06  52.770000  53.770000  52.509998  53.709999  21284500   \n",
              " 948 2021-10-07  53.990002  54.279999  53.810001  53.880001  13774400   \n",
              " 949 2021-10-08  54.000000  54.389999  53.900002  54.119999  13786000   \n",
              " \n",
              "      Dividends  Stock Splits Ticker  \n",
              " 0          0.0             0     KO  \n",
              " 1          0.0             0     KO  \n",
              " 2          0.0             0     KO  \n",
              " 3          0.0             0     KO  \n",
              " 4          0.0             0     KO  \n",
              " ..         ...           ...    ...  \n",
              " 945        0.0             0     KO  \n",
              " 946        0.0             0     KO  \n",
              " 947        0.0             0     KO  \n",
              " 948        0.0             0     KO  \n",
              " 949        0.0             0     KO  \n",
              " \n",
              " [950 rows x 9 columns],\n",
              "           Date        Open        High         Low       Close    Volume  \\\n",
              " 0   2018-01-02   82.019685   82.191095   81.419752   81.848274  22483800   \n",
              " 1   2018-01-03   81.953018   82.381547   81.867316   82.229179  26061400   \n",
              " 2   2018-01-04   82.457753   83.476698   82.438711   82.952942  21912000   \n",
              " 3   2018-01-05   83.476693   84.190902   83.257666   83.981400  23407100   \n",
              " 4   2018-01-08   83.990901   84.352772   83.419536   84.067085  22113000   \n",
              " ..         ...         ...         ...         ...         ...       ...   \n",
              " 945 2021-10-04  287.399994  287.750000  280.250000  283.109985  31350700   \n",
              " 946 2021-10-05  284.049988  290.399994  284.049988  288.760010  24993000   \n",
              " 947 2021-10-06  285.779999  293.630005  285.510010  293.109985  28002600   \n",
              " 948 2021-10-07  295.179993  296.640015  293.920013  294.850006  20430500   \n",
              " 949 2021-10-08  296.220001  296.640015  293.760010  294.850006  17680300   \n",
              " \n",
              "      Dividends  Stock Splits Ticker  \n",
              " 0          0.0             0   MSFT  \n",
              " 1          0.0             0   MSFT  \n",
              " 2          0.0             0   MSFT  \n",
              " 3          0.0             0   MSFT  \n",
              " 4          0.0             0   MSFT  \n",
              " ..         ...           ...    ...  \n",
              " 945        0.0             0   MSFT  \n",
              " 946        0.0             0   MSFT  \n",
              " 947        0.0             0   MSFT  \n",
              " 948        0.0             0   MSFT  \n",
              " 949        0.0             0   MSFT  \n",
              " \n",
              " [950 rows x 9 columns],\n",
              "           Date         Open         High          Low        Close   Volume  \\\n",
              " 0   2018-01-02  1053.020020  1075.979980  1053.020020  1073.209961  1588300   \n",
              " 1   2018-01-03  1073.930054  1096.099976  1073.430054  1091.520020  1565900   \n",
              " 2   2018-01-04  1097.089966  1104.079956  1094.260010  1095.760010  1302600   \n",
              " 3   2018-01-05  1103.449951  1113.579956  1101.800049  1110.290039  1512500   \n",
              " 4   2018-01-08  1111.000000  1119.160034  1110.000000  1114.209961  1232200   \n",
              " ..         ...          ...          ...          ...          ...      ...   \n",
              " 945 2021-10-04  2719.209961  2719.209961  2621.000000  2673.189941  2560100   \n",
              " 946 2021-10-05  2680.820068  2744.489990  2680.820068  2720.459961  1620200   \n",
              " 947 2021-10-06  2695.000000  2755.000000  2691.000000  2751.300049  1218200   \n",
              " 948 2021-10-07  2777.840088  2800.840088  2773.020020  2784.500000  1255500   \n",
              " 949 2021-10-08  2791.540039  2806.620117  2784.350098  2795.709961  1325200   \n",
              " \n",
              "      Dividends  Stock Splits Ticker  \n",
              " 0            0             0  GOOGL  \n",
              " 1            0             0  GOOGL  \n",
              " 2            0             0  GOOGL  \n",
              " 3            0             0  GOOGL  \n",
              " 4            0             0  GOOGL  \n",
              " ..         ...           ...    ...  \n",
              " 945          0             0  GOOGL  \n",
              " 946          0             0  GOOGL  \n",
              " 947          0             0  GOOGL  \n",
              " 948          0             0  GOOGL  \n",
              " 949          0             0  GOOGL  \n",
              " \n",
              " [950 rows x 9 columns]]"
            ]
          },
          "execution_count": 126,
          "metadata": {},
          "output_type": "execute_result"
        }
      ]
    },
    {
      "cell_type": "code",
      "metadata": {
        "id": "ce9b8cee"
      },
      "source": [
        "for c in dfs:\n",
        "    extraction_features(c)"
      ],
      "id": "ce9b8cee",
      "execution_count": null,
      "outputs": []
    },
    {
      "cell_type": "code",
      "metadata": {
        "id": "3c82c50c",
        "outputId": "22fcdebd-0a1a-438e-c781-370c9926a44d"
      },
      "source": [
        "dfs[0]['Rentability']"
      ],
      "id": "3c82c50c",
      "execution_count": null,
      "outputs": [
        {
          "data": {
            "text/plain": [
              "0         NaN\n",
              "1      26.826\n",
              "2      -7.460\n",
              "3     -14.490\n",
              "4       6.921\n",
              "        ...  \n",
              "704    -1.399\n",
              "705     0.000\n",
              "706     0.709\n",
              "707    -1.408\n",
              "708     0.000\n",
              "Name: Rentability, Length: 709, dtype: float64"
            ]
          },
          "execution_count": 128,
          "metadata": {},
          "output_type": "execute_result"
        }
      ]
    },
    {
      "cell_type": "code",
      "metadata": {
        "id": "866dd637"
      },
      "source": [
        "#Compare the rentability of companys\n",
        "companys_rentability = pd.DataFrame()\n",
        "for c in dfs:\n",
        "    companys_rentability[c['Ticker'].iloc[0]] = c['Rentability']"
      ],
      "id": "866dd637",
      "execution_count": null,
      "outputs": []
    },
    {
      "cell_type": "code",
      "metadata": {
        "id": "73fc5ed5",
        "outputId": "fc2e8d22-5868-435f-b568-376980eb2a51"
      },
      "source": [
        "companys_rentability.head()['TLSA']"
      ],
      "id": "73fc5ed5",
      "execution_count": null,
      "outputs": [
        {
          "data": {
            "text/plain": [
              "0       NaN\n",
              "1    26.826\n",
              "2    -7.460\n",
              "3   -14.490\n",
              "4     6.921\n",
              "Name: TLSA, dtype: float64"
            ]
          },
          "execution_count": 134,
          "metadata": {},
          "output_type": "execute_result"
        }
      ]
    },
    {
      "cell_type": "code",
      "metadata": {
        "id": "626b97a1"
      },
      "source": [
        "decompose_tesla = seasonal_decompose(companys_rentability['TLSA'].iloc[1:], model='additive', period=30, extrapolate_trend=30)\n",
        "decompose_google = seasonal_decompose(companys_rentability['GOOGL'].iloc[1:], model='additive', period=30, extrapolate_trend=30)\n",
        "decompose_coca_cola = seasonal_decompose(companys_rentability['KO'].iloc[1:], model='additive', period=30, extrapolate_trend=30)\n",
        "decompose_microsoft = seasonal_decompose(companys_rentability['MSFT'].iloc[1:], model='additive', period=30, extrapolate_trend=30)"
      ],
      "id": "626b97a1",
      "execution_count": null,
      "outputs": []
    },
    {
      "cell_type": "code",
      "metadata": {
        "id": "755b140e",
        "outputId": "95696332-3a3e-46ee-e1ae-7a04e5a1a94f"
      },
      "source": [
        "fig, aux = plt.subplots(figsize = (14,5))\n",
        "#plt.plot(companys_rentability['TLSA'], 'blue')\n",
        "plt.plot(companys_rentability['MSFT'], 'green')\n",
        "plt.plot(companys_rentability['GOOGL'], 'black')\n",
        "plt.plot(companys_rentability['KO'], 'red')"
      ],
      "id": "755b140e",
      "execution_count": null,
      "outputs": [
        {
          "data": {
            "text/plain": [
              "[<matplotlib.lines.Line2D at 0x7f0600be62b0>]"
            ]
          },
          "execution_count": 147,
          "metadata": {},
          "output_type": "execute_result"
        },
        {
          "data": {
            "image/png": "[encoded data removed]",
            "text/plain": [
              "<Figure size 1008x360 with 1 Axes>"
            ]
          },
          "metadata": {
            "needs_background": "light"
          },
          "output_type": "display_data"
        }
      ]
    },
    {
      "cell_type": "code",
      "metadata": {
        "id": "2aa68b7b",
        "outputId": "dfbea3ae-b743-45ff-b257-1dfdefede67f"
      },
      "source": [
        "companys_rentability.corr()"
      ],
      "id": "2aa68b7b",
      "execution_count": null,
      "outputs": [
        {
          "data": {
            "text/html": [
              "<div>\n",
              "<style scoped>\n",
              "    .dataframe tbody tr th:only-of-type {\n",
              "        vertical-align: middle;\n",
              "    }\n",
              "\n",
              "    .dataframe tbody tr th {\n",
              "        vertical-align: top;\n",
              "    }\n",
              "\n",
              "    .dataframe thead th {\n",
              "        text-align: right;\n",
              "    }\n",
              "</style>\n",
              "<table border=\"1\" class=\"dataframe\">\n",
              "  <thead>\n",
              "    <tr style=\"text-align: right;\">\n",
              "      <th></th>\n",
              "      <th>TLSA</th>\n",
              "      <th>KO</th>\n",
              "      <th>MSFT</th>\n",
              "      <th>GOOGL</th>\n",
              "    </tr>\n",
              "  </thead>\n",
              "  <tbody>\n",
              "    <tr>\n",
              "      <th>TLSA</th>\n",
              "      <td>1.000000</td>\n",
              "      <td>0.026834</td>\n",
              "      <td>-0.010175</td>\n",
              "      <td>-0.029267</td>\n",
              "    </tr>\n",
              "    <tr>\n",
              "      <th>KO</th>\n",
              "      <td>0.026834</td>\n",
              "      <td>1.000000</td>\n",
              "      <td>0.515207</td>\n",
              "      <td>0.475830</td>\n",
              "    </tr>\n",
              "    <tr>\n",
              "      <th>MSFT</th>\n",
              "      <td>-0.010175</td>\n",
              "      <td>0.515207</td>\n",
              "      <td>1.000000</td>\n",
              "      <td>0.813507</td>\n",
              "    </tr>\n",
              "    <tr>\n",
              "      <th>GOOGL</th>\n",
              "      <td>-0.029267</td>\n",
              "      <td>0.475830</td>\n",
              "      <td>0.813507</td>\n",
              "      <td>1.000000</td>\n",
              "    </tr>\n",
              "  </tbody>\n",
              "</table>\n",
              "</div>"
            ],
            "text/plain": [
              "           TLSA        KO      MSFT     GOOGL\n",
              "TLSA   1.000000  0.026834 -0.010175 -0.029267\n",
              "KO     0.026834  1.000000  0.515207  0.475830\n",
              "MSFT  -0.010175  0.515207  1.000000  0.813507\n",
              "GOOGL -0.029267  0.475830  0.813507  1.000000"
            ]
          },
          "execution_count": 148,
          "metadata": {},
          "output_type": "execute_result"
        }
      ]
    },
    {
      "cell_type": "markdown",
      "metadata": {
        "id": "05f529f8"
      },
      "source": [
        "## With seaborn"
      ],
      "id": "05f529f8"
    },
    {
      "cell_type": "code",
      "metadata": {
        "id": "bbf6a7b5"
      },
      "source": [
        "import seaborn as sns"
      ],
      "id": "bbf6a7b5",
      "execution_count": null,
      "outputs": []
    },
    {
      "cell_type": "code",
      "metadata": {
        "id": "b43ccb9e",
        "outputId": "a76dc859-5f4b-448b-b924-5b0fe70906b1"
      },
      "source": [
        "ax, fig = plt.subplots(figsize=(15,6))\n",
        "ax = sns.heatmap(companys_rentability.corr(), annot=True)"
      ],
      "id": "b43ccb9e",
      "execution_count": null,
      "outputs": [
        {
          "data": {
            "image/png": "[encoded data removed]",
            "text/plain": [
              "<Figure size 1080x432 with 2 Axes>"
            ]
          },
          "metadata": {
            "needs_background": "light"
          },
          "output_type": "display_data"
        }
      ]
    }
  ]
}