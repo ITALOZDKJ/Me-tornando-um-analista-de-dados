{
 "cells": [
  {
   "cell_type": "markdown",
   "id": "b262b542",
   "metadata": {},
   "source": [
    "# Perguntas a serem respondidas \n",
    "\n",
    "# O que nós queremos saber de fato é, o dia da semana com mais acidentes e em relação aos outros dia, causa, os estados com mais mortos e feridos graves e em relação aos outros e destacar traçado pista. Faça para todos e junte tudo! É PARA SEGUNDA DE MANHÃ! \n"
   ]
  },
  {
   "cell_type": "markdown",
   "id": "543514ec",
   "metadata": {},
   "source": [
    "### Importação e limpeza de dados"
   ]
  },
  {
   "cell_type": "code",
   "execution_count": 100,
   "id": "3e270ffe",
   "metadata": {},
   "outputs": [],
   "source": [
    "import pandas as pd"
   ]
  },
  {
   "cell_type": "code",
   "execution_count": 101,
   "id": "2fb42621",
   "metadata": {},
   "outputs": [],
   "source": [
    "df = pd.read_csv('datatrams/datatran2007.csv', encoding='latin', sep=';', low_memory=False)"
   ]
  },
  {
   "cell_type": "code",
   "execution_count": 102,
   "id": "0c2384fe",
   "metadata": {},
   "outputs": [
    {
     "data": {
      "text/html": [
       "<div>\n",
       "<style scoped>\n",
       "    .dataframe tbody tr th:only-of-type {\n",
       "        vertical-align: middle;\n",
       "    }\n",
       "\n",
       "    .dataframe tbody tr th {\n",
       "        vertical-align: top;\n",
       "    }\n",
       "\n",
       "    .dataframe thead th {\n",
       "        text-align: right;\n",
       "    }\n",
       "</style>\n",
       "<table border=\"1\" class=\"dataframe\">\n",
       "  <thead>\n",
       "    <tr style=\"text-align: right;\">\n",
       "      <th></th>\n",
       "      <th>id</th>\n",
       "      <th>data_inversa</th>\n",
       "      <th>dia_semana</th>\n",
       "      <th>horario</th>\n",
       "      <th>uf</th>\n",
       "      <th>br</th>\n",
       "      <th>km</th>\n",
       "      <th>municipio</th>\n",
       "      <th>causa_acidente</th>\n",
       "      <th>tipo_acidente</th>\n",
       "      <th>...</th>\n",
       "      <th>uso_solo</th>\n",
       "      <th>ano</th>\n",
       "      <th>pessoas</th>\n",
       "      <th>mortos</th>\n",
       "      <th>feridos_leves</th>\n",
       "      <th>feridos_graves</th>\n",
       "      <th>ilesos</th>\n",
       "      <th>ignorados</th>\n",
       "      <th>feridos</th>\n",
       "      <th>veiculos</th>\n",
       "    </tr>\n",
       "  </thead>\n",
       "  <tbody>\n",
       "    <tr>\n",
       "      <th>0</th>\n",
       "      <td>10</td>\n",
       "      <td>11/06/2007</td>\n",
       "      <td>Segunda</td>\n",
       "      <td>15:30:00</td>\n",
       "      <td>MG</td>\n",
       "      <td>381</td>\n",
       "      <td>623.2</td>\n",
       "      <td>OLIVEIRA</td>\n",
       "      <td>Falta de atenção</td>\n",
       "      <td>Colisão frontal</td>\n",
       "      <td>...</td>\n",
       "      <td>Rural</td>\n",
       "      <td>2007</td>\n",
       "      <td>9</td>\n",
       "      <td>0</td>\n",
       "      <td>4</td>\n",
       "      <td>0</td>\n",
       "      <td>5</td>\n",
       "      <td>0</td>\n",
       "      <td>4</td>\n",
       "      <td>6</td>\n",
       "    </tr>\n",
       "    <tr>\n",
       "      <th>1</th>\n",
       "      <td>10</td>\n",
       "      <td>11/06/2007</td>\n",
       "      <td>Segunda</td>\n",
       "      <td>15:30:00</td>\n",
       "      <td>MG</td>\n",
       "      <td>381</td>\n",
       "      <td>623.2</td>\n",
       "      <td>OLIVEIRA</td>\n",
       "      <td>Falta de atenção</td>\n",
       "      <td>Colisão frontal</td>\n",
       "      <td>...</td>\n",
       "      <td>Rural</td>\n",
       "      <td>2007</td>\n",
       "      <td>9</td>\n",
       "      <td>0</td>\n",
       "      <td>4</td>\n",
       "      <td>0</td>\n",
       "      <td>5</td>\n",
       "      <td>0</td>\n",
       "      <td>4</td>\n",
       "      <td>6</td>\n",
       "    </tr>\n",
       "    <tr>\n",
       "      <th>2</th>\n",
       "      <td>1032898</td>\n",
       "      <td>13/08/2007</td>\n",
       "      <td>Segunda</td>\n",
       "      <td>14:25:00</td>\n",
       "      <td>MG</td>\n",
       "      <td>40</td>\n",
       "      <td>585.5</td>\n",
       "      <td>ITABIRITO</td>\n",
       "      <td>Outras</td>\n",
       "      <td>Saída de Pista</td>\n",
       "      <td>...</td>\n",
       "      <td>Rural</td>\n",
       "      <td>2007</td>\n",
       "      <td>3</td>\n",
       "      <td>0</td>\n",
       "      <td>0</td>\n",
       "      <td>1</td>\n",
       "      <td>2</td>\n",
       "      <td>0</td>\n",
       "      <td>1</td>\n",
       "      <td>1</td>\n",
       "    </tr>\n",
       "    <tr>\n",
       "      <th>3</th>\n",
       "      <td>1051130</td>\n",
       "      <td>12/02/2007</td>\n",
       "      <td>Segunda</td>\n",
       "      <td>02:10:00</td>\n",
       "      <td>MA</td>\n",
       "      <td>135</td>\n",
       "      <td>11</td>\n",
       "      <td>SAO LUIS</td>\n",
       "      <td>Animais na Pista</td>\n",
       "      <td>Atropelamento de animal</td>\n",
       "      <td>...</td>\n",
       "      <td>Urbano</td>\n",
       "      <td>2007</td>\n",
       "      <td>5</td>\n",
       "      <td>2</td>\n",
       "      <td>2</td>\n",
       "      <td>1</td>\n",
       "      <td>0</td>\n",
       "      <td>0</td>\n",
       "      <td>3</td>\n",
       "      <td>1</td>\n",
       "    </tr>\n",
       "    <tr>\n",
       "      <th>4</th>\n",
       "      <td>1066824</td>\n",
       "      <td>20/11/2007</td>\n",
       "      <td>Terça</td>\n",
       "      <td>05:30:00</td>\n",
       "      <td>CE</td>\n",
       "      <td>222</td>\n",
       "      <td>30.8</td>\n",
       "      <td>CAUCAIA</td>\n",
       "      <td>Defeito mecânico em veículo</td>\n",
       "      <td>Capotamento</td>\n",
       "      <td>...</td>\n",
       "      <td>Rural</td>\n",
       "      <td>2007</td>\n",
       "      <td>1</td>\n",
       "      <td>0</td>\n",
       "      <td>1</td>\n",
       "      <td>0</td>\n",
       "      <td>0</td>\n",
       "      <td>0</td>\n",
       "      <td>1</td>\n",
       "      <td>1</td>\n",
       "    </tr>\n",
       "  </tbody>\n",
       "</table>\n",
       "<p>5 rows × 26 columns</p>\n",
       "</div>"
      ],
      "text/plain": [
       "        id data_inversa dia_semana   horario  uf   br     km  municipio  \\\n",
       "0       10   11/06/2007    Segunda  15:30:00  MG  381  623.2   OLIVEIRA   \n",
       "1       10   11/06/2007    Segunda  15:30:00  MG  381  623.2   OLIVEIRA   \n",
       "2  1032898   13/08/2007    Segunda  14:25:00  MG   40  585.5  ITABIRITO   \n",
       "3  1051130   12/02/2007    Segunda  02:10:00  MA  135     11   SAO LUIS   \n",
       "4  1066824   20/11/2007      Terça  05:30:00  CE  222   30.8    CAUCAIA   \n",
       "\n",
       "                causa_acidente            tipo_acidente  ... uso_solo   ano  \\\n",
       "0             Falta de atenção          Colisão frontal  ...    Rural  2007   \n",
       "1             Falta de atenção          Colisão frontal  ...    Rural  2007   \n",
       "2                       Outras           Saída de Pista  ...    Rural  2007   \n",
       "3             Animais na Pista  Atropelamento de animal  ...   Urbano  2007   \n",
       "4  Defeito mecânico em veículo              Capotamento  ...    Rural  2007   \n",
       "\n",
       "  pessoas mortos feridos_leves feridos_graves ilesos  ignorados  feridos  \\\n",
       "0       9      0             4              0      5          0        4   \n",
       "1       9      0             4              0      5          0        4   \n",
       "2       3      0             0              1      2          0        1   \n",
       "3       5      2             2              1      0          0        3   \n",
       "4       1      0             1              0      0          0        1   \n",
       "\n",
       "   veiculos  \n",
       "0         6  \n",
       "1         6  \n",
       "2         1  \n",
       "3         1  \n",
       "4         1  \n",
       "\n",
       "[5 rows x 26 columns]"
      ]
     },
     "execution_count": 102,
     "metadata": {},
     "output_type": "execute_result"
    }
   ],
   "source": [
    "df.head()"
   ]
  },
  {
   "cell_type": "code",
   "execution_count": 103,
   "id": "10fd4e9c",
   "metadata": {},
   "outputs": [
    {
     "name": "stdout",
     "output_type": "stream",
     "text": [
      "<class 'pandas.core.frame.DataFrame'>\n",
      "RangeIndex: 127675 entries, 0 to 127674\n",
      "Data columns (total 26 columns):\n",
      " #   Column                  Non-Null Count   Dtype \n",
      "---  ------                  --------------   ----- \n",
      " 0   id                      127675 non-null  int64 \n",
      " 1   data_inversa            127675 non-null  object\n",
      " 2   dia_semana              127675 non-null  object\n",
      " 3   horario                 127675 non-null  object\n",
      " 4   uf                      127675 non-null  object\n",
      " 5   br                      127675 non-null  object\n",
      " 6   km                      127675 non-null  object\n",
      " 7   municipio               127675 non-null  object\n",
      " 8   causa_acidente          127675 non-null  object\n",
      " 9   tipo_acidente           127675 non-null  object\n",
      " 10  classificacao_acidente  127675 non-null  object\n",
      " 11  fase_dia                127675 non-null  object\n",
      " 12  sentido_via             127675 non-null  object\n",
      " 13  condicao_metereologica  127675 non-null  object\n",
      " 14  tipo_pista              127675 non-null  object\n",
      " 15  tracado_via             127675 non-null  object\n",
      " 16  uso_solo                127675 non-null  object\n",
      " 17  ano                     127675 non-null  int64 \n",
      " 18  pessoas                 127675 non-null  int64 \n",
      " 19  mortos                  127675 non-null  int64 \n",
      " 20  feridos_leves           127675 non-null  int64 \n",
      " 21  feridos_graves          127675 non-null  int64 \n",
      " 22  ilesos                  127675 non-null  int64 \n",
      " 23  ignorados               127675 non-null  int64 \n",
      " 24  feridos                 127675 non-null  int64 \n",
      " 25  veiculos                127675 non-null  int64 \n",
      "dtypes: int64(10), object(16)\n",
      "memory usage: 25.3+ MB\n"
     ]
    }
   ],
   "source": [
    "df.info()"
   ]
  },
  {
   "cell_type": "code",
   "execution_count": 104,
   "id": "9b68c268",
   "metadata": {},
   "outputs": [
    {
     "data": {
      "text/plain": [
       "id                        0\n",
       "data_inversa              0\n",
       "dia_semana                0\n",
       "horario                   0\n",
       "uf                        0\n",
       "br                        0\n",
       "km                        0\n",
       "municipio                 0\n",
       "causa_acidente            0\n",
       "tipo_acidente             0\n",
       "classificacao_acidente    0\n",
       "fase_dia                  0\n",
       "sentido_via               0\n",
       "condicao_metereologica    0\n",
       "tipo_pista                0\n",
       "tracado_via               0\n",
       "uso_solo                  0\n",
       "ano                       0\n",
       "pessoas                   0\n",
       "mortos                    0\n",
       "feridos_leves             0\n",
       "feridos_graves            0\n",
       "ilesos                    0\n",
       "ignorados                 0\n",
       "feridos                   0\n",
       "veiculos                  0\n",
       "dtype: int64"
      ]
     },
     "execution_count": 104,
     "metadata": {},
     "output_type": "execute_result"
    }
   ],
   "source": [
    "df.isna().sum()"
   ]
  },
  {
   "cell_type": "code",
   "execution_count": 105,
   "id": "9d48ddae",
   "metadata": {},
   "outputs": [
    {
     "data": {
      "text/html": [
       "<div>\n",
       "<style scoped>\n",
       "    .dataframe tbody tr th:only-of-type {\n",
       "        vertical-align: middle;\n",
       "    }\n",
       "\n",
       "    .dataframe tbody tr th {\n",
       "        vertical-align: top;\n",
       "    }\n",
       "\n",
       "    .dataframe thead th {\n",
       "        text-align: right;\n",
       "    }\n",
       "</style>\n",
       "<table border=\"1\" class=\"dataframe\">\n",
       "  <thead>\n",
       "    <tr style=\"text-align: right;\">\n",
       "      <th></th>\n",
       "      <th>id</th>\n",
       "      <th>ano</th>\n",
       "      <th>pessoas</th>\n",
       "      <th>mortos</th>\n",
       "      <th>feridos_leves</th>\n",
       "      <th>feridos_graves</th>\n",
       "      <th>ilesos</th>\n",
       "      <th>ignorados</th>\n",
       "      <th>feridos</th>\n",
       "      <th>veiculos</th>\n",
       "    </tr>\n",
       "  </thead>\n",
       "  <tbody>\n",
       "    <tr>\n",
       "      <th>count</th>\n",
       "      <td>1.276750e+05</td>\n",
       "      <td>127675.0</td>\n",
       "      <td>127675.000000</td>\n",
       "      <td>127675.000000</td>\n",
       "      <td>127675.000000</td>\n",
       "      <td>127675.000000</td>\n",
       "      <td>127675.000000</td>\n",
       "      <td>127675.000000</td>\n",
       "      <td>127675.000000</td>\n",
       "      <td>127675.000000</td>\n",
       "    </tr>\n",
       "    <tr>\n",
       "      <th>mean</th>\n",
       "      <td>2.570106e+05</td>\n",
       "      <td>2007.0</td>\n",
       "      <td>2.101570</td>\n",
       "      <td>0.052806</td>\n",
       "      <td>0.452187</td>\n",
       "      <td>0.184641</td>\n",
       "      <td>1.365201</td>\n",
       "      <td>0.046595</td>\n",
       "      <td>0.636828</td>\n",
       "      <td>1.687104</td>\n",
       "    </tr>\n",
       "    <tr>\n",
       "      <th>std</th>\n",
       "      <td>6.161403e+05</td>\n",
       "      <td>0.0</td>\n",
       "      <td>1.562166</td>\n",
       "      <td>0.290575</td>\n",
       "      <td>1.081261</td>\n",
       "      <td>0.599220</td>\n",
       "      <td>1.084725</td>\n",
       "      <td>0.278431</td>\n",
       "      <td>1.335401</td>\n",
       "      <td>0.697045</td>\n",
       "    </tr>\n",
       "    <tr>\n",
       "      <th>min</th>\n",
       "      <td>1.000000e+01</td>\n",
       "      <td>2007.0</td>\n",
       "      <td>1.000000</td>\n",
       "      <td>0.000000</td>\n",
       "      <td>0.000000</td>\n",
       "      <td>0.000000</td>\n",
       "      <td>0.000000</td>\n",
       "      <td>0.000000</td>\n",
       "      <td>0.000000</td>\n",
       "      <td>1.000000</td>\n",
       "    </tr>\n",
       "    <tr>\n",
       "      <th>25%</th>\n",
       "      <td>2.138025e+05</td>\n",
       "      <td>2007.0</td>\n",
       "      <td>1.000000</td>\n",
       "      <td>0.000000</td>\n",
       "      <td>0.000000</td>\n",
       "      <td>0.000000</td>\n",
       "      <td>1.000000</td>\n",
       "      <td>0.000000</td>\n",
       "      <td>0.000000</td>\n",
       "      <td>1.000000</td>\n",
       "    </tr>\n",
       "    <tr>\n",
       "      <th>50%</th>\n",
       "      <td>2.529030e+05</td>\n",
       "      <td>2007.0</td>\n",
       "      <td>2.000000</td>\n",
       "      <td>0.000000</td>\n",
       "      <td>0.000000</td>\n",
       "      <td>0.000000</td>\n",
       "      <td>1.000000</td>\n",
       "      <td>0.000000</td>\n",
       "      <td>0.000000</td>\n",
       "      <td>2.000000</td>\n",
       "    </tr>\n",
       "    <tr>\n",
       "      <th>75%</th>\n",
       "      <td>2.898695e+05</td>\n",
       "      <td>2007.0</td>\n",
       "      <td>2.000000</td>\n",
       "      <td>0.000000</td>\n",
       "      <td>1.000000</td>\n",
       "      <td>0.000000</td>\n",
       "      <td>2.000000</td>\n",
       "      <td>0.000000</td>\n",
       "      <td>1.000000</td>\n",
       "      <td>2.000000</td>\n",
       "    </tr>\n",
       "    <tr>\n",
       "      <th>max</th>\n",
       "      <td>8.338491e+07</td>\n",
       "      <td>2007.0</td>\n",
       "      <td>80.000000</td>\n",
       "      <td>14.000000</td>\n",
       "      <td>52.000000</td>\n",
       "      <td>34.000000</td>\n",
       "      <td>51.000000</td>\n",
       "      <td>40.000000</td>\n",
       "      <td>62.000000</td>\n",
       "      <td>19.000000</td>\n",
       "    </tr>\n",
       "  </tbody>\n",
       "</table>\n",
       "</div>"
      ],
      "text/plain": [
       "                 id       ano        pessoas         mortos  feridos_leves  \\\n",
       "count  1.276750e+05  127675.0  127675.000000  127675.000000  127675.000000   \n",
       "mean   2.570106e+05    2007.0       2.101570       0.052806       0.452187   \n",
       "std    6.161403e+05       0.0       1.562166       0.290575       1.081261   \n",
       "min    1.000000e+01    2007.0       1.000000       0.000000       0.000000   \n",
       "25%    2.138025e+05    2007.0       1.000000       0.000000       0.000000   \n",
       "50%    2.529030e+05    2007.0       2.000000       0.000000       0.000000   \n",
       "75%    2.898695e+05    2007.0       2.000000       0.000000       1.000000   \n",
       "max    8.338491e+07    2007.0      80.000000      14.000000      52.000000   \n",
       "\n",
       "       feridos_graves         ilesos      ignorados        feridos  \\\n",
       "count   127675.000000  127675.000000  127675.000000  127675.000000   \n",
       "mean         0.184641       1.365201       0.046595       0.636828   \n",
       "std          0.599220       1.084725       0.278431       1.335401   \n",
       "min          0.000000       0.000000       0.000000       0.000000   \n",
       "25%          0.000000       1.000000       0.000000       0.000000   \n",
       "50%          0.000000       1.000000       0.000000       0.000000   \n",
       "75%          0.000000       2.000000       0.000000       1.000000   \n",
       "max         34.000000      51.000000      40.000000      62.000000   \n",
       "\n",
       "            veiculos  \n",
       "count  127675.000000  \n",
       "mean        1.687104  \n",
       "std         0.697045  \n",
       "min         1.000000  \n",
       "25%         1.000000  \n",
       "50%         2.000000  \n",
       "75%         2.000000  \n",
       "max        19.000000  "
      ]
     },
     "execution_count": 105,
     "metadata": {},
     "output_type": "execute_result"
    }
   ],
   "source": [
    "df.describe()"
   ]
  },
  {
   "cell_type": "code",
   "execution_count": 106,
   "id": "21aaddd3",
   "metadata": {},
   "outputs": [
    {
     "data": {
      "text/plain": [
       "Index(['id', 'data_inversa', 'dia_semana', 'horario', 'uf', 'br', 'km',\n",
       "       'municipio', 'causa_acidente', 'tipo_acidente',\n",
       "       'classificacao_acidente', 'fase_dia', 'sentido_via',\n",
       "       'condicao_metereologica', 'tipo_pista', 'tracado_via', 'uso_solo',\n",
       "       'ano', 'pessoas', 'mortos', 'feridos_leves', 'feridos_graves', 'ilesos',\n",
       "       'ignorados', 'feridos', 'veiculos'],\n",
       "      dtype='object')"
      ]
     },
     "execution_count": 106,
     "metadata": {},
     "output_type": "execute_result"
    }
   ],
   "source": [
    "df.columns"
   ]
  },
  {
   "cell_type": "code",
   "execution_count": 107,
   "id": "0d3e38ac",
   "metadata": {},
   "outputs": [
    {
     "data": {
      "text/plain": [
       "array(['MG', 'MA', 'CE', 'PR', 'ES', 'GO', 'RJ', 'RS', 'SP', 'RN', 'SC',\n",
       "       'PA', 'PE', 'MT', 'BA', 'AL', 'TO', 'PI', 'MS', 'SE', 'RO', 'PB',\n",
       "       'AP', 'DF', 'AC', 'RR', 'AM', '(null)'], dtype=object)"
      ]
     },
     "execution_count": 107,
     "metadata": {},
     "output_type": "execute_result"
    }
   ],
   "source": [
    "df['uf'].unique()"
   ]
  },
  {
   "cell_type": "code",
   "execution_count": 108,
   "id": "d7daf6fb",
   "metadata": {},
   "outputs": [],
   "source": [
    "df = df[df['uf'] != '(null)']"
   ]
  },
  {
   "cell_type": "code",
   "execution_count": 109,
   "id": "1c6c0320",
   "metadata": {},
   "outputs": [],
   "source": [
    "df = df[df['fase_dia']!='(null)']"
   ]
  },
  {
   "cell_type": "code",
   "execution_count": 110,
   "id": "f20d3183",
   "metadata": {},
   "outputs": [
    {
     "data": {
      "text/html": [
       "<div>\n",
       "<style scoped>\n",
       "    .dataframe tbody tr th:only-of-type {\n",
       "        vertical-align: middle;\n",
       "    }\n",
       "\n",
       "    .dataframe tbody tr th {\n",
       "        vertical-align: top;\n",
       "    }\n",
       "\n",
       "    .dataframe thead th {\n",
       "        text-align: right;\n",
       "    }\n",
       "</style>\n",
       "<table border=\"1\" class=\"dataframe\">\n",
       "  <thead>\n",
       "    <tr style=\"text-align: right;\">\n",
       "      <th></th>\n",
       "      <th>id</th>\n",
       "      <th>data_inversa</th>\n",
       "      <th>dia_semana</th>\n",
       "      <th>horario</th>\n",
       "      <th>uf</th>\n",
       "      <th>br</th>\n",
       "      <th>km</th>\n",
       "      <th>municipio</th>\n",
       "      <th>causa_acidente</th>\n",
       "      <th>tipo_acidente</th>\n",
       "      <th>...</th>\n",
       "      <th>uso_solo</th>\n",
       "      <th>ano</th>\n",
       "      <th>pessoas</th>\n",
       "      <th>mortos</th>\n",
       "      <th>feridos_leves</th>\n",
       "      <th>feridos_graves</th>\n",
       "      <th>ilesos</th>\n",
       "      <th>ignorados</th>\n",
       "      <th>feridos</th>\n",
       "      <th>veiculos</th>\n",
       "    </tr>\n",
       "  </thead>\n",
       "  <tbody>\n",
       "    <tr>\n",
       "      <th>0</th>\n",
       "      <td>10</td>\n",
       "      <td>11/06/2007</td>\n",
       "      <td>Segunda</td>\n",
       "      <td>15:30:00</td>\n",
       "      <td>MG</td>\n",
       "      <td>381</td>\n",
       "      <td>623.2</td>\n",
       "      <td>OLIVEIRA</td>\n",
       "      <td>Falta de atenção</td>\n",
       "      <td>Colisão frontal</td>\n",
       "      <td>...</td>\n",
       "      <td>Rural</td>\n",
       "      <td>2007</td>\n",
       "      <td>9</td>\n",
       "      <td>0</td>\n",
       "      <td>4</td>\n",
       "      <td>0</td>\n",
       "      <td>5</td>\n",
       "      <td>0</td>\n",
       "      <td>4</td>\n",
       "      <td>6</td>\n",
       "    </tr>\n",
       "    <tr>\n",
       "      <th>1</th>\n",
       "      <td>10</td>\n",
       "      <td>11/06/2007</td>\n",
       "      <td>Segunda</td>\n",
       "      <td>15:30:00</td>\n",
       "      <td>MG</td>\n",
       "      <td>381</td>\n",
       "      <td>623.2</td>\n",
       "      <td>OLIVEIRA</td>\n",
       "      <td>Falta de atenção</td>\n",
       "      <td>Colisão frontal</td>\n",
       "      <td>...</td>\n",
       "      <td>Rural</td>\n",
       "      <td>2007</td>\n",
       "      <td>9</td>\n",
       "      <td>0</td>\n",
       "      <td>4</td>\n",
       "      <td>0</td>\n",
       "      <td>5</td>\n",
       "      <td>0</td>\n",
       "      <td>4</td>\n",
       "      <td>6</td>\n",
       "    </tr>\n",
       "    <tr>\n",
       "      <th>2</th>\n",
       "      <td>1032898</td>\n",
       "      <td>13/08/2007</td>\n",
       "      <td>Segunda</td>\n",
       "      <td>14:25:00</td>\n",
       "      <td>MG</td>\n",
       "      <td>40</td>\n",
       "      <td>585.5</td>\n",
       "      <td>ITABIRITO</td>\n",
       "      <td>Outras</td>\n",
       "      <td>Saída de Pista</td>\n",
       "      <td>...</td>\n",
       "      <td>Rural</td>\n",
       "      <td>2007</td>\n",
       "      <td>3</td>\n",
       "      <td>0</td>\n",
       "      <td>0</td>\n",
       "      <td>1</td>\n",
       "      <td>2</td>\n",
       "      <td>0</td>\n",
       "      <td>1</td>\n",
       "      <td>1</td>\n",
       "    </tr>\n",
       "    <tr>\n",
       "      <th>3</th>\n",
       "      <td>1051130</td>\n",
       "      <td>12/02/2007</td>\n",
       "      <td>Segunda</td>\n",
       "      <td>02:10:00</td>\n",
       "      <td>MA</td>\n",
       "      <td>135</td>\n",
       "      <td>11</td>\n",
       "      <td>SAO LUIS</td>\n",
       "      <td>Animais na Pista</td>\n",
       "      <td>Atropelamento de animal</td>\n",
       "      <td>...</td>\n",
       "      <td>Urbano</td>\n",
       "      <td>2007</td>\n",
       "      <td>5</td>\n",
       "      <td>2</td>\n",
       "      <td>2</td>\n",
       "      <td>1</td>\n",
       "      <td>0</td>\n",
       "      <td>0</td>\n",
       "      <td>3</td>\n",
       "      <td>1</td>\n",
       "    </tr>\n",
       "    <tr>\n",
       "      <th>4</th>\n",
       "      <td>1066824</td>\n",
       "      <td>20/11/2007</td>\n",
       "      <td>Terça</td>\n",
       "      <td>05:30:00</td>\n",
       "      <td>CE</td>\n",
       "      <td>222</td>\n",
       "      <td>30.8</td>\n",
       "      <td>CAUCAIA</td>\n",
       "      <td>Defeito mecânico em veículo</td>\n",
       "      <td>Capotamento</td>\n",
       "      <td>...</td>\n",
       "      <td>Rural</td>\n",
       "      <td>2007</td>\n",
       "      <td>1</td>\n",
       "      <td>0</td>\n",
       "      <td>1</td>\n",
       "      <td>0</td>\n",
       "      <td>0</td>\n",
       "      <td>0</td>\n",
       "      <td>1</td>\n",
       "      <td>1</td>\n",
       "    </tr>\n",
       "    <tr>\n",
       "      <th>...</th>\n",
       "      <td>...</td>\n",
       "      <td>...</td>\n",
       "      <td>...</td>\n",
       "      <td>...</td>\n",
       "      <td>...</td>\n",
       "      <td>...</td>\n",
       "      <td>...</td>\n",
       "      <td>...</td>\n",
       "      <td>...</td>\n",
       "      <td>...</td>\n",
       "      <td>...</td>\n",
       "      <td>...</td>\n",
       "      <td>...</td>\n",
       "      <td>...</td>\n",
       "      <td>...</td>\n",
       "      <td>...</td>\n",
       "      <td>...</td>\n",
       "      <td>...</td>\n",
       "      <td>...</td>\n",
       "      <td>...</td>\n",
       "      <td>...</td>\n",
       "    </tr>\n",
       "    <tr>\n",
       "      <th>127670</th>\n",
       "      <td>956310</td>\n",
       "      <td>15/12/2007</td>\n",
       "      <td>Sábado</td>\n",
       "      <td>08:00:00</td>\n",
       "      <td>MG</td>\n",
       "      <td>50</td>\n",
       "      <td>22</td>\n",
       "      <td>ARAGUARI</td>\n",
       "      <td>Falta de atenção</td>\n",
       "      <td>Colisão com objeto fixo</td>\n",
       "      <td>...</td>\n",
       "      <td>Rural</td>\n",
       "      <td>2007</td>\n",
       "      <td>4</td>\n",
       "      <td>0</td>\n",
       "      <td>2</td>\n",
       "      <td>2</td>\n",
       "      <td>0</td>\n",
       "      <td>0</td>\n",
       "      <td>4</td>\n",
       "      <td>1</td>\n",
       "    </tr>\n",
       "    <tr>\n",
       "      <th>127671</th>\n",
       "      <td>964123</td>\n",
       "      <td>16/06/2007</td>\n",
       "      <td>Sábado</td>\n",
       "      <td>14:50:00</td>\n",
       "      <td>PR</td>\n",
       "      <td>373</td>\n",
       "      <td>268.3</td>\n",
       "      <td>PRUDENTOPOLIS</td>\n",
       "      <td>Outras</td>\n",
       "      <td>Danos Eventuais</td>\n",
       "      <td>...</td>\n",
       "      <td>Rural</td>\n",
       "      <td>2007</td>\n",
       "      <td>3</td>\n",
       "      <td>0</td>\n",
       "      <td>0</td>\n",
       "      <td>1</td>\n",
       "      <td>2</td>\n",
       "      <td>0</td>\n",
       "      <td>1</td>\n",
       "      <td>2</td>\n",
       "    </tr>\n",
       "    <tr>\n",
       "      <th>127672</th>\n",
       "      <td>985245</td>\n",
       "      <td>11/12/2007</td>\n",
       "      <td>Terça</td>\n",
       "      <td>14:00:00</td>\n",
       "      <td>MT</td>\n",
       "      <td>70</td>\n",
       "      <td>697.1</td>\n",
       "      <td>CACERES</td>\n",
       "      <td>Outras</td>\n",
       "      <td>Colisão frontal</td>\n",
       "      <td>...</td>\n",
       "      <td>Rural</td>\n",
       "      <td>2007</td>\n",
       "      <td>9</td>\n",
       "      <td>1</td>\n",
       "      <td>0</td>\n",
       "      <td>6</td>\n",
       "      <td>2</td>\n",
       "      <td>0</td>\n",
       "      <td>6</td>\n",
       "      <td>3</td>\n",
       "    </tr>\n",
       "    <tr>\n",
       "      <th>127673</th>\n",
       "      <td>987413</td>\n",
       "      <td>09/05/2007</td>\n",
       "      <td>Quarta</td>\n",
       "      <td>14:50:00</td>\n",
       "      <td>SC</td>\n",
       "      <td>470</td>\n",
       "      <td>65.8</td>\n",
       "      <td>INDAIAL</td>\n",
       "      <td>Falta de atenção</td>\n",
       "      <td>Colisão Transversal</td>\n",
       "      <td>...</td>\n",
       "      <td>Urbano</td>\n",
       "      <td>2007</td>\n",
       "      <td>3</td>\n",
       "      <td>0</td>\n",
       "      <td>3</td>\n",
       "      <td>0</td>\n",
       "      <td>0</td>\n",
       "      <td>0</td>\n",
       "      <td>3</td>\n",
       "      <td>2</td>\n",
       "    </tr>\n",
       "    <tr>\n",
       "      <th>127674</th>\n",
       "      <td>988556</td>\n",
       "      <td>07/02/2007</td>\n",
       "      <td>Quarta</td>\n",
       "      <td>07:15:00</td>\n",
       "      <td>BA</td>\n",
       "      <td>324</td>\n",
       "      <td>603.5</td>\n",
       "      <td>SIMOES FILHO</td>\n",
       "      <td>Falta de atenção</td>\n",
       "      <td>Colisão traseira</td>\n",
       "      <td>...</td>\n",
       "      <td>Urbano</td>\n",
       "      <td>2007</td>\n",
       "      <td>2</td>\n",
       "      <td>0</td>\n",
       "      <td>0</td>\n",
       "      <td>0</td>\n",
       "      <td>2</td>\n",
       "      <td>0</td>\n",
       "      <td>0</td>\n",
       "      <td>2</td>\n",
       "    </tr>\n",
       "  </tbody>\n",
       "</table>\n",
       "<p>127645 rows × 26 columns</p>\n",
       "</div>"
      ],
      "text/plain": [
       "             id data_inversa dia_semana   horario  uf   br     km  \\\n",
       "0            10   11/06/2007    Segunda  15:30:00  MG  381  623.2   \n",
       "1            10   11/06/2007    Segunda  15:30:00  MG  381  623.2   \n",
       "2       1032898   13/08/2007    Segunda  14:25:00  MG   40  585.5   \n",
       "3       1051130   12/02/2007    Segunda  02:10:00  MA  135     11   \n",
       "4       1066824   20/11/2007      Terça  05:30:00  CE  222   30.8   \n",
       "...         ...          ...        ...       ...  ..  ...    ...   \n",
       "127670   956310   15/12/2007     Sábado  08:00:00  MG   50     22   \n",
       "127671   964123   16/06/2007     Sábado  14:50:00  PR  373  268.3   \n",
       "127672   985245   11/12/2007      Terça  14:00:00  MT   70  697.1   \n",
       "127673   987413   09/05/2007     Quarta  14:50:00  SC  470   65.8   \n",
       "127674   988556   07/02/2007     Quarta  07:15:00  BA  324  603.5   \n",
       "\n",
       "            municipio               causa_acidente            tipo_acidente  \\\n",
       "0            OLIVEIRA             Falta de atenção          Colisão frontal   \n",
       "1            OLIVEIRA             Falta de atenção          Colisão frontal   \n",
       "2           ITABIRITO                       Outras           Saída de Pista   \n",
       "3            SAO LUIS             Animais na Pista  Atropelamento de animal   \n",
       "4             CAUCAIA  Defeito mecânico em veículo              Capotamento   \n",
       "...               ...                          ...                      ...   \n",
       "127670       ARAGUARI             Falta de atenção  Colisão com objeto fixo   \n",
       "127671  PRUDENTOPOLIS                       Outras          Danos Eventuais   \n",
       "127672        CACERES                       Outras          Colisão frontal   \n",
       "127673        INDAIAL             Falta de atenção      Colisão Transversal   \n",
       "127674   SIMOES FILHO             Falta de atenção         Colisão traseira   \n",
       "\n",
       "        ... uso_solo   ano pessoas mortos feridos_leves feridos_graves ilesos  \\\n",
       "0       ...    Rural  2007       9      0             4              0      5   \n",
       "1       ...    Rural  2007       9      0             4              0      5   \n",
       "2       ...    Rural  2007       3      0             0              1      2   \n",
       "3       ...   Urbano  2007       5      2             2              1      0   \n",
       "4       ...    Rural  2007       1      0             1              0      0   \n",
       "...     ...      ...   ...     ...    ...           ...            ...    ...   \n",
       "127670  ...    Rural  2007       4      0             2              2      0   \n",
       "127671  ...    Rural  2007       3      0             0              1      2   \n",
       "127672  ...    Rural  2007       9      1             0              6      2   \n",
       "127673  ...   Urbano  2007       3      0             3              0      0   \n",
       "127674  ...   Urbano  2007       2      0             0              0      2   \n",
       "\n",
       "        ignorados  feridos  veiculos  \n",
       "0               0        4         6  \n",
       "1               0        4         6  \n",
       "2               0        1         1  \n",
       "3               0        3         1  \n",
       "4               0        1         1  \n",
       "...           ...      ...       ...  \n",
       "127670          0        4         1  \n",
       "127671          0        1         2  \n",
       "127672          0        6         3  \n",
       "127673          0        3         2  \n",
       "127674          0        0         2  \n",
       "\n",
       "[127645 rows x 26 columns]"
      ]
     },
     "execution_count": 110,
     "metadata": {},
     "output_type": "execute_result"
    }
   ],
   "source": [
    "df"
   ]
  },
  {
   "cell_type": "code",
   "execution_count": 111,
   "id": "862b2ec2",
   "metadata": {},
   "outputs": [],
   "source": [
    "df['ocorrencia'] = df['id']"
   ]
  },
  {
   "cell_type": "code",
   "execution_count": 112,
   "id": "3916fbea",
   "metadata": {},
   "outputs": [
    {
     "data": {
      "text/plain": [
       "id                        127645\n",
       "data_inversa              127645\n",
       "dia_semana                127645\n",
       "horario                   127645\n",
       "uf                        127645\n",
       "br                        127645\n",
       "km                        127645\n",
       "municipio                 127645\n",
       "causa_acidente            127645\n",
       "tipo_acidente             127645\n",
       "classificacao_acidente    127645\n",
       "fase_dia                  127645\n",
       "sentido_via               127645\n",
       "condicao_metereologica    127645\n",
       "tipo_pista                127645\n",
       "tracado_via               127645\n",
       "uso_solo                  127645\n",
       "ano                       127645\n",
       "pessoas                   127645\n",
       "mortos                    127645\n",
       "feridos_leves             127645\n",
       "feridos_graves            127645\n",
       "ilesos                    127645\n",
       "ignorados                 127645\n",
       "feridos                   127645\n",
       "veiculos                  127645\n",
       "ocorrencia                127645\n",
       "dtype: int64"
      ]
     },
     "execution_count": 112,
     "metadata": {},
     "output_type": "execute_result"
    }
   ],
   "source": [
    "df.count()"
   ]
  },
  {
   "cell_type": "markdown",
   "id": "3210b7c6",
   "metadata": {},
   "source": [
    "### Qual foi o dia da semana com mais acidentes?"
   ]
  },
  {
   "cell_type": "code",
   "execution_count": 113,
   "id": "968883e7",
   "metadata": {},
   "outputs": [
    {
     "data": {
      "text/plain": [
       "dia_semana\n",
       "Domingo    20296\n",
       "Quarta     16277\n",
       "Quinta     17196\n",
       "Segunda    16924\n",
       "Sexta      20575\n",
       "Sábado     20462\n",
       "Terça      15915\n",
       "Name: ocorrencia, dtype: int64"
      ]
     },
     "execution_count": 113,
     "metadata": {},
     "output_type": "execute_result"
    }
   ],
   "source": [
    "df.groupby(by='dia_semana').count()['ocorrencia']"
   ]
  },
  {
   "cell_type": "code",
   "execution_count": 114,
   "id": "febcc028",
   "metadata": {},
   "outputs": [
    {
     "data": {
      "text/html": [
       "<div>\n",
       "<style scoped>\n",
       "    .dataframe tbody tr th:only-of-type {\n",
       "        vertical-align: middle;\n",
       "    }\n",
       "\n",
       "    .dataframe tbody tr th {\n",
       "        vertical-align: top;\n",
       "    }\n",
       "\n",
       "    .dataframe thead th {\n",
       "        text-align: right;\n",
       "    }\n",
       "</style>\n",
       "<table border=\"1\" class=\"dataframe\">\n",
       "  <thead>\n",
       "    <tr style=\"text-align: right;\">\n",
       "      <th></th>\n",
       "      <th>ocorrencia</th>\n",
       "    </tr>\n",
       "    <tr>\n",
       "      <th>dia_semana</th>\n",
       "      <th></th>\n",
       "    </tr>\n",
       "  </thead>\n",
       "  <tbody>\n",
       "    <tr>\n",
       "      <th>Sexta</th>\n",
       "      <td>20575</td>\n",
       "    </tr>\n",
       "    <tr>\n",
       "      <th>Sábado</th>\n",
       "      <td>20462</td>\n",
       "    </tr>\n",
       "    <tr>\n",
       "      <th>Domingo</th>\n",
       "      <td>20296</td>\n",
       "    </tr>\n",
       "    <tr>\n",
       "      <th>Quinta</th>\n",
       "      <td>17196</td>\n",
       "    </tr>\n",
       "    <tr>\n",
       "      <th>Segunda</th>\n",
       "      <td>16924</td>\n",
       "    </tr>\n",
       "    <tr>\n",
       "      <th>Quarta</th>\n",
       "      <td>16277</td>\n",
       "    </tr>\n",
       "    <tr>\n",
       "      <th>Terça</th>\n",
       "      <td>15915</td>\n",
       "    </tr>\n",
       "  </tbody>\n",
       "</table>\n",
       "</div>"
      ],
      "text/plain": [
       "            ocorrencia\n",
       "dia_semana            \n",
       "Sexta            20575\n",
       "Sábado           20462\n",
       "Domingo          20296\n",
       "Quinta           17196\n",
       "Segunda          16924\n",
       "Quarta           16277\n",
       "Terça            15915"
      ]
     },
     "execution_count": 114,
     "metadata": {},
     "output_type": "execute_result"
    }
   ],
   "source": [
    "dia_semana = pd.DataFrame(df.groupby(by='dia_semana').count()['ocorrencia'])\n",
    "dia_semana.sort_values(by='ocorrencia', ascending=False)"
   ]
  },
  {
   "cell_type": "markdown",
   "id": "a58224bc",
   "metadata": {},
   "source": [
    "####  O dia da semana com mais acidentes em todo o Brasil foi sexta-feira com 20575"
   ]
  },
  {
   "cell_type": "markdown",
   "id": "6f6518e8",
   "metadata": {},
   "source": [
    "### Qual foi o estado com maior número de acidentes?"
   ]
  },
  {
   "cell_type": "code",
   "execution_count": 115,
   "id": "34aa7841",
   "metadata": {},
   "outputs": [
    {
     "data": {
      "text/plain": [
       "uf\n",
       "AC      324\n",
       "AL     1604\n",
       "AM      173\n",
       "AP      150\n",
       "BA     7086\n",
       "CE     2260\n",
       "DF     1138\n",
       "ES     6242\n",
       "GO     5607\n",
       "MA     2112\n",
       "MG    20600\n",
       "MS     2299\n",
       "MT     2636\n",
       "PA     3127\n",
       "PB     2695\n",
       "PE     4762\n",
       "PI     1881\n",
       "PR     7073\n",
       "RJ    11669\n",
       "RN     3067\n",
       "RO     2082\n",
       "RR      458\n",
       "RS    11037\n",
       "SC    14584\n",
       "SE     1159\n",
       "SP    11109\n",
       "TO      711\n",
       "Name: ocorrencia, dtype: int64"
      ]
     },
     "execution_count": 115,
     "metadata": {},
     "output_type": "execute_result"
    }
   ],
   "source": [
    "df.groupby(by=['uf']).count()['ocorrencia']"
   ]
  },
  {
   "cell_type": "code",
   "execution_count": 116,
   "id": "21eda586",
   "metadata": {},
   "outputs": [],
   "source": [
    "df_estado = pd.DataFrame(df.groupby(by=['uf']).count()['id'].sort_values(ascending=False))"
   ]
  },
  {
   "cell_type": "code",
   "execution_count": 117,
   "id": "48e213fa",
   "metadata": {},
   "outputs": [
    {
     "data": {
      "text/plain": [
       "Index(['id'], dtype='object')"
      ]
     },
     "execution_count": 117,
     "metadata": {},
     "output_type": "execute_result"
    }
   ],
   "source": [
    "df_estado.columns"
   ]
  },
  {
   "cell_type": "code",
   "execution_count": 118,
   "id": "c6a7696b",
   "metadata": {},
   "outputs": [
    {
     "data": {
      "text/html": [
       "<div>\n",
       "<style scoped>\n",
       "    .dataframe tbody tr th:only-of-type {\n",
       "        vertical-align: middle;\n",
       "    }\n",
       "\n",
       "    .dataframe tbody tr th {\n",
       "        vertical-align: top;\n",
       "    }\n",
       "\n",
       "    .dataframe thead th {\n",
       "        text-align: right;\n",
       "    }\n",
       "</style>\n",
       "<table border=\"1\" class=\"dataframe\">\n",
       "  <thead>\n",
       "    <tr style=\"text-align: right;\">\n",
       "      <th></th>\n",
       "      <th>id</th>\n",
       "    </tr>\n",
       "    <tr>\n",
       "      <th>uf</th>\n",
       "      <th></th>\n",
       "    </tr>\n",
       "  </thead>\n",
       "  <tbody>\n",
       "    <tr>\n",
       "      <th>MG</th>\n",
       "      <td>20600</td>\n",
       "    </tr>\n",
       "    <tr>\n",
       "      <th>SC</th>\n",
       "      <td>14584</td>\n",
       "    </tr>\n",
       "    <tr>\n",
       "      <th>RJ</th>\n",
       "      <td>11669</td>\n",
       "    </tr>\n",
       "    <tr>\n",
       "      <th>SP</th>\n",
       "      <td>11109</td>\n",
       "    </tr>\n",
       "    <tr>\n",
       "      <th>RS</th>\n",
       "      <td>11037</td>\n",
       "    </tr>\n",
       "    <tr>\n",
       "      <th>BA</th>\n",
       "      <td>7086</td>\n",
       "    </tr>\n",
       "    <tr>\n",
       "      <th>PR</th>\n",
       "      <td>7073</td>\n",
       "    </tr>\n",
       "    <tr>\n",
       "      <th>ES</th>\n",
       "      <td>6242</td>\n",
       "    </tr>\n",
       "    <tr>\n",
       "      <th>GO</th>\n",
       "      <td>5607</td>\n",
       "    </tr>\n",
       "    <tr>\n",
       "      <th>PE</th>\n",
       "      <td>4762</td>\n",
       "    </tr>\n",
       "    <tr>\n",
       "      <th>PA</th>\n",
       "      <td>3127</td>\n",
       "    </tr>\n",
       "    <tr>\n",
       "      <th>RN</th>\n",
       "      <td>3067</td>\n",
       "    </tr>\n",
       "    <tr>\n",
       "      <th>PB</th>\n",
       "      <td>2695</td>\n",
       "    </tr>\n",
       "    <tr>\n",
       "      <th>MT</th>\n",
       "      <td>2636</td>\n",
       "    </tr>\n",
       "    <tr>\n",
       "      <th>MS</th>\n",
       "      <td>2299</td>\n",
       "    </tr>\n",
       "  </tbody>\n",
       "</table>\n",
       "</div>"
      ],
      "text/plain": [
       "       id\n",
       "uf       \n",
       "MG  20600\n",
       "SC  14584\n",
       "RJ  11669\n",
       "SP  11109\n",
       "RS  11037\n",
       "BA   7086\n",
       "PR   7073\n",
       "ES   6242\n",
       "GO   5607\n",
       "PE   4762\n",
       "PA   3127\n",
       "RN   3067\n",
       "PB   2695\n",
       "MT   2636\n",
       "MS   2299"
      ]
     },
     "execution_count": 118,
     "metadata": {},
     "output_type": "execute_result"
    }
   ],
   "source": [
    "df_estado.head(15)"
   ]
  },
  {
   "cell_type": "markdown",
   "id": "56fdaf09",
   "metadata": {},
   "source": [
    "#### O estado de MG foi o com a maior ocorrência de acidentes, com 20600 ocorrências."
   ]
  },
  {
   "cell_type": "markdown",
   "id": "a5cf0730",
   "metadata": {},
   "source": [
    "### Causa de acidentes"
   ]
  },
  {
   "cell_type": "code",
   "execution_count": 119,
   "id": "d25e4c99",
   "metadata": {},
   "outputs": [
    {
     "data": {
      "text/plain": [
       "causa_acidente\n",
       "Outras                                45962\n",
       "Falta de atenção                      42247\n",
       "Não guardar distância de segurança     8135\n",
       "Velocidade incompatível                6005\n",
       "Defeito mecânico em veículo            5403\n",
       "Animais na Pista                       4201\n",
       "Desobediência à sinalização            4041\n",
       "Dormindo                               3363\n",
       "Ingestão de álcool                     3103\n",
       "Ultrapassagem indevida                 2837\n",
       "Defeito na via                         2348\n",
       "Name: id, dtype: int64"
      ]
     },
     "execution_count": 119,
     "metadata": {},
     "output_type": "execute_result"
    }
   ],
   "source": [
    "df.groupby(by='causa_acidente').count()['id'].sort_values(ascending=False)"
   ]
  },
  {
   "cell_type": "code",
   "execution_count": 120,
   "id": "255b5b47",
   "metadata": {},
   "outputs": [],
   "source": [
    "df_causas = pd.DataFrame(df.groupby(by='causa_acidente').count()['id'].sort_values(ascending=False))"
   ]
  },
  {
   "cell_type": "code",
   "execution_count": 121,
   "id": "1eb1c8f4",
   "metadata": {},
   "outputs": [
    {
     "data": {
      "text/html": [
       "<div>\n",
       "<style scoped>\n",
       "    .dataframe tbody tr th:only-of-type {\n",
       "        vertical-align: middle;\n",
       "    }\n",
       "\n",
       "    .dataframe tbody tr th {\n",
       "        vertical-align: top;\n",
       "    }\n",
       "\n",
       "    .dataframe thead th {\n",
       "        text-align: right;\n",
       "    }\n",
       "</style>\n",
       "<table border=\"1\" class=\"dataframe\">\n",
       "  <thead>\n",
       "    <tr style=\"text-align: right;\">\n",
       "      <th></th>\n",
       "      <th>id</th>\n",
       "    </tr>\n",
       "    <tr>\n",
       "      <th>causa_acidente</th>\n",
       "      <th></th>\n",
       "    </tr>\n",
       "  </thead>\n",
       "  <tbody>\n",
       "    <tr>\n",
       "      <th>Outras</th>\n",
       "      <td>45962</td>\n",
       "    </tr>\n",
       "    <tr>\n",
       "      <th>Falta de atenção</th>\n",
       "      <td>42247</td>\n",
       "    </tr>\n",
       "    <tr>\n",
       "      <th>Não guardar distância de segurança</th>\n",
       "      <td>8135</td>\n",
       "    </tr>\n",
       "    <tr>\n",
       "      <th>Velocidade incompatível</th>\n",
       "      <td>6005</td>\n",
       "    </tr>\n",
       "    <tr>\n",
       "      <th>Defeito mecânico em veículo</th>\n",
       "      <td>5403</td>\n",
       "    </tr>\n",
       "    <tr>\n",
       "      <th>Animais na Pista</th>\n",
       "      <td>4201</td>\n",
       "    </tr>\n",
       "    <tr>\n",
       "      <th>Desobediência à sinalização</th>\n",
       "      <td>4041</td>\n",
       "    </tr>\n",
       "    <tr>\n",
       "      <th>Dormindo</th>\n",
       "      <td>3363</td>\n",
       "    </tr>\n",
       "    <tr>\n",
       "      <th>Ingestão de álcool</th>\n",
       "      <td>3103</td>\n",
       "    </tr>\n",
       "    <tr>\n",
       "      <th>Ultrapassagem indevida</th>\n",
       "      <td>2837</td>\n",
       "    </tr>\n",
       "    <tr>\n",
       "      <th>Defeito na via</th>\n",
       "      <td>2348</td>\n",
       "    </tr>\n",
       "  </tbody>\n",
       "</table>\n",
       "</div>"
      ],
      "text/plain": [
       "                                       id\n",
       "causa_acidente                           \n",
       "Outras                              45962\n",
       "Falta de atenção                    42247\n",
       "Não guardar distância de segurança   8135\n",
       "Velocidade incompatível              6005\n",
       "Defeito mecânico em veículo          5403\n",
       "Animais na Pista                     4201\n",
       "Desobediência à sinalização          4041\n",
       "Dormindo                             3363\n",
       "Ingestão de álcool                   3103\n",
       "Ultrapassagem indevida               2837\n",
       "Defeito na via                       2348"
      ]
     },
     "execution_count": 121,
     "metadata": {},
     "output_type": "execute_result"
    }
   ],
   "source": [
    "df_causas"
   ]
  },
  {
   "cell_type": "markdown",
   "id": "3970254d",
   "metadata": {},
   "source": [
    "#### A maior causa de acidentes foi falta de atenção, com 42247 registros."
   ]
  },
  {
   "cell_type": "code",
   "execution_count": 122,
   "id": "9f5334f9",
   "metadata": {},
   "outputs": [
    {
     "name": "stdout",
     "output_type": "stream",
     "text": [
      "Digite o estado que deseja checar seu dia da semana mais perigoso: mg\n",
      "dia_semana\n",
      "Domingo    3458\n",
      "Name: id, dtype: int64\n"
     ]
    }
   ],
   "source": [
    "uf = input(str('Digite o estado que deseja checar seu dia da semana mais perigoso: '))\n",
    "por_estado_mais = df[df['uf']== uf.upper()].groupby(by='dia_semana').count()['id'].sort_values(ascending=False)\n",
    "print(f'{por_estado_mais.head(1)}')"
   ]
  },
  {
   "cell_type": "code",
   "execution_count": 123,
   "id": "26829a0c",
   "metadata": {},
   "outputs": [],
   "source": [
    "estados = pd.DataFrame(df['uf'].unique())"
   ]
  },
  {
   "cell_type": "code",
   "execution_count": 170,
   "id": "488e80ef",
   "metadata": {},
   "outputs": [
    {
     "data": {
      "text/html": [
       "<div>\n",
       "<style scoped>\n",
       "    .dataframe tbody tr th:only-of-type {\n",
       "        vertical-align: middle;\n",
       "    }\n",
       "\n",
       "    .dataframe tbody tr th {\n",
       "        vertical-align: top;\n",
       "    }\n",
       "\n",
       "    .dataframe thead th {\n",
       "        text-align: right;\n",
       "    }\n",
       "</style>\n",
       "<table border=\"1\" class=\"dataframe\">\n",
       "  <thead>\n",
       "    <tr style=\"text-align: right;\">\n",
       "      <th></th>\n",
       "      <th>id</th>\n",
       "    </tr>\n",
       "    <tr>\n",
       "      <th>uf</th>\n",
       "      <th></th>\n",
       "    </tr>\n",
       "  </thead>\n",
       "  <tbody>\n",
       "    <tr>\n",
       "      <th>AP</th>\n",
       "      <td>150</td>\n",
       "    </tr>\n",
       "    <tr>\n",
       "      <th>AM</th>\n",
       "      <td>173</td>\n",
       "    </tr>\n",
       "    <tr>\n",
       "      <th>AC</th>\n",
       "      <td>324</td>\n",
       "    </tr>\n",
       "    <tr>\n",
       "      <th>RR</th>\n",
       "      <td>458</td>\n",
       "    </tr>\n",
       "    <tr>\n",
       "      <th>TO</th>\n",
       "      <td>711</td>\n",
       "    </tr>\n",
       "  </tbody>\n",
       "</table>\n",
       "</div>"
      ],
      "text/plain": [
       "     id\n",
       "uf     \n",
       "AP  150\n",
       "AM  173\n",
       "AC  324\n",
       "RR  458\n",
       "TO  711"
      ]
     },
     "execution_count": 170,
     "metadata": {},
     "output_type": "execute_result"
    }
   ],
   "source": [
    "pd.DataFrame(df.groupby(by='uf').count()['id']).sort_values(by='id').head()"
   ]
  },
  {
   "cell_type": "code",
   "execution_count": 180,
   "id": "29c67318",
   "metadata": {},
   "outputs": [
    {
     "data": {
      "text/plain": [
       "id    0.540554\n",
       "dtype: float64"
      ]
     },
     "execution_count": 180,
     "metadata": {},
     "output_type": "execute_result"
    }
   ],
   "source": [
    "pd.DataFrame(df.groupby(by='uf').count()['id']).sort_values(by='id', ascending=False).head().sum()/df['id'].count()"
   ]
  },
  {
   "cell_type": "markdown",
   "id": "851a0372",
   "metadata": {},
   "source": [
    "### Estradas"
   ]
  },
  {
   "cell_type": "code",
   "execution_count": 125,
   "id": "9dc88b4c",
   "metadata": {},
   "outputs": [
    {
     "data": {
      "text/plain": [
       "Index(['id', 'data_inversa', 'dia_semana', 'horario', 'uf', 'br', 'km',\n",
       "       'municipio', 'causa_acidente', 'tipo_acidente',\n",
       "       'classificacao_acidente', 'fase_dia', 'sentido_via',\n",
       "       'condicao_metereologica', 'tipo_pista', 'tracado_via', 'uso_solo',\n",
       "       'ano', 'pessoas', 'mortos', 'feridos_leves', 'feridos_graves', 'ilesos',\n",
       "       'ignorados', 'feridos', 'veiculos', 'ocorrencia'],\n",
       "      dtype='object')"
      ]
     },
     "execution_count": 125,
     "metadata": {},
     "output_type": "execute_result"
    }
   ],
   "source": [
    "df.columns"
   ]
  },
  {
   "cell_type": "code",
   "execution_count": 126,
   "id": "44a87007",
   "metadata": {},
   "outputs": [
    {
     "data": {
      "text/html": [
       "<div>\n",
       "<style scoped>\n",
       "    .dataframe tbody tr th:only-of-type {\n",
       "        vertical-align: middle;\n",
       "    }\n",
       "\n",
       "    .dataframe tbody tr th {\n",
       "        vertical-align: top;\n",
       "    }\n",
       "\n",
       "    .dataframe thead th {\n",
       "        text-align: right;\n",
       "    }\n",
       "</style>\n",
       "<table border=\"1\" class=\"dataframe\">\n",
       "  <thead>\n",
       "    <tr style=\"text-align: right;\">\n",
       "      <th></th>\n",
       "      <th>id</th>\n",
       "    </tr>\n",
       "    <tr>\n",
       "      <th>sentido_via</th>\n",
       "      <th></th>\n",
       "    </tr>\n",
       "  </thead>\n",
       "  <tbody>\n",
       "    <tr>\n",
       "      <th>Crescente</th>\n",
       "      <td>65446</td>\n",
       "    </tr>\n",
       "    <tr>\n",
       "      <th>Decrescente</th>\n",
       "      <td>62199</td>\n",
       "    </tr>\n",
       "  </tbody>\n",
       "</table>\n",
       "</div>"
      ],
      "text/plain": [
       "                id\n",
       "sentido_via       \n",
       "Crescente    65446\n",
       "Decrescente  62199"
      ]
     },
     "execution_count": 126,
     "metadata": {},
     "output_type": "execute_result"
    }
   ],
   "source": [
    "#Sentido via\n",
    "pd.DataFrame(df.groupby(by='sentido_via').count()['id']).sort_values(by='id', ascending=False)"
   ]
  },
  {
   "cell_type": "code",
   "execution_count": 127,
   "id": "01a17336",
   "metadata": {},
   "outputs": [
    {
     "data": {
      "text/plain": [
       "<AxesSubplot:ylabel='sentido_via'>"
      ]
     },
     "execution_count": 127,
     "metadata": {},
     "output_type": "execute_result"
    },
    {
     "data": {
      "image/png": "[encoded data removed]",
      "text/plain": [
       "<Figure size 432x288 with 1 Axes>"
      ]
     },
     "metadata": {
      "needs_background": "light"
     },
     "output_type": "display_data"
    }
   ],
   "source": [
    "pd.DataFrame(df.groupby(by='sentido_via').count()['id']).sort_values(by='id', ascending=False).plot(kind='barh')"
   ]
  },
  {
   "cell_type": "code",
   "execution_count": 128,
   "id": "f5a30574",
   "metadata": {},
   "outputs": [
    {
     "data": {
      "text/html": [
       "<div>\n",
       "<style scoped>\n",
       "    .dataframe tbody tr th:only-of-type {\n",
       "        vertical-align: middle;\n",
       "    }\n",
       "\n",
       "    .dataframe tbody tr th {\n",
       "        vertical-align: top;\n",
       "    }\n",
       "\n",
       "    .dataframe thead th {\n",
       "        text-align: right;\n",
       "    }\n",
       "</style>\n",
       "<table border=\"1\" class=\"dataframe\">\n",
       "  <thead>\n",
       "    <tr style=\"text-align: right;\">\n",
       "      <th></th>\n",
       "      <th>id</th>\n",
       "    </tr>\n",
       "    <tr>\n",
       "      <th>sentido_via</th>\n",
       "      <th></th>\n",
       "    </tr>\n",
       "  </thead>\n",
       "  <tbody>\n",
       "    <tr>\n",
       "      <th>Crescente</th>\n",
       "      <td>65446</td>\n",
       "    </tr>\n",
       "    <tr>\n",
       "      <th>Decrescente</th>\n",
       "      <td>62199</td>\n",
       "    </tr>\n",
       "  </tbody>\n",
       "</table>\n",
       "</div>"
      ],
      "text/plain": [
       "                id\n",
       "sentido_via       \n",
       "Crescente    65446\n",
       "Decrescente  62199"
      ]
     },
     "execution_count": 128,
     "metadata": {},
     "output_type": "execute_result"
    }
   ],
   "source": [
    "#Tipo via\n",
    "pd.DataFrame(df.groupby(by='sentido_via').count()['id'])"
   ]
  },
  {
   "cell_type": "code",
   "execution_count": 129,
   "id": "b75f1835",
   "metadata": {},
   "outputs": [
    {
     "data": {
      "text/plain": [
       "<AxesSubplot:xlabel='sentido_via'>"
      ]
     },
     "execution_count": 129,
     "metadata": {},
     "output_type": "execute_result"
    },
    {
     "data": {
      "image/png": "[encoded data removed]",
      "text/plain": [
       "<Figure size 432x288 with 1 Axes>"
      ]
     },
     "metadata": {
      "needs_background": "light"
     },
     "output_type": "display_data"
    }
   ],
   "source": [
    "pd.DataFrame(df.groupby(by='sentido_via').count()['id']).plot(kind='bar')"
   ]
  },
  {
   "cell_type": "code",
   "execution_count": 130,
   "id": "ac5c098b",
   "metadata": {},
   "outputs": [
    {
     "data": {
      "text/html": [
       "<div>\n",
       "<style scoped>\n",
       "    .dataframe tbody tr th:only-of-type {\n",
       "        vertical-align: middle;\n",
       "    }\n",
       "\n",
       "    .dataframe tbody tr th {\n",
       "        vertical-align: top;\n",
       "    }\n",
       "\n",
       "    .dataframe thead th {\n",
       "        text-align: right;\n",
       "    }\n",
       "</style>\n",
       "<table border=\"1\" class=\"dataframe\">\n",
       "  <thead>\n",
       "    <tr style=\"text-align: right;\">\n",
       "      <th></th>\n",
       "      <th>id</th>\n",
       "    </tr>\n",
       "    <tr>\n",
       "      <th>tracado_via</th>\n",
       "      <th></th>\n",
       "    </tr>\n",
       "  </thead>\n",
       "  <tbody>\n",
       "    <tr>\n",
       "      <th>Reta</th>\n",
       "      <td>90997</td>\n",
       "    </tr>\n",
       "    <tr>\n",
       "      <th>Curva</th>\n",
       "      <td>28319</td>\n",
       "    </tr>\n",
       "    <tr>\n",
       "      <th>Cruzamento</th>\n",
       "      <td>8329</td>\n",
       "    </tr>\n",
       "  </tbody>\n",
       "</table>\n",
       "</div>"
      ],
      "text/plain": [
       "                id\n",
       "tracado_via       \n",
       "Reta         90997\n",
       "Curva        28319\n",
       "Cruzamento    8329"
      ]
     },
     "execution_count": 130,
     "metadata": {},
     "output_type": "execute_result"
    }
   ],
   "source": [
    "#Traçado via\n",
    "pd.DataFrame(df.groupby(by='tracado_via').count()['id']).sort_values(by='id', ascending=False)"
   ]
  },
  {
   "cell_type": "code",
   "execution_count": 131,
   "id": "8aa2bcdb",
   "metadata": {},
   "outputs": [
    {
     "data": {
      "text/plain": [
       "<AxesSubplot:ylabel='tracado_via'>"
      ]
     },
     "execution_count": 131,
     "metadata": {},
     "output_type": "execute_result"
    },
    {
     "data": {
      "image/png": "[encoded data removed]",
      "text/plain": [
       "<Figure size 432x288 with 1 Axes>"
      ]
     },
     "metadata": {
      "needs_background": "light"
     },
     "output_type": "display_data"
    }
   ],
   "source": [
    "pd.DataFrame(df.groupby(by='tracado_via').count()['id']).sort_values(by='id', ascending=False).plot(kind='barh')"
   ]
  },
  {
   "cell_type": "code",
   "execution_count": 132,
   "id": "8fc982c4",
   "metadata": {},
   "outputs": [
    {
     "data": {
      "text/html": [
       "<div>\n",
       "<style scoped>\n",
       "    .dataframe tbody tr th:only-of-type {\n",
       "        vertical-align: middle;\n",
       "    }\n",
       "\n",
       "    .dataframe tbody tr th {\n",
       "        vertical-align: top;\n",
       "    }\n",
       "\n",
       "    .dataframe thead th {\n",
       "        text-align: right;\n",
       "    }\n",
       "</style>\n",
       "<table border=\"1\" class=\"dataframe\">\n",
       "  <thead>\n",
       "    <tr style=\"text-align: right;\">\n",
       "      <th></th>\n",
       "      <th>id</th>\n",
       "    </tr>\n",
       "    <tr>\n",
       "      <th>uso_solo</th>\n",
       "      <th></th>\n",
       "    </tr>\n",
       "  </thead>\n",
       "  <tbody>\n",
       "    <tr>\n",
       "      <th>Rural</th>\n",
       "      <td>65199</td>\n",
       "    </tr>\n",
       "    <tr>\n",
       "      <th>Urbano</th>\n",
       "      <td>62446</td>\n",
       "    </tr>\n",
       "  </tbody>\n",
       "</table>\n",
       "</div>"
      ],
      "text/plain": [
       "             id\n",
       "uso_solo       \n",
       "Rural     65199\n",
       "Urbano    62446"
      ]
     },
     "execution_count": 132,
     "metadata": {},
     "output_type": "execute_result"
    }
   ],
   "source": [
    "#Uso solo\n",
    "pd.DataFrame(df.groupby(by='uso_solo').count()['id'])"
   ]
  },
  {
   "cell_type": "code",
   "execution_count": 133,
   "id": "050b1362",
   "metadata": {},
   "outputs": [
    {
     "data": {
      "text/plain": [
       "<AxesSubplot:ylabel='uso_solo'>"
      ]
     },
     "execution_count": 133,
     "metadata": {},
     "output_type": "execute_result"
    },
    {
     "data": {
      "image/png": "[encoded data removed]",
      "text/plain": [
       "<Figure size 432x288 with 1 Axes>"
      ]
     },
     "metadata": {
      "needs_background": "light"
     },
     "output_type": "display_data"
    }
   ],
   "source": [
    "pd.DataFrame(df.groupby(by='uso_solo').count()['id']).plot(kind='barh')"
   ]
  },
  {
   "cell_type": "markdown",
   "id": "63c02500",
   "metadata": {},
   "source": [
    "### Vítimas"
   ]
  },
  {
   "cell_type": "code",
   "execution_count": 134,
   "id": "934266ef",
   "metadata": {},
   "outputs": [
    {
     "data": {
      "text/plain": [
       "Index(['id', 'data_inversa', 'dia_semana', 'horario', 'uf', 'br', 'km',\n",
       "       'municipio', 'causa_acidente', 'tipo_acidente',\n",
       "       'classificacao_acidente', 'fase_dia', 'sentido_via',\n",
       "       'condicao_metereologica', 'tipo_pista', 'tracado_via', 'uso_solo',\n",
       "       'ano', 'pessoas', 'mortos', 'feridos_leves', 'feridos_graves', 'ilesos',\n",
       "       'ignorados', 'feridos', 'veiculos', 'ocorrencia'],\n",
       "      dtype='object')"
      ]
     },
     "execution_count": 134,
     "metadata": {},
     "output_type": "execute_result"
    }
   ],
   "source": [
    "df.columns"
   ]
  },
  {
   "cell_type": "code",
   "execution_count": 164,
   "id": "3cb177e8",
   "metadata": {},
   "outputs": [
    {
     "data": {
      "text/html": [
       "<div>\n",
       "<style scoped>\n",
       "    .dataframe tbody tr th:only-of-type {\n",
       "        vertical-align: middle;\n",
       "    }\n",
       "\n",
       "    .dataframe tbody tr th {\n",
       "        vertical-align: top;\n",
       "    }\n",
       "\n",
       "    .dataframe thead th {\n",
       "        text-align: right;\n",
       "    }\n",
       "</style>\n",
       "<table border=\"1\" class=\"dataframe\">\n",
       "  <thead>\n",
       "    <tr style=\"text-align: right;\">\n",
       "      <th></th>\n",
       "      <th>feridos_graves</th>\n",
       "    </tr>\n",
       "    <tr>\n",
       "      <th>uf</th>\n",
       "      <th></th>\n",
       "    </tr>\n",
       "  </thead>\n",
       "  <tbody>\n",
       "    <tr>\n",
       "      <th>MG</th>\n",
       "      <td>4066</td>\n",
       "    </tr>\n",
       "    <tr>\n",
       "      <th>SC</th>\n",
       "      <td>2366</td>\n",
       "    </tr>\n",
       "    <tr>\n",
       "      <th>RS</th>\n",
       "      <td>1527</td>\n",
       "    </tr>\n",
       "    <tr>\n",
       "      <th>GO</th>\n",
       "      <td>1508</td>\n",
       "    </tr>\n",
       "    <tr>\n",
       "      <th>RJ</th>\n",
       "      <td>1463</td>\n",
       "    </tr>\n",
       "  </tbody>\n",
       "</table>\n",
       "</div>"
      ],
      "text/plain": [
       "    feridos_graves\n",
       "uf                \n",
       "MG            4066\n",
       "SC            2366\n",
       "RS            1527\n",
       "GO            1508\n",
       "RJ            1463"
      ]
     },
     "execution_count": 164,
     "metadata": {},
     "output_type": "execute_result"
    }
   ],
   "source": [
    "pd.DataFrame(df.groupby(by='uf').sum()['feridos_graves'].sort_values(ascending=False)).head()"
   ]
  },
  {
   "cell_type": "code",
   "execution_count": 181,
   "id": "d7405470",
   "metadata": {},
   "outputs": [
    {
     "data": {
      "text/plain": [
       "<AxesSubplot:ylabel='uf'>"
      ]
     },
     "execution_count": 181,
     "metadata": {},
     "output_type": "execute_result"
    },
    {
     "data": {
      "image/png": "[encoded data removed]",
      "text/plain": [
       "<Figure size 432x288 with 1 Axes>"
      ]
     },
     "metadata": {
      "needs_background": "light"
     },
     "output_type": "display_data"
    }
   ],
   "source": [
    "pd.DataFrame(df.groupby(by='uf').sum()['feridos_graves'].sort_values(ascending=False)).head().plot(kind='barh')"
   ]
  },
  {
   "cell_type": "code",
   "execution_count": 163,
   "id": "08ff4a9e",
   "metadata": {},
   "outputs": [
    {
     "data": {
      "text/plain": [
       "feridos_graves    0.463843\n",
       "dtype: float64"
      ]
     },
     "execution_count": 163,
     "metadata": {},
     "output_type": "execute_result"
    }
   ],
   "source": [
    "pd.DataFrame(df.groupby(by='uf').sum()['feridos_graves'].sort_values(ascending=False)).head().sum()/df['feridos_graves'].sum()\n"
   ]
  },
  {
   "cell_type": "code",
   "execution_count": 182,
   "id": "c8dd6fc8",
   "metadata": {},
   "outputs": [
    {
     "data": {
      "text/plain": [
       "Index(['id', 'data_inversa', 'dia_semana', 'horario', 'uf', 'br', 'km',\n",
       "       'municipio', 'causa_acidente', 'tipo_acidente',\n",
       "       'classificacao_acidente', 'fase_dia', 'sentido_via',\n",
       "       'condicao_metereologica', 'tipo_pista', 'tracado_via', 'uso_solo',\n",
       "       'ano', 'pessoas', 'mortos', 'feridos_leves', 'feridos_graves', 'ilesos',\n",
       "       'ignorados', 'feridos', 'veiculos', 'ocorrencia'],\n",
       "      dtype='object')"
      ]
     },
     "execution_count": 182,
     "metadata": {},
     "output_type": "execute_result"
    }
   ],
   "source": [
    "df.columns"
   ]
  },
  {
   "cell_type": "markdown",
   "id": "ed20a75d",
   "metadata": {},
   "source": [
    "# O que nós queremos saber de fato é, o dia da semana com mais acidentes e em relação aos outros dia, causa, os estados com mais mortos e feridos graves e em relação aos outros e destacar traçado pista. Faça para todos e junte tudo! É PARA SEGUNDA DE MANHÃ! "
   ]
  }
 ],
 "metadata": {
  "kernelspec": {
   "display_name": "Python 3 (ipykernel)",
   "language": "python",
   "name": "python3"
  },
  "language_info": {
   "codemirror_mode": {
    "name": "ipython",
    "version": 3
   },
   "file_extension": ".py",
   "mimetype": "text/x-python",
   "name": "python",
   "nbconvert_exporter": "python",
   "pygments_lexer": "ipython3",
   "version": "3.8.10"
  }
 },
 "nbformat": 4,
 "nbformat_minor": 5
}
