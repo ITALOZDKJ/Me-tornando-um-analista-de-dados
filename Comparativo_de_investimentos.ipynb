{
  "nbformat": 4,
  "nbformat_minor": 0,
  "metadata": {
    "colab": {
      "name": "Comparativo de investimentos.ipynb",
      "provenance": [],
      "include_colab_link": true
    },
    "kernelspec": {
      "name": "python3",
      "display_name": "Python 3"
    },
    "language_info": {
      "name": "python"
    }
  },
  "cells": [
    {
      "cell_type": "markdown",
      "metadata": {
        "id": "view-in-github",
        "colab_type": "text"
      },
      "source": [
        "<a href=\"https://colab.research.google.com/github/ITALOZDKJ/Me-tornando-um-analista-de-dados/blob/main/Comparativo_de_investimentos.ipynb\" target=\"_parent\"><img src=\"https://colab.research.google.com/assets/colab-badge.svg\" alt=\"Open In Colab\"/></a>"
      ]
    },
    {
      "cell_type": "markdown",
      "source": [
        "## Importando bibliotecas"
      ],
      "metadata": {
        "id": "wbHzhzpQa641"
      }
    },
    {
      "cell_type": "code",
      "metadata": {
        "colab": {
          "base_uri": "https://localhost:8080/"
        },
        "id": "ypBf0yc9RADD",
        "outputId": "0d2da4ca-e1e4-4be1-d6fa-98449b4b0c55"
      },
      "source": [
        "!pip install yfinance\n",
        "import pandas as pd\n",
        "import numpy as np\n",
        "import pandas_datareader as web\n",
        "import yfinance as yf\n",
        "import seaborn as sns\n",
        "import plotly.graph_objects as go\n",
        "import matplotlib.pyplot as plt\n"
      ],
      "execution_count": 101,
      "outputs": [
        {
          "output_type": "stream",
          "name": "stdout",
          "text": [
            "Requirement already satisfied: yfinance in /usr/local/lib/python3.7/dist-packages (0.1.70)\n",
            "Requirement already satisfied: requests>=2.26 in /usr/local/lib/python3.7/dist-packages (from yfinance) (2.27.1)\n",
            "Requirement already satisfied: pandas>=0.24.0 in /usr/local/lib/python3.7/dist-packages (from yfinance) (1.3.5)\n",
            "Requirement already satisfied: lxml>=4.5.1 in /usr/local/lib/python3.7/dist-packages (from yfinance) (4.8.0)\n",
            "Requirement already satisfied: numpy>=1.15 in /usr/local/lib/python3.7/dist-packages (from yfinance) (1.21.6)\n",
            "Requirement already satisfied: multitasking>=0.0.7 in /usr/local/lib/python3.7/dist-packages (from yfinance) (0.0.10)\n",
            "Requirement already satisfied: pytz>=2017.3 in /usr/local/lib/python3.7/dist-packages (from pandas>=0.24.0->yfinance) (2022.1)\n",
            "Requirement already satisfied: python-dateutil>=2.7.3 in /usr/local/lib/python3.7/dist-packages (from pandas>=0.24.0->yfinance) (2.8.2)\n",
            "Requirement already satisfied: six>=1.5 in /usr/local/lib/python3.7/dist-packages (from python-dateutil>=2.7.3->pandas>=0.24.0->yfinance) (1.15.0)\n",
            "Requirement already satisfied: charset-normalizer~=2.0.0 in /usr/local/lib/python3.7/dist-packages (from requests>=2.26->yfinance) (2.0.12)\n",
            "Requirement already satisfied: certifi>=2017.4.17 in /usr/local/lib/python3.7/dist-packages (from requests>=2.26->yfinance) (2021.10.8)\n",
            "Requirement already satisfied: urllib3<1.27,>=1.21.1 in /usr/local/lib/python3.7/dist-packages (from requests>=2.26->yfinance) (1.24.3)\n",
            "Requirement already satisfied: idna<4,>=2.5 in /usr/local/lib/python3.7/dist-packages (from requests>=2.26->yfinance) (2.10)\n"
          ]
        }
      ]
    },
    {
      "cell_type": "markdown",
      "source": [
        "# Criando funções"
      ],
      "metadata": {
        "id": "YoEbN8H1bCJM"
      }
    },
    {
      "cell_type": "markdown",
      "source": [
        "### A seguir, temos uma função que cria features mais básicas, partindo das já disponíveis nos dados importados."
      ],
      "metadata": {
        "id": "4NrV2d5Yen1Q"
      }
    },
    {
      "cell_type": "code",
      "metadata": {
        "id": "z1YUvyDjRkev"
      },
      "source": [
        "def features_initial(x):\n",
        "    x.reset_index(inplace=True)\n",
        "    x['Day'] = x['Date'].dt.day\n",
        "    x['Month'] = x['Date'].dt.month\n",
        "    x['Year'] = x['Date'].dt.year\n",
        "    x['Year-Month'] = x['Date'].dt.strftime('%Y') +'-' + x['Date'].dt.strftime('%m') \n",
        "    x['Rentability%'] = round((x['Close']/x['Close'].shift()) * 100 -100, 2)\n",
        "    x['Rentability pure'] = round(x['Close'] - x['Close'].shift(),2)"
      ],
      "execution_count": 102,
      "outputs": []
    },
    {
      "cell_type": "markdown",
      "source": [
        "### Já a função abaixo, cria features um pouco mais elaboradas, nos permitindo simular um investimento feito de forma mensal e consistente, no período dos dados extraídos.\n",
        "\n",
        "Com ela, conseguiremos informações como a quantidade de cotas totais em cada período, dividendos totais recebidos,\n",
        "total de patrimônio acumuldado considerando a valorização do ativo e os dividendos recebidos ao longo do tempo."
      ],
      "metadata": {
        "id": "W-H6FTadctcW"
      }
    },
    {
      "cell_type": "code",
      "source": [
        "def features_cash(x, y, aporte=100):\n",
        "    x['Action_value'] = (x.loc[:,'High']+ x.loc[:,'Low'])/2\n",
        "    year_temp = 0\n",
        "    # \n",
        "    for year in list(x['Year'].unique()):\n",
        "        year_temp = x.loc[(x['Year']==year)]\n",
        "        for month in list(year_temp['Month'].unique()):\n",
        "            temp = x.loc[(x['Month'] == month) & (x['Year']==year)]\n",
        "            day = list(temp[0:]['Day'])\n",
        "            day = day[0]\n",
        "            x.loc[(x['Day'] == day) & (x['Month'] == month) & (x['Year'] == year),['Bougth']] = aporte\n",
        "    # Valor de aporte\n",
        "    x.loc[:,'Valor_aportado'] = x['Bougth'] * x['Action_value']\n",
        "    x.fillna(0, inplace=True)\n",
        "    # A soma das ações\n",
        "    x['Total_actions'] = 0\n",
        "    for pos,c in enumerate(x['Bougth']):\n",
        "        x.loc[pos,'Total_actions'] = x.loc[:pos,'Bougth'].sum()\n",
        "    \n",
        "    # A soma do valor investido \n",
        "    x['Total_aportado'] = 0\n",
        "    for pos,c in enumerate(x['Total_actions']):\n",
        "        x.loc[pos,'Total_aportado'] = x.loc[:pos,'Valor_aportado'].sum()\n",
        "        \n",
        "    # The sum of dividends receives with actual aports\n",
        "    x['Dividend_receive'] = x['Total_actions'] * x['Dividends']\n",
        "    \n",
        "    # The final dividends receives\n",
        "    x['Total_receive'] = 0\n",
        "    for pos,c in enumerate(x['Dividend_receive']):\n",
        "        x.loc[pos,'Total_receive'] = x.loc[:pos,'Dividend_receive'].sum()\n",
        "\n",
        "    x['Valor_atual'] = x['Total_actions'] * x['Close']\n",
        "\n",
        "\n",
        "    x['My_rentability_pure'] = round(x['Valor_atual'] - x['Valor_atual'].shift(),2)\n",
        "\n",
        "    x['yld_final'] = (x['Total_receive']/x['Total_aportado'])*100\n",
        "\n",
        "def soma(x):\n",
        "  x['Acumulatted'] = x['Valor_atual'] + x['Total_receive'] + x['Rentability pure']"
      ],
      "metadata": {
        "id": "JEGVuqZ3ck9H"
      },
      "execution_count": 103,
      "outputs": []
    },
    {
      "cell_type": "markdown",
      "metadata": {
        "id": "Rtrk6DKuSVRJ"
      },
      "source": [
        "## Importação de dados e aplicação das funções nos conjuntos de dados"
      ]
    },
    {
      "cell_type": "code",
      "metadata": {
        "id": "n691rEhFSWyA"
      },
      "source": [
        "ticket = yf.Ticker('TAEE4.SA')\n",
        "bbseguros = yf.Ticker('BBSE3.SA')\n",
        "itsa = yf.Ticker('ITSA4.SA')"
      ],
      "execution_count": 100,
      "outputs": []
    },
    {
      "cell_type": "code",
      "metadata": {
        "id": "3X3ymkKLSy2i"
      },
      "source": [
        "taesa = ticket.history(interval='1d',start='2012-04-27', end='2022-04-27')\n",
        "bbseguros = bbseguros.history(interval='1d',start='2012-04-27', end='2022-04-25')\n",
        "itsa = itsa.history(interval='1d', start = '2012-04-27', end = '2022-04-27')"
      ],
      "execution_count": 104,
      "outputs": []
    },
    {
      "cell_type": "code",
      "metadata": {
        "id": "aeMZ7RMrTPK2"
      },
      "source": [
        "taesa_a = taesa.copy()\n",
        "bbseguros_a = bbseguros.copy()\n",
        "itsa_a = itsa.copy()\n",
        "features_initial(taesa_a)\n",
        "features_initial(bbseguros_a)\n",
        "features_initial(itsa_a)"
      ],
      "execution_count": 105,
      "outputs": []
    },
    {
      "cell_type": "code",
      "metadata": {
        "id": "3a3Sq05UT-15"
      },
      "source": [
        "features_cash(bbseguros_a, bbseguros, aporte = 10)\n",
        "features_cash(taesa_a, taesa, aporte=10)\n",
        "features_cash(itsa_a, itsa, aporte=10)"
      ],
      "execution_count": 106,
      "outputs": []
    },
    {
      "cell_type": "code",
      "metadata": {
        "id": "G7FF13v9VK9G"
      },
      "source": [
        "soma(taesa_a)\n",
        "soma(bbseguros_a)\n",
        "soma(itsa_a)"
      ],
      "execution_count": 107,
      "outputs": []
    },
    {
      "cell_type": "markdown",
      "source": [
        "## Resultados gerados"
      ],
      "metadata": {
        "id": "mU740EVGMB_k"
      }
    },
    {
      "cell_type": "markdown",
      "source": [
        "### Taesa\n",
        "##### Ticker: TAEE4"
      ],
      "metadata": {
        "id": "LbJh4Na3MHfU"
      }
    },
    {
      "cell_type": "code",
      "source": [
        "taesa_a[taesa_a['Dividend_receive'] > 0][['Close','Rentability%', 'Total_aportado', 'My_rentability_pure', 'Valor_atual', 'Total_actions', 'Total_receive', 'Acumulatted', 'yld_final', 'Dividend_receive']].tail()"
      ],
      "metadata": {
        "id": "VqUdHWN4LS4a",
        "outputId": "eae8ecdc-956d-4c06-e9f0-8c745b02e81b",
        "colab": {
          "base_uri": "https://localhost:8080/",
          "height": 270
        }
      },
      "execution_count": 108,
      "outputs": [
        {
          "output_type": "execute_result",
          "data": {
            "text/plain": [
              "          Close  Rentability%  Total_aportado  My_rentability_pure  \\\n",
              "881    9.541439         -2.51     2627.997540              -105.44   \n",
              "901   10.050189          0.38     2725.943865                16.67   \n",
              "992   12.402138         -1.59     3255.006918               -98.37   \n",
              "1002  12.542459         -0.07     3255.006918                -4.02   \n",
              "1140  11.950000         -2.56     4095.860700              -175.81   \n",
              "\n",
              "      Valor_atual  Total_actions  Total_receive  Acumulatted  yld_final  \\\n",
              "881   4102.818794            430      758.77397  4861.342764  28.872705   \n",
              "901   4422.083168            440      781.85637  5203.979538  28.682042   \n",
              "992   6077.047501            490     1048.28407  7125.131571  32.205279   \n",
              "1002  6145.805149            490     1269.49653  7415.291679  39.001347   \n",
              "1140  6691.999893            560     1552.88341  8244.573303  37.913482   \n",
              "\n",
              "      Dividend_receive  \n",
              "881          195.21140  \n",
              "901           23.08240  \n",
              "992          266.42770  \n",
              "1002         221.21246  \n",
              "1140         283.38688  "
            ],
            "text/html": [
              "\n",
              "  <div id=\"df-dc08601b-3cf0-4315-87d4-27cdea7c5bab\">\n",
              "    <div class=\"colab-df-container\">\n",
              "      <div>\n",
              "<style scoped>\n",
              "    .dataframe tbody tr th:only-of-type {\n",
              "        vertical-align: middle;\n",
              "    }\n",
              "\n",
              "    .dataframe tbody tr th {\n",
              "        vertical-align: top;\n",
              "    }\n",
              "\n",
              "    .dataframe thead th {\n",
              "        text-align: right;\n",
              "    }\n",
              "</style>\n",
              "<table border=\"1\" class=\"dataframe\">\n",
              "  <thead>\n",
              "    <tr style=\"text-align: right;\">\n",
              "      <th></th>\n",
              "      <th>Close</th>\n",
              "      <th>Rentability%</th>\n",
              "      <th>Total_aportado</th>\n",
              "      <th>My_rentability_pure</th>\n",
              "      <th>Valor_atual</th>\n",
              "      <th>Total_actions</th>\n",
              "      <th>Total_receive</th>\n",
              "      <th>Acumulatted</th>\n",
              "      <th>yld_final</th>\n",
              "      <th>Dividend_receive</th>\n",
              "    </tr>\n",
              "  </thead>\n",
              "  <tbody>\n",
              "    <tr>\n",
              "      <th>881</th>\n",
              "      <td>9.541439</td>\n",
              "      <td>-2.51</td>\n",
              "      <td>2627.997540</td>\n",
              "      <td>-105.44</td>\n",
              "      <td>4102.818794</td>\n",
              "      <td>430</td>\n",
              "      <td>758.77397</td>\n",
              "      <td>4861.342764</td>\n",
              "      <td>28.872705</td>\n",
              "      <td>195.21140</td>\n",
              "    </tr>\n",
              "    <tr>\n",
              "      <th>901</th>\n",
              "      <td>10.050189</td>\n",
              "      <td>0.38</td>\n",
              "      <td>2725.943865</td>\n",
              "      <td>16.67</td>\n",
              "      <td>4422.083168</td>\n",
              "      <td>440</td>\n",
              "      <td>781.85637</td>\n",
              "      <td>5203.979538</td>\n",
              "      <td>28.682042</td>\n",
              "      <td>23.08240</td>\n",
              "    </tr>\n",
              "    <tr>\n",
              "      <th>992</th>\n",
              "      <td>12.402138</td>\n",
              "      <td>-1.59</td>\n",
              "      <td>3255.006918</td>\n",
              "      <td>-98.37</td>\n",
              "      <td>6077.047501</td>\n",
              "      <td>490</td>\n",
              "      <td>1048.28407</td>\n",
              "      <td>7125.131571</td>\n",
              "      <td>32.205279</td>\n",
              "      <td>266.42770</td>\n",
              "    </tr>\n",
              "    <tr>\n",
              "      <th>1002</th>\n",
              "      <td>12.542459</td>\n",
              "      <td>-0.07</td>\n",
              "      <td>3255.006918</td>\n",
              "      <td>-4.02</td>\n",
              "      <td>6145.805149</td>\n",
              "      <td>490</td>\n",
              "      <td>1269.49653</td>\n",
              "      <td>7415.291679</td>\n",
              "      <td>39.001347</td>\n",
              "      <td>221.21246</td>\n",
              "    </tr>\n",
              "    <tr>\n",
              "      <th>1140</th>\n",
              "      <td>11.950000</td>\n",
              "      <td>-2.56</td>\n",
              "      <td>4095.860700</td>\n",
              "      <td>-175.81</td>\n",
              "      <td>6691.999893</td>\n",
              "      <td>560</td>\n",
              "      <td>1552.88341</td>\n",
              "      <td>8244.573303</td>\n",
              "      <td>37.913482</td>\n",
              "      <td>283.38688</td>\n",
              "    </tr>\n",
              "  </tbody>\n",
              "</table>\n",
              "</div>\n",
              "      <button class=\"colab-df-convert\" onclick=\"convertToInteractive('df-dc08601b-3cf0-4315-87d4-27cdea7c5bab')\"\n",
              "              title=\"Convert this dataframe to an interactive table.\"\n",
              "              style=\"display:none;\">\n",
              "        \n",
              "  <svg xmlns=\"http://www.w3.org/2000/svg\" height=\"24px\"viewBox=\"0 0 24 24\"\n",
              "       width=\"24px\">\n",
              "    <path d=\"M0 0h24v24H0V0z\" fill=\"none\"/>\n",
              "    <path d=\"M18.56 5.44l.94 2.06.94-2.06 2.06-.94-2.06-.94-.94-2.06-.94 2.06-2.06.94zm-11 1L8.5 8.5l.94-2.06 2.06-.94-2.06-.94L8.5 2.5l-.94 2.06-2.06.94zm10 10l.94 2.06.94-2.06 2.06-.94-2.06-.94-.94-2.06-.94 2.06-2.06.94z\"/><path d=\"M17.41 7.96l-1.37-1.37c-.4-.4-.92-.59-1.43-.59-.52 0-1.04.2-1.43.59L10.3 9.45l-7.72 7.72c-.78.78-.78 2.05 0 2.83L4 21.41c.39.39.9.59 1.41.59.51 0 1.02-.2 1.41-.59l7.78-7.78 2.81-2.81c.8-.78.8-2.07 0-2.86zM5.41 20L4 18.59l7.72-7.72 1.47 1.35L5.41 20z\"/>\n",
              "  </svg>\n",
              "      </button>\n",
              "      \n",
              "  <style>\n",
              "    .colab-df-container {\n",
              "      display:flex;\n",
              "      flex-wrap:wrap;\n",
              "      gap: 12px;\n",
              "    }\n",
              "\n",
              "    .colab-df-convert {\n",
              "      background-color: #E8F0FE;\n",
              "      border: none;\n",
              "      border-radius: 50%;\n",
              "      cursor: pointer;\n",
              "      display: none;\n",
              "      fill: #1967D2;\n",
              "      height: 32px;\n",
              "      padding: 0 0 0 0;\n",
              "      width: 32px;\n",
              "    }\n",
              "\n",
              "    .colab-df-convert:hover {\n",
              "      background-color: #E2EBFA;\n",
              "      box-shadow: 0px 1px 2px rgba(60, 64, 67, 0.3), 0px 1px 3px 1px rgba(60, 64, 67, 0.15);\n",
              "      fill: #174EA6;\n",
              "    }\n",
              "\n",
              "    [theme=dark] .colab-df-convert {\n",
              "      background-color: #3B4455;\n",
              "      fill: #D2E3FC;\n",
              "    }\n",
              "\n",
              "    [theme=dark] .colab-df-convert:hover {\n",
              "      background-color: #434B5C;\n",
              "      box-shadow: 0px 1px 3px 1px rgba(0, 0, 0, 0.15);\n",
              "      filter: drop-shadow(0px 1px 2px rgba(0, 0, 0, 0.3));\n",
              "      fill: #FFFFFF;\n",
              "    }\n",
              "  </style>\n",
              "\n",
              "      <script>\n",
              "        const buttonEl =\n",
              "          document.querySelector('#df-dc08601b-3cf0-4315-87d4-27cdea7c5bab button.colab-df-convert');\n",
              "        buttonEl.style.display =\n",
              "          google.colab.kernel.accessAllowed ? 'block' : 'none';\n",
              "\n",
              "        async function convertToInteractive(key) {\n",
              "          const element = document.querySelector('#df-dc08601b-3cf0-4315-87d4-27cdea7c5bab');\n",
              "          const dataTable =\n",
              "            await google.colab.kernel.invokeFunction('convertToInteractive',\n",
              "                                                     [key], {});\n",
              "          if (!dataTable) return;\n",
              "\n",
              "          const docLinkHtml = 'Like what you see? Visit the ' +\n",
              "            '<a target=\"_blank\" href=https://colab.research.google.com/notebooks/data_table.ipynb>data table notebook</a>'\n",
              "            + ' to learn more about interactive tables.';\n",
              "          element.innerHTML = '';\n",
              "          dataTable['output_type'] = 'display_data';\n",
              "          await google.colab.output.renderOutput(dataTable, element);\n",
              "          const docLink = document.createElement('div');\n",
              "          docLink.innerHTML = docLinkHtml;\n",
              "          element.appendChild(docLink);\n",
              "        }\n",
              "      </script>\n",
              "    </div>\n",
              "  </div>\n",
              "  "
            ]
          },
          "metadata": {},
          "execution_count": 108
        }
      ]
    },
    {
      "cell_type": "code",
      "source": [
        "import seaborn as sns\n",
        "import matplotlib.pyplot as plt"
      ],
      "metadata": {
        "id": "VeI1V9FCxx2u"
      },
      "execution_count": 109,
      "outputs": []
    },
    {
      "cell_type": "code",
      "source": [
        "plt.figure(figsize=(15,10))\n",
        "sns.set_theme(style=\"dark\")\n",
        "sns.lineplot(data = taesa_a, x='Date', y='Acumulatted')\n",
        "sns.lineplot(data = taesa_a, x='Date', y='Total_aportado')\n",
        "plt.title('Comparativo investir em Taesa x Economizar mesmo valor de aporte mensal')\n",
        "plt.xlabel('Data')\n",
        "plt.ylabel('Acumulado')\n",
        "plt.legend(labels=['Investir','Poupar'])"
      ],
      "metadata": {
        "id": "RxCubc0xWaGZ",
        "outputId": "4cedab72-dcf8-42e6-9c8c-68c1b141f62a",
        "colab": {
          "base_uri": "https://localhost:8080/",
          "height": 644
        }
      },
      "execution_count": 110,
      "outputs": [
        {
          "output_type": "execute_result",
          "data": {
            "text/plain": [
              "<matplotlib.legend.Legend at 0x7f3ff181bb90>"
            ]
          },
          "metadata": {},
          "execution_count": 110
        },
        {
          "output_type": "display_data",
          "data": {
            "text/plain": [
              "<Figure size 1080x720 with 1 Axes>"
            ],
            "image/png": "[encoded data removed]"
          },
          "metadata": {}
        }
      ]
    },
    {
      "cell_type": "code",
      "source": [
        "taesa_a['Rentability%'].sum()"
      ],
      "metadata": {
        "id": "ZVZyGYKSWn6A",
        "colab": {
          "base_uri": "https://localhost:8080/"
        },
        "outputId": "f4fc2c7a-bd32-497b-ace9-60110a071a14"
      },
      "execution_count": 111,
      "outputs": [
        {
          "output_type": "execute_result",
          "data": {
            "text/plain": [
              "89.34"
            ]
          },
          "metadata": {},
          "execution_count": 111
        }
      ]
    },
    {
      "cell_type": "markdown",
      "source": [
        "### Banco do Brasil seguros\n",
        "##### Ticker: BBSE3"
      ],
      "metadata": {
        "id": "_LA_rN-fMTsn"
      }
    },
    {
      "cell_type": "code",
      "source": [
        "bbseguros_a[bbseguros_a['Dividend_receive'] > 0][['Close','Rentability%', 'Total_aportado', 'My_rentability_pure', 'Valor_atual', 'Total_actions', 'Total_receive', 'Acumulatted', 'yld_final', 'Dividend_receive']].tail()"
      ],
      "metadata": {
        "id": "ibDqBSwVI3FP",
        "outputId": "132dd617-2816-4f57-9ebd-fe095e7181e2",
        "colab": {
          "base_uri": "https://localhost:8080/",
          "height": 270
        }
      },
      "execution_count": 112,
      "outputs": [
        {
          "output_type": "execute_result",
          "data": {
            "text/plain": [
              "          Close  Rentability%  Total_aportado  My_rentability_pure  \\\n",
              "1691  30.867140         -2.40    15606.165128              -630.96   \n",
              "1814  25.016768         -3.47    17059.642259              -800.83   \n",
              "1936  26.293934         -0.55    18555.340271              -137.23   \n",
              "2059  20.102053         -1.32    19870.787929              -271.16   \n",
              "2184  22.760000         -2.86    21087.635426              -716.85   \n",
              "\n",
              "       Valor_atual  Total_actions  Total_receive   Acumulatted  yld_final  \\\n",
              "1691  25619.726048            830     7963.42142  33582.387468  51.027407   \n",
              "1814  22264.923077            890     8742.39837  31006.421447  51.246083   \n",
              "1936  24979.237175            950     9194.71332  34173.810495  49.552922   \n",
              "2059  20303.073215           1010     9720.79606  30023.599275  48.920033   \n",
              "2184  24353.200245           1070    10715.94742  35068.477665  50.816259   \n",
              "\n",
              "      Dividend_receive  \n",
              "1691        1585.99803  \n",
              "1814         778.97695  \n",
              "1936         452.31495  \n",
              "2059         526.08274  \n",
              "2184         995.15136  "
            ],
            "text/html": [
              "\n",
              "  <div id=\"df-20f1254f-b414-42cb-8e34-e1e5c5bc5eb7\">\n",
              "    <div class=\"colab-df-container\">\n",
              "      <div>\n",
              "<style scoped>\n",
              "    .dataframe tbody tr th:only-of-type {\n",
              "        vertical-align: middle;\n",
              "    }\n",
              "\n",
              "    .dataframe tbody tr th {\n",
              "        vertical-align: top;\n",
              "    }\n",
              "\n",
              "    .dataframe thead th {\n",
              "        text-align: right;\n",
              "    }\n",
              "</style>\n",
              "<table border=\"1\" class=\"dataframe\">\n",
              "  <thead>\n",
              "    <tr style=\"text-align: right;\">\n",
              "      <th></th>\n",
              "      <th>Close</th>\n",
              "      <th>Rentability%</th>\n",
              "      <th>Total_aportado</th>\n",
              "      <th>My_rentability_pure</th>\n",
              "      <th>Valor_atual</th>\n",
              "      <th>Total_actions</th>\n",
              "      <th>Total_receive</th>\n",
              "      <th>Acumulatted</th>\n",
              "      <th>yld_final</th>\n",
              "      <th>Dividend_receive</th>\n",
              "    </tr>\n",
              "  </thead>\n",
              "  <tbody>\n",
              "    <tr>\n",
              "      <th>1691</th>\n",
              "      <td>30.867140</td>\n",
              "      <td>-2.40</td>\n",
              "      <td>15606.165128</td>\n",
              "      <td>-630.96</td>\n",
              "      <td>25619.726048</td>\n",
              "      <td>830</td>\n",
              "      <td>7963.42142</td>\n",
              "      <td>33582.387468</td>\n",
              "      <td>51.027407</td>\n",
              "      <td>1585.99803</td>\n",
              "    </tr>\n",
              "    <tr>\n",
              "      <th>1814</th>\n",
              "      <td>25.016768</td>\n",
              "      <td>-3.47</td>\n",
              "      <td>17059.642259</td>\n",
              "      <td>-800.83</td>\n",
              "      <td>22264.923077</td>\n",
              "      <td>890</td>\n",
              "      <td>8742.39837</td>\n",
              "      <td>31006.421447</td>\n",
              "      <td>51.246083</td>\n",
              "      <td>778.97695</td>\n",
              "    </tr>\n",
              "    <tr>\n",
              "      <th>1936</th>\n",
              "      <td>26.293934</td>\n",
              "      <td>-0.55</td>\n",
              "      <td>18555.340271</td>\n",
              "      <td>-137.23</td>\n",
              "      <td>24979.237175</td>\n",
              "      <td>950</td>\n",
              "      <td>9194.71332</td>\n",
              "      <td>34173.810495</td>\n",
              "      <td>49.552922</td>\n",
              "      <td>452.31495</td>\n",
              "    </tr>\n",
              "    <tr>\n",
              "      <th>2059</th>\n",
              "      <td>20.102053</td>\n",
              "      <td>-1.32</td>\n",
              "      <td>19870.787929</td>\n",
              "      <td>-271.16</td>\n",
              "      <td>20303.073215</td>\n",
              "      <td>1010</td>\n",
              "      <td>9720.79606</td>\n",
              "      <td>30023.599275</td>\n",
              "      <td>48.920033</td>\n",
              "      <td>526.08274</td>\n",
              "    </tr>\n",
              "    <tr>\n",
              "      <th>2184</th>\n",
              "      <td>22.760000</td>\n",
              "      <td>-2.86</td>\n",
              "      <td>21087.635426</td>\n",
              "      <td>-716.85</td>\n",
              "      <td>24353.200245</td>\n",
              "      <td>1070</td>\n",
              "      <td>10715.94742</td>\n",
              "      <td>35068.477665</td>\n",
              "      <td>50.816259</td>\n",
              "      <td>995.15136</td>\n",
              "    </tr>\n",
              "  </tbody>\n",
              "</table>\n",
              "</div>\n",
              "      <button class=\"colab-df-convert\" onclick=\"convertToInteractive('df-20f1254f-b414-42cb-8e34-e1e5c5bc5eb7')\"\n",
              "              title=\"Convert this dataframe to an interactive table.\"\n",
              "              style=\"display:none;\">\n",
              "        \n",
              "  <svg xmlns=\"http://www.w3.org/2000/svg\" height=\"24px\"viewBox=\"0 0 24 24\"\n",
              "       width=\"24px\">\n",
              "    <path d=\"M0 0h24v24H0V0z\" fill=\"none\"/>\n",
              "    <path d=\"M18.56 5.44l.94 2.06.94-2.06 2.06-.94-2.06-.94-.94-2.06-.94 2.06-2.06.94zm-11 1L8.5 8.5l.94-2.06 2.06-.94-2.06-.94L8.5 2.5l-.94 2.06-2.06.94zm10 10l.94 2.06.94-2.06 2.06-.94-2.06-.94-.94-2.06-.94 2.06-2.06.94z\"/><path d=\"M17.41 7.96l-1.37-1.37c-.4-.4-.92-.59-1.43-.59-.52 0-1.04.2-1.43.59L10.3 9.45l-7.72 7.72c-.78.78-.78 2.05 0 2.83L4 21.41c.39.39.9.59 1.41.59.51 0 1.02-.2 1.41-.59l7.78-7.78 2.81-2.81c.8-.78.8-2.07 0-2.86zM5.41 20L4 18.59l7.72-7.72 1.47 1.35L5.41 20z\"/>\n",
              "  </svg>\n",
              "      </button>\n",
              "      \n",
              "  <style>\n",
              "    .colab-df-container {\n",
              "      display:flex;\n",
              "      flex-wrap:wrap;\n",
              "      gap: 12px;\n",
              "    }\n",
              "\n",
              "    .colab-df-convert {\n",
              "      background-color: #E8F0FE;\n",
              "      border: none;\n",
              "      border-radius: 50%;\n",
              "      cursor: pointer;\n",
              "      display: none;\n",
              "      fill: #1967D2;\n",
              "      height: 32px;\n",
              "      padding: 0 0 0 0;\n",
              "      width: 32px;\n",
              "    }\n",
              "\n",
              "    .colab-df-convert:hover {\n",
              "      background-color: #E2EBFA;\n",
              "      box-shadow: 0px 1px 2px rgba(60, 64, 67, 0.3), 0px 1px 3px 1px rgba(60, 64, 67, 0.15);\n",
              "      fill: #174EA6;\n",
              "    }\n",
              "\n",
              "    [theme=dark] .colab-df-convert {\n",
              "      background-color: #3B4455;\n",
              "      fill: #D2E3FC;\n",
              "    }\n",
              "\n",
              "    [theme=dark] .colab-df-convert:hover {\n",
              "      background-color: #434B5C;\n",
              "      box-shadow: 0px 1px 3px 1px rgba(0, 0, 0, 0.15);\n",
              "      filter: drop-shadow(0px 1px 2px rgba(0, 0, 0, 0.3));\n",
              "      fill: #FFFFFF;\n",
              "    }\n",
              "  </style>\n",
              "\n",
              "      <script>\n",
              "        const buttonEl =\n",
              "          document.querySelector('#df-20f1254f-b414-42cb-8e34-e1e5c5bc5eb7 button.colab-df-convert');\n",
              "        buttonEl.style.display =\n",
              "          google.colab.kernel.accessAllowed ? 'block' : 'none';\n",
              "\n",
              "        async function convertToInteractive(key) {\n",
              "          const element = document.querySelector('#df-20f1254f-b414-42cb-8e34-e1e5c5bc5eb7');\n",
              "          const dataTable =\n",
              "            await google.colab.kernel.invokeFunction('convertToInteractive',\n",
              "                                                     [key], {});\n",
              "          if (!dataTable) return;\n",
              "\n",
              "          const docLinkHtml = 'Like what you see? Visit the ' +\n",
              "            '<a target=\"_blank\" href=https://colab.research.google.com/notebooks/data_table.ipynb>data table notebook</a>'\n",
              "            + ' to learn more about interactive tables.';\n",
              "          element.innerHTML = '';\n",
              "          dataTable['output_type'] = 'display_data';\n",
              "          await google.colab.output.renderOutput(dataTable, element);\n",
              "          const docLink = document.createElement('div');\n",
              "          docLink.innerHTML = docLinkHtml;\n",
              "          element.appendChild(docLink);\n",
              "        }\n",
              "      </script>\n",
              "    </div>\n",
              "  </div>\n",
              "  "
            ]
          },
          "metadata": {},
          "execution_count": 112
        }
      ]
    },
    {
      "cell_type": "code",
      "source": [
        "sns.set_theme(style=\"dark\")\n",
        "plt.figure(figsize=(15,10))\n",
        "sns.lineplot(data = bbseguros_a, x='Date', y='Acumulatted')\n",
        "sns.lineplot(data = bbseguros_a, x='Date', y='Total_aportado')\n",
        "plt.title('Comparativo investir em Banco do Brasil x Economizar mesmo valor de aporte mensal')\n",
        "plt.xlabel('Data')\n",
        "plt.ylabel('Acumulado')\n",
        "plt.legend(labels=['Investir','Poupar'])"
      ],
      "metadata": {
        "colab": {
          "base_uri": "https://localhost:8080/",
          "height": 644
        },
        "id": "PD7J7Uwr366-",
        "outputId": "dac15d29-84df-4e67-c907-a5c188813d0b"
      },
      "execution_count": 113,
      "outputs": [
        {
          "output_type": "execute_result",
          "data": {
            "text/plain": [
              "<matplotlib.legend.Legend at 0x7f3ff1589bd0>"
            ]
          },
          "metadata": {},
          "execution_count": 113
        },
        {
          "output_type": "display_data",
          "data": {
            "text/plain": [
              "<Figure size 1080x720 with 1 Axes>"
            ],
            "image/png": "[encoded data removed]"
          },
          "metadata": {}
        }
      ]
    },
    {
      "cell_type": "code",
      "source": [
        "bbseguros_a['Rentability%'].sum()"
      ],
      "metadata": {
        "id": "yveTWXVSPM2J",
        "outputId": "445c0b9e-5ea9-4ef5-9ddc-800e653390e5",
        "colab": {
          "base_uri": "https://localhost:8080/"
        }
      },
      "execution_count": 114,
      "outputs": [
        {
          "output_type": "execute_result",
          "data": {
            "text/plain": [
              "148.51999999999998"
            ]
          },
          "metadata": {},
          "execution_count": 114
        }
      ]
    },
    {
      "cell_type": "markdown",
      "source": [
        "### Itaúsa\n",
        "##### Ticker: ITSA4"
      ],
      "metadata": {
        "id": "4UKNSKiBPXWm"
      }
    },
    {
      "cell_type": "code",
      "source": [
        "itsa_a[itsa_a['Dividend_receive'] > 0][['Close','Rentability%', 'Total_aportado', 'My_rentability_pure', 'Valor_atual', 'Total_actions', 'Total_receive', 'Acumulatted', 'yld_final', 'Dividend_receive']].tail()"
      ],
      "metadata": {
        "id": "q2G-WSA3I3OO",
        "outputId": "b45cf52e-2735-4d81-c950-de1c095a88ff",
        "colab": {
          "base_uri": "https://localhost:8080/",
          "height": 270
        }
      },
      "execution_count": 115,
      "outputs": [
        {
          "output_type": "execute_result",
          "data": {
            "text/plain": [
              "          Close  Rentability%  Total_aportado  My_rentability_pure  \\\n",
              "2388   8.893707          0.77     7582.458382                79.62   \n",
              "2410   9.399987          0.04     7670.449165                 3.88   \n",
              "2440   0.000000          0.00     7771.001446            -11748.80   \n",
              "2441   9.846700          0.00     7771.001446             11816.04   \n",
              "2458  10.800000         -0.06     7771.001446                -7.96   \n",
              "\n",
              "       Valor_atual  Total_actions  Total_receive   Acumulatted  yld_final  \\\n",
              "2388  10405.637512           1170     2976.18749  13381.895002  39.250957   \n",
              "2410  11091.984921           1180     3133.52869  14225.513611  40.851958   \n",
              "2440      0.000000           1200     3157.52869   3157.528690  40.632198   \n",
              "2441  11816.039658           1200     3185.76349  15001.803148  40.995533   \n",
              "2458  12960.000229           1200     3321.80749  16281.797719  42.746196   \n",
              "\n",
              "      Dividend_receive  \n",
              "2388          26.21853  \n",
              "2410         157.34120  \n",
              "2440          24.00000  \n",
              "2441          28.23480  \n",
              "2458         136.04400  "
            ],
            "text/html": [
              "\n",
              "  <div id=\"df-6fcbb5a9-c5fb-48f7-91c1-e1d93eb1f8ce\">\n",
              "    <div class=\"colab-df-container\">\n",
              "      <div>\n",
              "<style scoped>\n",
              "    .dataframe tbody tr th:only-of-type {\n",
              "        vertical-align: middle;\n",
              "    }\n",
              "\n",
              "    .dataframe tbody tr th {\n",
              "        vertical-align: top;\n",
              "    }\n",
              "\n",
              "    .dataframe thead th {\n",
              "        text-align: right;\n",
              "    }\n",
              "</style>\n",
              "<table border=\"1\" class=\"dataframe\">\n",
              "  <thead>\n",
              "    <tr style=\"text-align: right;\">\n",
              "      <th></th>\n",
              "      <th>Close</th>\n",
              "      <th>Rentability%</th>\n",
              "      <th>Total_aportado</th>\n",
              "      <th>My_rentability_pure</th>\n",
              "      <th>Valor_atual</th>\n",
              "      <th>Total_actions</th>\n",
              "      <th>Total_receive</th>\n",
              "      <th>Acumulatted</th>\n",
              "      <th>yld_final</th>\n",
              "      <th>Dividend_receive</th>\n",
              "    </tr>\n",
              "  </thead>\n",
              "  <tbody>\n",
              "    <tr>\n",
              "      <th>2388</th>\n",
              "      <td>8.893707</td>\n",
              "      <td>0.77</td>\n",
              "      <td>7582.458382</td>\n",
              "      <td>79.62</td>\n",
              "      <td>10405.637512</td>\n",
              "      <td>1170</td>\n",
              "      <td>2976.18749</td>\n",
              "      <td>13381.895002</td>\n",
              "      <td>39.250957</td>\n",
              "      <td>26.21853</td>\n",
              "    </tr>\n",
              "    <tr>\n",
              "      <th>2410</th>\n",
              "      <td>9.399987</td>\n",
              "      <td>0.04</td>\n",
              "      <td>7670.449165</td>\n",
              "      <td>3.88</td>\n",
              "      <td>11091.984921</td>\n",
              "      <td>1180</td>\n",
              "      <td>3133.52869</td>\n",
              "      <td>14225.513611</td>\n",
              "      <td>40.851958</td>\n",
              "      <td>157.34120</td>\n",
              "    </tr>\n",
              "    <tr>\n",
              "      <th>2440</th>\n",
              "      <td>0.000000</td>\n",
              "      <td>0.00</td>\n",
              "      <td>7771.001446</td>\n",
              "      <td>-11748.80</td>\n",
              "      <td>0.000000</td>\n",
              "      <td>1200</td>\n",
              "      <td>3157.52869</td>\n",
              "      <td>3157.528690</td>\n",
              "      <td>40.632198</td>\n",
              "      <td>24.00000</td>\n",
              "    </tr>\n",
              "    <tr>\n",
              "      <th>2441</th>\n",
              "      <td>9.846700</td>\n",
              "      <td>0.00</td>\n",
              "      <td>7771.001446</td>\n",
              "      <td>11816.04</td>\n",
              "      <td>11816.039658</td>\n",
              "      <td>1200</td>\n",
              "      <td>3185.76349</td>\n",
              "      <td>15001.803148</td>\n",
              "      <td>40.995533</td>\n",
              "      <td>28.23480</td>\n",
              "    </tr>\n",
              "    <tr>\n",
              "      <th>2458</th>\n",
              "      <td>10.800000</td>\n",
              "      <td>-0.06</td>\n",
              "      <td>7771.001446</td>\n",
              "      <td>-7.96</td>\n",
              "      <td>12960.000229</td>\n",
              "      <td>1200</td>\n",
              "      <td>3321.80749</td>\n",
              "      <td>16281.797719</td>\n",
              "      <td>42.746196</td>\n",
              "      <td>136.04400</td>\n",
              "    </tr>\n",
              "  </tbody>\n",
              "</table>\n",
              "</div>\n",
              "      <button class=\"colab-df-convert\" onclick=\"convertToInteractive('df-6fcbb5a9-c5fb-48f7-91c1-e1d93eb1f8ce')\"\n",
              "              title=\"Convert this dataframe to an interactive table.\"\n",
              "              style=\"display:none;\">\n",
              "        \n",
              "  <svg xmlns=\"http://www.w3.org/2000/svg\" height=\"24px\"viewBox=\"0 0 24 24\"\n",
              "       width=\"24px\">\n",
              "    <path d=\"M0 0h24v24H0V0z\" fill=\"none\"/>\n",
              "    <path d=\"M18.56 5.44l.94 2.06.94-2.06 2.06-.94-2.06-.94-.94-2.06-.94 2.06-2.06.94zm-11 1L8.5 8.5l.94-2.06 2.06-.94-2.06-.94L8.5 2.5l-.94 2.06-2.06.94zm10 10l.94 2.06.94-2.06 2.06-.94-2.06-.94-.94-2.06-.94 2.06-2.06.94z\"/><path d=\"M17.41 7.96l-1.37-1.37c-.4-.4-.92-.59-1.43-.59-.52 0-1.04.2-1.43.59L10.3 9.45l-7.72 7.72c-.78.78-.78 2.05 0 2.83L4 21.41c.39.39.9.59 1.41.59.51 0 1.02-.2 1.41-.59l7.78-7.78 2.81-2.81c.8-.78.8-2.07 0-2.86zM5.41 20L4 18.59l7.72-7.72 1.47 1.35L5.41 20z\"/>\n",
              "  </svg>\n",
              "      </button>\n",
              "      \n",
              "  <style>\n",
              "    .colab-df-container {\n",
              "      display:flex;\n",
              "      flex-wrap:wrap;\n",
              "      gap: 12px;\n",
              "    }\n",
              "\n",
              "    .colab-df-convert {\n",
              "      background-color: #E8F0FE;\n",
              "      border: none;\n",
              "      border-radius: 50%;\n",
              "      cursor: pointer;\n",
              "      display: none;\n",
              "      fill: #1967D2;\n",
              "      height: 32px;\n",
              "      padding: 0 0 0 0;\n",
              "      width: 32px;\n",
              "    }\n",
              "\n",
              "    .colab-df-convert:hover {\n",
              "      background-color: #E2EBFA;\n",
              "      box-shadow: 0px 1px 2px rgba(60, 64, 67, 0.3), 0px 1px 3px 1px rgba(60, 64, 67, 0.15);\n",
              "      fill: #174EA6;\n",
              "    }\n",
              "\n",
              "    [theme=dark] .colab-df-convert {\n",
              "      background-color: #3B4455;\n",
              "      fill: #D2E3FC;\n",
              "    }\n",
              "\n",
              "    [theme=dark] .colab-df-convert:hover {\n",
              "      background-color: #434B5C;\n",
              "      box-shadow: 0px 1px 3px 1px rgba(0, 0, 0, 0.15);\n",
              "      filter: drop-shadow(0px 1px 2px rgba(0, 0, 0, 0.3));\n",
              "      fill: #FFFFFF;\n",
              "    }\n",
              "  </style>\n",
              "\n",
              "      <script>\n",
              "        const buttonEl =\n",
              "          document.querySelector('#df-6fcbb5a9-c5fb-48f7-91c1-e1d93eb1f8ce button.colab-df-convert');\n",
              "        buttonEl.style.display =\n",
              "          google.colab.kernel.accessAllowed ? 'block' : 'none';\n",
              "\n",
              "        async function convertToInteractive(key) {\n",
              "          const element = document.querySelector('#df-6fcbb5a9-c5fb-48f7-91c1-e1d93eb1f8ce');\n",
              "          const dataTable =\n",
              "            await google.colab.kernel.invokeFunction('convertToInteractive',\n",
              "                                                     [key], {});\n",
              "          if (!dataTable) return;\n",
              "\n",
              "          const docLinkHtml = 'Like what you see? Visit the ' +\n",
              "            '<a target=\"_blank\" href=https://colab.research.google.com/notebooks/data_table.ipynb>data table notebook</a>'\n",
              "            + ' to learn more about interactive tables.';\n",
              "          element.innerHTML = '';\n",
              "          dataTable['output_type'] = 'display_data';\n",
              "          await google.colab.output.renderOutput(dataTable, element);\n",
              "          const docLink = document.createElement('div');\n",
              "          docLink.innerHTML = docLinkHtml;\n",
              "          element.appendChild(docLink);\n",
              "        }\n",
              "      </script>\n",
              "    </div>\n",
              "  </div>\n",
              "  "
            ]
          },
          "metadata": {},
          "execution_count": 115
        }
      ]
    },
    {
      "cell_type": "code",
      "source": [
        "sns.set_theme(style=\"dark\")\n",
        "plt.figure(figsize=(15,10))\n",
        "sns.lineplot(data = itsa_a, x='Date', y='Acumulatted')\n",
        "sns.lineplot(data = itsa_a, x='Date', y='Total_aportado')\n",
        "plt.title('Comparativo investir em Itaúsa x Economizar mesmo valor de aporte mensal')\n",
        "plt.xlabel('Data')\n",
        "plt.ylabel('Acumulado')\n",
        "plt.legend(labels=['Investir','Poupar'])"
      ],
      "metadata": {
        "colab": {
          "base_uri": "https://localhost:8080/",
          "height": 644
        },
        "id": "G3SXjMi6x64f",
        "outputId": "175ff4ed-cd19-4564-f816-366ace659482"
      },
      "execution_count": 116,
      "outputs": [
        {
          "output_type": "execute_result",
          "data": {
            "text/plain": [
              "<matplotlib.legend.Legend at 0x7f3ff16a9790>"
            ]
          },
          "metadata": {},
          "execution_count": 116
        },
        {
          "output_type": "display_data",
          "data": {
            "text/plain": [
              "<Figure size 1080x720 with 1 Axes>"
            ],
            "image/png": "[encoded data removed]"
          },
          "metadata": {}
        }
      ]
    },
    {
      "cell_type": "markdown",
      "source": [
        "## Alguns insights finais:\n",
        "\n",
        "#### Yld máx Taesa: 39%\n",
        "#### Yld máx Itaúsa: 42%\n",
        "#### Yld máx Banco do Brasil: 51%\n",
        "#### Yld final Taesa: 33.58%\n",
        "#### Yld final Itaúsa: 42.16%\n",
        "#### Yld final Banco do Brasil: 49.58%\n",
        "#### Dividendo máximo por ação Taesa: 0.54\n",
        "#### Dividendo máximo por ação Itaúsa: 0.57\n",
        "#### Dividendo máximo por ação Banco do Brasil: 1.91\n",
        "\n"
      ],
      "metadata": {
        "id": "XMutX2fnCSTA"
      }
    },
    {
      "cell_type": "code",
      "source": [
        "print(taesa_a['yld_final'].max())\n",
        "print(itsa_a['yld_final'].max())\n",
        "print(bbseguros_a['yld_final'].max())\n",
        "print(taesa_a['Dividends'].max())\n",
        "print(itsa_a['Dividends'].max())\n",
        "print(bbseguros_a['Dividends'].max())\n",
        "print(taesa_a['Dividend_receive'].max())\n",
        "print(itsa_a['Dividend_receive'].max())\n",
        "print(bbseguros_a['Dividend_receive'].max())"
      ],
      "metadata": {
        "id": "RQbBiH-jP2Yj",
        "colab": {
          "base_uri": "https://localhost:8080/"
        },
        "outputId": "e40a893e-e198-4272-f76f-1e3b1f15d8d0"
      },
      "execution_count": 118,
      "outputs": [
        {
          "output_type": "stream",
          "name": "stdout",
          "text": [
            "39.001346604742096\n",
            "42.746195750011495\n",
            "51.246082639615295\n",
            "0.54373\n",
            "0.579437\n",
            "1.910841\n",
            "283.38688\n",
            "411.40027\n",
            "1585.99803\n"
          ]
        }
      ]
    },
    {
      "cell_type": "markdown",
      "source": [
        ""
      ],
      "metadata": {
        "id": "ihFwzaIxPgJj"
      }
    },
    {
      "cell_type": "code",
      "source": [
        "taesa_a[['Total_aportado','Valor_atual', 'Total_receive','yld_final', 'Acumulatted']].tail()"
      ],
      "metadata": {
        "colab": {
          "base_uri": "https://localhost:8080/",
          "height": 206
        },
        "id": "SS--PK7TIgPD",
        "outputId": "d0417ad9-b670-466a-8db4-8ec2f26ac821"
      },
      "execution_count": 120,
      "outputs": [
        {
          "output_type": "execute_result",
          "data": {
            "text/plain": [
              "      Total_aportado  Valor_atual  Total_receive  yld_final   Acumulatted\n",
              "1230     4623.810696  8897.999954     1552.88341  33.584494  10450.933364\n",
              "1231     4623.810696  8910.000229     1552.88341  33.584494  10462.903639\n",
              "1232     4623.810696  8873.999977     1552.88341  33.584494  10426.823387\n",
              "1233     4623.810696  8850.000000     1552.88341  33.584494  10402.843410\n",
              "1234     4623.810696  9065.999794     1552.88341  33.584494  10619.243204"
            ],
            "text/html": [
              "\n",
              "  <div id=\"df-f0e040bb-55fa-4cdc-b837-b8452de02f5e\">\n",
              "    <div class=\"colab-df-container\">\n",
              "      <div>\n",
              "<style scoped>\n",
              "    .dataframe tbody tr th:only-of-type {\n",
              "        vertical-align: middle;\n",
              "    }\n",
              "\n",
              "    .dataframe tbody tr th {\n",
              "        vertical-align: top;\n",
              "    }\n",
              "\n",
              "    .dataframe thead th {\n",
              "        text-align: right;\n",
              "    }\n",
              "</style>\n",
              "<table border=\"1\" class=\"dataframe\">\n",
              "  <thead>\n",
              "    <tr style=\"text-align: right;\">\n",
              "      <th></th>\n",
              "      <th>Total_aportado</th>\n",
              "      <th>Valor_atual</th>\n",
              "      <th>Total_receive</th>\n",
              "      <th>yld_final</th>\n",
              "      <th>Acumulatted</th>\n",
              "    </tr>\n",
              "  </thead>\n",
              "  <tbody>\n",
              "    <tr>\n",
              "      <th>1230</th>\n",
              "      <td>4623.810696</td>\n",
              "      <td>8897.999954</td>\n",
              "      <td>1552.88341</td>\n",
              "      <td>33.584494</td>\n",
              "      <td>10450.933364</td>\n",
              "    </tr>\n",
              "    <tr>\n",
              "      <th>1231</th>\n",
              "      <td>4623.810696</td>\n",
              "      <td>8910.000229</td>\n",
              "      <td>1552.88341</td>\n",
              "      <td>33.584494</td>\n",
              "      <td>10462.903639</td>\n",
              "    </tr>\n",
              "    <tr>\n",
              "      <th>1232</th>\n",
              "      <td>4623.810696</td>\n",
              "      <td>8873.999977</td>\n",
              "      <td>1552.88341</td>\n",
              "      <td>33.584494</td>\n",
              "      <td>10426.823387</td>\n",
              "    </tr>\n",
              "    <tr>\n",
              "      <th>1233</th>\n",
              "      <td>4623.810696</td>\n",
              "      <td>8850.000000</td>\n",
              "      <td>1552.88341</td>\n",
              "      <td>33.584494</td>\n",
              "      <td>10402.843410</td>\n",
              "    </tr>\n",
              "    <tr>\n",
              "      <th>1234</th>\n",
              "      <td>4623.810696</td>\n",
              "      <td>9065.999794</td>\n",
              "      <td>1552.88341</td>\n",
              "      <td>33.584494</td>\n",
              "      <td>10619.243204</td>\n",
              "    </tr>\n",
              "  </tbody>\n",
              "</table>\n",
              "</div>\n",
              "      <button class=\"colab-df-convert\" onclick=\"convertToInteractive('df-f0e040bb-55fa-4cdc-b837-b8452de02f5e')\"\n",
              "              title=\"Convert this dataframe to an interactive table.\"\n",
              "              style=\"display:none;\">\n",
              "        \n",
              "  <svg xmlns=\"http://www.w3.org/2000/svg\" height=\"24px\"viewBox=\"0 0 24 24\"\n",
              "       width=\"24px\">\n",
              "    <path d=\"M0 0h24v24H0V0z\" fill=\"none\"/>\n",
              "    <path d=\"M18.56 5.44l.94 2.06.94-2.06 2.06-.94-2.06-.94-.94-2.06-.94 2.06-2.06.94zm-11 1L8.5 8.5l.94-2.06 2.06-.94-2.06-.94L8.5 2.5l-.94 2.06-2.06.94zm10 10l.94 2.06.94-2.06 2.06-.94-2.06-.94-.94-2.06-.94 2.06-2.06.94z\"/><path d=\"M17.41 7.96l-1.37-1.37c-.4-.4-.92-.59-1.43-.59-.52 0-1.04.2-1.43.59L10.3 9.45l-7.72 7.72c-.78.78-.78 2.05 0 2.83L4 21.41c.39.39.9.59 1.41.59.51 0 1.02-.2 1.41-.59l7.78-7.78 2.81-2.81c.8-.78.8-2.07 0-2.86zM5.41 20L4 18.59l7.72-7.72 1.47 1.35L5.41 20z\"/>\n",
              "  </svg>\n",
              "      </button>\n",
              "      \n",
              "  <style>\n",
              "    .colab-df-container {\n",
              "      display:flex;\n",
              "      flex-wrap:wrap;\n",
              "      gap: 12px;\n",
              "    }\n",
              "\n",
              "    .colab-df-convert {\n",
              "      background-color: #E8F0FE;\n",
              "      border: none;\n",
              "      border-radius: 50%;\n",
              "      cursor: pointer;\n",
              "      display: none;\n",
              "      fill: #1967D2;\n",
              "      height: 32px;\n",
              "      padding: 0 0 0 0;\n",
              "      width: 32px;\n",
              "    }\n",
              "\n",
              "    .colab-df-convert:hover {\n",
              "      background-color: #E2EBFA;\n",
              "      box-shadow: 0px 1px 2px rgba(60, 64, 67, 0.3), 0px 1px 3px 1px rgba(60, 64, 67, 0.15);\n",
              "      fill: #174EA6;\n",
              "    }\n",
              "\n",
              "    [theme=dark] .colab-df-convert {\n",
              "      background-color: #3B4455;\n",
              "      fill: #D2E3FC;\n",
              "    }\n",
              "\n",
              "    [theme=dark] .colab-df-convert:hover {\n",
              "      background-color: #434B5C;\n",
              "      box-shadow: 0px 1px 3px 1px rgba(0, 0, 0, 0.15);\n",
              "      filter: drop-shadow(0px 1px 2px rgba(0, 0, 0, 0.3));\n",
              "      fill: #FFFFFF;\n",
              "    }\n",
              "  </style>\n",
              "\n",
              "      <script>\n",
              "        const buttonEl =\n",
              "          document.querySelector('#df-f0e040bb-55fa-4cdc-b837-b8452de02f5e button.colab-df-convert');\n",
              "        buttonEl.style.display =\n",
              "          google.colab.kernel.accessAllowed ? 'block' : 'none';\n",
              "\n",
              "        async function convertToInteractive(key) {\n",
              "          const element = document.querySelector('#df-f0e040bb-55fa-4cdc-b837-b8452de02f5e');\n",
              "          const dataTable =\n",
              "            await google.colab.kernel.invokeFunction('convertToInteractive',\n",
              "                                                     [key], {});\n",
              "          if (!dataTable) return;\n",
              "\n",
              "          const docLinkHtml = 'Like what you see? Visit the ' +\n",
              "            '<a target=\"_blank\" href=https://colab.research.google.com/notebooks/data_table.ipynb>data table notebook</a>'\n",
              "            + ' to learn more about interactive tables.';\n",
              "          element.innerHTML = '';\n",
              "          dataTable['output_type'] = 'display_data';\n",
              "          await google.colab.output.renderOutput(dataTable, element);\n",
              "          const docLink = document.createElement('div');\n",
              "          docLink.innerHTML = docLinkHtml;\n",
              "          element.appendChild(docLink);\n",
              "        }\n",
              "      </script>\n",
              "    </div>\n",
              "  </div>\n",
              "  "
            ]
          },
          "metadata": {},
          "execution_count": 120
        }
      ]
    },
    {
      "cell_type": "code",
      "source": [
        "itsa_a[['Total_aportado','Valor_atual', 'Total_receive','yld_final', 'Acumulatted']].tail()"
      ],
      "metadata": {
        "colab": {
          "base_uri": "https://localhost:8080/",
          "height": 206
        },
        "id": "ms2iPljDJ7T-",
        "outputId": "c49cb25c-969f-40b3-c484-0b57e9d82bfa"
      },
      "execution_count": 121,
      "outputs": [
        {
          "output_type": "execute_result",
          "data": {
            "text/plain": [
              "      Total_aportado   Valor_atual  Total_receive  yld_final   Acumulatted\n",
              "2474     7879.001448  12160.500231     3321.80749   42.16026  15482.197721\n",
              "2475     7879.001448  12172.600508     3321.80749   42.16026  15494.417998\n",
              "2476     7879.001448  11991.099815     3321.80749   42.16026  15312.757305\n",
              "2477     7879.001448  11954.800138     3321.80749   42.16026  15276.577628\n",
              "2478     7879.001448  11446.600046     3321.80749   42.16026  14767.987536"
            ],
            "text/html": [
              "\n",
              "  <div id=\"df-2db0b65e-9105-40e8-baba-602324e8c9b3\">\n",
              "    <div class=\"colab-df-container\">\n",
              "      <div>\n",
              "<style scoped>\n",
              "    .dataframe tbody tr th:only-of-type {\n",
              "        vertical-align: middle;\n",
              "    }\n",
              "\n",
              "    .dataframe tbody tr th {\n",
              "        vertical-align: top;\n",
              "    }\n",
              "\n",
              "    .dataframe thead th {\n",
              "        text-align: right;\n",
              "    }\n",
              "</style>\n",
              "<table border=\"1\" class=\"dataframe\">\n",
              "  <thead>\n",
              "    <tr style=\"text-align: right;\">\n",
              "      <th></th>\n",
              "      <th>Total_aportado</th>\n",
              "      <th>Valor_atual</th>\n",
              "      <th>Total_receive</th>\n",
              "      <th>yld_final</th>\n",
              "      <th>Acumulatted</th>\n",
              "    </tr>\n",
              "  </thead>\n",
              "  <tbody>\n",
              "    <tr>\n",
              "      <th>2474</th>\n",
              "      <td>7879.001448</td>\n",
              "      <td>12160.500231</td>\n",
              "      <td>3321.80749</td>\n",
              "      <td>42.16026</td>\n",
              "      <td>15482.197721</td>\n",
              "    </tr>\n",
              "    <tr>\n",
              "      <th>2475</th>\n",
              "      <td>7879.001448</td>\n",
              "      <td>12172.600508</td>\n",
              "      <td>3321.80749</td>\n",
              "      <td>42.16026</td>\n",
              "      <td>15494.417998</td>\n",
              "    </tr>\n",
              "    <tr>\n",
              "      <th>2476</th>\n",
              "      <td>7879.001448</td>\n",
              "      <td>11991.099815</td>\n",
              "      <td>3321.80749</td>\n",
              "      <td>42.16026</td>\n",
              "      <td>15312.757305</td>\n",
              "    </tr>\n",
              "    <tr>\n",
              "      <th>2477</th>\n",
              "      <td>7879.001448</td>\n",
              "      <td>11954.800138</td>\n",
              "      <td>3321.80749</td>\n",
              "      <td>42.16026</td>\n",
              "      <td>15276.577628</td>\n",
              "    </tr>\n",
              "    <tr>\n",
              "      <th>2478</th>\n",
              "      <td>7879.001448</td>\n",
              "      <td>11446.600046</td>\n",
              "      <td>3321.80749</td>\n",
              "      <td>42.16026</td>\n",
              "      <td>14767.987536</td>\n",
              "    </tr>\n",
              "  </tbody>\n",
              "</table>\n",
              "</div>\n",
              "      <button class=\"colab-df-convert\" onclick=\"convertToInteractive('df-2db0b65e-9105-40e8-baba-602324e8c9b3')\"\n",
              "              title=\"Convert this dataframe to an interactive table.\"\n",
              "              style=\"display:none;\">\n",
              "        \n",
              "  <svg xmlns=\"http://www.w3.org/2000/svg\" height=\"24px\"viewBox=\"0 0 24 24\"\n",
              "       width=\"24px\">\n",
              "    <path d=\"M0 0h24v24H0V0z\" fill=\"none\"/>\n",
              "    <path d=\"M18.56 5.44l.94 2.06.94-2.06 2.06-.94-2.06-.94-.94-2.06-.94 2.06-2.06.94zm-11 1L8.5 8.5l.94-2.06 2.06-.94-2.06-.94L8.5 2.5l-.94 2.06-2.06.94zm10 10l.94 2.06.94-2.06 2.06-.94-2.06-.94-.94-2.06-.94 2.06-2.06.94z\"/><path d=\"M17.41 7.96l-1.37-1.37c-.4-.4-.92-.59-1.43-.59-.52 0-1.04.2-1.43.59L10.3 9.45l-7.72 7.72c-.78.78-.78 2.05 0 2.83L4 21.41c.39.39.9.59 1.41.59.51 0 1.02-.2 1.41-.59l7.78-7.78 2.81-2.81c.8-.78.8-2.07 0-2.86zM5.41 20L4 18.59l7.72-7.72 1.47 1.35L5.41 20z\"/>\n",
              "  </svg>\n",
              "      </button>\n",
              "      \n",
              "  <style>\n",
              "    .colab-df-container {\n",
              "      display:flex;\n",
              "      flex-wrap:wrap;\n",
              "      gap: 12px;\n",
              "    }\n",
              "\n",
              "    .colab-df-convert {\n",
              "      background-color: #E8F0FE;\n",
              "      border: none;\n",
              "      border-radius: 50%;\n",
              "      cursor: pointer;\n",
              "      display: none;\n",
              "      fill: #1967D2;\n",
              "      height: 32px;\n",
              "      padding: 0 0 0 0;\n",
              "      width: 32px;\n",
              "    }\n",
              "\n",
              "    .colab-df-convert:hover {\n",
              "      background-color: #E2EBFA;\n",
              "      box-shadow: 0px 1px 2px rgba(60, 64, 67, 0.3), 0px 1px 3px 1px rgba(60, 64, 67, 0.15);\n",
              "      fill: #174EA6;\n",
              "    }\n",
              "\n",
              "    [theme=dark] .colab-df-convert {\n",
              "      background-color: #3B4455;\n",
              "      fill: #D2E3FC;\n",
              "    }\n",
              "\n",
              "    [theme=dark] .colab-df-convert:hover {\n",
              "      background-color: #434B5C;\n",
              "      box-shadow: 0px 1px 3px 1px rgba(0, 0, 0, 0.15);\n",
              "      filter: drop-shadow(0px 1px 2px rgba(0, 0, 0, 0.3));\n",
              "      fill: #FFFFFF;\n",
              "    }\n",
              "  </style>\n",
              "\n",
              "      <script>\n",
              "        const buttonEl =\n",
              "          document.querySelector('#df-2db0b65e-9105-40e8-baba-602324e8c9b3 button.colab-df-convert');\n",
              "        buttonEl.style.display =\n",
              "          google.colab.kernel.accessAllowed ? 'block' : 'none';\n",
              "\n",
              "        async function convertToInteractive(key) {\n",
              "          const element = document.querySelector('#df-2db0b65e-9105-40e8-baba-602324e8c9b3');\n",
              "          const dataTable =\n",
              "            await google.colab.kernel.invokeFunction('convertToInteractive',\n",
              "                                                     [key], {});\n",
              "          if (!dataTable) return;\n",
              "\n",
              "          const docLinkHtml = 'Like what you see? Visit the ' +\n",
              "            '<a target=\"_blank\" href=https://colab.research.google.com/notebooks/data_table.ipynb>data table notebook</a>'\n",
              "            + ' to learn more about interactive tables.';\n",
              "          element.innerHTML = '';\n",
              "          dataTable['output_type'] = 'display_data';\n",
              "          await google.colab.output.renderOutput(dataTable, element);\n",
              "          const docLink = document.createElement('div');\n",
              "          docLink.innerHTML = docLinkHtml;\n",
              "          element.appendChild(docLink);\n",
              "        }\n",
              "      </script>\n",
              "    </div>\n",
              "  </div>\n",
              "  "
            ]
          },
          "metadata": {},
          "execution_count": 121
        }
      ]
    },
    {
      "cell_type": "code",
      "source": [
        "bbseguros_a[['Total_aportado','Valor_atual', 'Total_receive','yld_final', 'Acumulatted']].tail()"
      ],
      "metadata": {
        "colab": {
          "base_uri": "https://localhost:8080/",
          "height": 206
        },
        "id": "JhKG-9G4J7Zh",
        "outputId": "fb63e000-e164-41a3-c380-bf3779ed4359"
      },
      "execution_count": 122,
      "outputs": [
        {
          "output_type": "execute_result",
          "data": {
            "text/plain": [
              "      Total_aportado   Valor_atual  Total_receive  yld_final   Acumulatted\n",
              "2226    21569.385428  28514.399834    10715.94742  49.681283  39230.567254\n",
              "2227    21569.385428  29190.200748    10715.94742  49.681283  39906.768168\n",
              "2228    21569.385428  28361.800499    10715.94742  49.681283  39076.987919\n",
              "2229    21569.385428  29168.400249    10715.94742  49.681283  39885.087669\n",
              "2230    21569.385428  28765.099335    10715.94742  49.681283  39480.676755"
            ],
            "text/html": [
              "\n",
              "  <div id=\"df-cf2b6f6b-573a-450f-9b86-1b76da4202e8\">\n",
              "    <div class=\"colab-df-container\">\n",
              "      <div>\n",
              "<style scoped>\n",
              "    .dataframe tbody tr th:only-of-type {\n",
              "        vertical-align: middle;\n",
              "    }\n",
              "\n",
              "    .dataframe tbody tr th {\n",
              "        vertical-align: top;\n",
              "    }\n",
              "\n",
              "    .dataframe thead th {\n",
              "        text-align: right;\n",
              "    }\n",
              "</style>\n",
              "<table border=\"1\" class=\"dataframe\">\n",
              "  <thead>\n",
              "    <tr style=\"text-align: right;\">\n",
              "      <th></th>\n",
              "      <th>Total_aportado</th>\n",
              "      <th>Valor_atual</th>\n",
              "      <th>Total_receive</th>\n",
              "      <th>yld_final</th>\n",
              "      <th>Acumulatted</th>\n",
              "    </tr>\n",
              "  </thead>\n",
              "  <tbody>\n",
              "    <tr>\n",
              "      <th>2226</th>\n",
              "      <td>21569.385428</td>\n",
              "      <td>28514.399834</td>\n",
              "      <td>10715.94742</td>\n",
              "      <td>49.681283</td>\n",
              "      <td>39230.567254</td>\n",
              "    </tr>\n",
              "    <tr>\n",
              "      <th>2227</th>\n",
              "      <td>21569.385428</td>\n",
              "      <td>29190.200748</td>\n",
              "      <td>10715.94742</td>\n",
              "      <td>49.681283</td>\n",
              "      <td>39906.768168</td>\n",
              "    </tr>\n",
              "    <tr>\n",
              "      <th>2228</th>\n",
              "      <td>21569.385428</td>\n",
              "      <td>28361.800499</td>\n",
              "      <td>10715.94742</td>\n",
              "      <td>49.681283</td>\n",
              "      <td>39076.987919</td>\n",
              "    </tr>\n",
              "    <tr>\n",
              "      <th>2229</th>\n",
              "      <td>21569.385428</td>\n",
              "      <td>29168.400249</td>\n",
              "      <td>10715.94742</td>\n",
              "      <td>49.681283</td>\n",
              "      <td>39885.087669</td>\n",
              "    </tr>\n",
              "    <tr>\n",
              "      <th>2230</th>\n",
              "      <td>21569.385428</td>\n",
              "      <td>28765.099335</td>\n",
              "      <td>10715.94742</td>\n",
              "      <td>49.681283</td>\n",
              "      <td>39480.676755</td>\n",
              "    </tr>\n",
              "  </tbody>\n",
              "</table>\n",
              "</div>\n",
              "      <button class=\"colab-df-convert\" onclick=\"convertToInteractive('df-cf2b6f6b-573a-450f-9b86-1b76da4202e8')\"\n",
              "              title=\"Convert this dataframe to an interactive table.\"\n",
              "              style=\"display:none;\">\n",
              "        \n",
              "  <svg xmlns=\"http://www.w3.org/2000/svg\" height=\"24px\"viewBox=\"0 0 24 24\"\n",
              "       width=\"24px\">\n",
              "    <path d=\"M0 0h24v24H0V0z\" fill=\"none\"/>\n",
              "    <path d=\"M18.56 5.44l.94 2.06.94-2.06 2.06-.94-2.06-.94-.94-2.06-.94 2.06-2.06.94zm-11 1L8.5 8.5l.94-2.06 2.06-.94-2.06-.94L8.5 2.5l-.94 2.06-2.06.94zm10 10l.94 2.06.94-2.06 2.06-.94-2.06-.94-.94-2.06-.94 2.06-2.06.94z\"/><path d=\"M17.41 7.96l-1.37-1.37c-.4-.4-.92-.59-1.43-.59-.52 0-1.04.2-1.43.59L10.3 9.45l-7.72 7.72c-.78.78-.78 2.05 0 2.83L4 21.41c.39.39.9.59 1.41.59.51 0 1.02-.2 1.41-.59l7.78-7.78 2.81-2.81c.8-.78.8-2.07 0-2.86zM5.41 20L4 18.59l7.72-7.72 1.47 1.35L5.41 20z\"/>\n",
              "  </svg>\n",
              "      </button>\n",
              "      \n",
              "  <style>\n",
              "    .colab-df-container {\n",
              "      display:flex;\n",
              "      flex-wrap:wrap;\n",
              "      gap: 12px;\n",
              "    }\n",
              "\n",
              "    .colab-df-convert {\n",
              "      background-color: #E8F0FE;\n",
              "      border: none;\n",
              "      border-radius: 50%;\n",
              "      cursor: pointer;\n",
              "      display: none;\n",
              "      fill: #1967D2;\n",
              "      height: 32px;\n",
              "      padding: 0 0 0 0;\n",
              "      width: 32px;\n",
              "    }\n",
              "\n",
              "    .colab-df-convert:hover {\n",
              "      background-color: #E2EBFA;\n",
              "      box-shadow: 0px 1px 2px rgba(60, 64, 67, 0.3), 0px 1px 3px 1px rgba(60, 64, 67, 0.15);\n",
              "      fill: #174EA6;\n",
              "    }\n",
              "\n",
              "    [theme=dark] .colab-df-convert {\n",
              "      background-color: #3B4455;\n",
              "      fill: #D2E3FC;\n",
              "    }\n",
              "\n",
              "    [theme=dark] .colab-df-convert:hover {\n",
              "      background-color: #434B5C;\n",
              "      box-shadow: 0px 1px 3px 1px rgba(0, 0, 0, 0.15);\n",
              "      filter: drop-shadow(0px 1px 2px rgba(0, 0, 0, 0.3));\n",
              "      fill: #FFFFFF;\n",
              "    }\n",
              "  </style>\n",
              "\n",
              "      <script>\n",
              "        const buttonEl =\n",
              "          document.querySelector('#df-cf2b6f6b-573a-450f-9b86-1b76da4202e8 button.colab-df-convert');\n",
              "        buttonEl.style.display =\n",
              "          google.colab.kernel.accessAllowed ? 'block' : 'none';\n",
              "\n",
              "        async function convertToInteractive(key) {\n",
              "          const element = document.querySelector('#df-cf2b6f6b-573a-450f-9b86-1b76da4202e8');\n",
              "          const dataTable =\n",
              "            await google.colab.kernel.invokeFunction('convertToInteractive',\n",
              "                                                     [key], {});\n",
              "          if (!dataTable) return;\n",
              "\n",
              "          const docLinkHtml = 'Like what you see? Visit the ' +\n",
              "            '<a target=\"_blank\" href=https://colab.research.google.com/notebooks/data_table.ipynb>data table notebook</a>'\n",
              "            + ' to learn more about interactive tables.';\n",
              "          element.innerHTML = '';\n",
              "          dataTable['output_type'] = 'display_data';\n",
              "          await google.colab.output.renderOutput(dataTable, element);\n",
              "          const docLink = document.createElement('div');\n",
              "          docLink.innerHTML = docLinkHtml;\n",
              "          element.appendChild(docLink);\n",
              "        }\n",
              "      </script>\n",
              "    </div>\n",
              "  </div>\n",
              "  "
            ]
          },
          "metadata": {},
          "execution_count": 122
        }
      ]
    }
  ]
}