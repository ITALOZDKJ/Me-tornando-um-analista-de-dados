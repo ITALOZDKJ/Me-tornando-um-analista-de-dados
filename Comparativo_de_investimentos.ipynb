{
  "nbformat": 4,
  "nbformat_minor": 0,
  "metadata": {
    "colab": {
      "name": "Comparativo de investimentos.ipynb",
      "provenance": [],
      "include_colab_link": true
    },
    "kernelspec": {
      "name": "python3",
      "display_name": "Python 3"
    },
    "language_info": {
      "name": "python"
    }
  },
  "cells": [
    {
      "cell_type": "markdown",
      "metadata": {
        "id": "view-in-github",
        "colab_type": "text"
      },
      "source": [
        "<a href=\"https://colab.research.google.com/github/ITALOZDKJ/Me-tornando-um-analista-de-dados/blob/main/Comparativo_de_investimentos.ipynb\" target=\"_parent\"><img src=\"https://colab.research.google.com/assets/colab-badge.svg\" alt=\"Open In Colab\"/></a>"
      ]
    },
    {
      "cell_type": "markdown",
      "source": [
        "## Importando bibliotecas"
      ],
      "metadata": {
        "id": "wbHzhzpQa641"
      }
    },
    {
      "cell_type": "code",
      "metadata": {
        "colab": {
          "base_uri": "https://localhost:8080/"
        },
        "id": "ypBf0yc9RADD",
        "outputId": "1944dfb5-bfb4-40e1-e920-ddaace823786"
      },
      "source": [
        "!pip install yfinance\n",
        "import pandas as pd\n",
        "import numpy as np\n",
        "import pandas_datareader as web\n",
        "import yfinance as yf\n",
        "import seaborn as sns\n",
        "import plotly.graph_objects as go\n",
        "import matplotlib.pyplot as plt\n"
      ],
      "execution_count": 1,
      "outputs": [
        {
          "output_type": "stream",
          "name": "stdout",
          "text": [
            "Collecting yfinance\n",
            "  Downloading yfinance-0.1.70-py2.py3-none-any.whl (26 kB)\n",
            "Requirement already satisfied: multitasking>=0.0.7 in /usr/local/lib/python3.7/dist-packages (from yfinance) (0.0.10)\n",
            "Requirement already satisfied: pandas>=0.24.0 in /usr/local/lib/python3.7/dist-packages (from yfinance) (1.3.5)\n",
            "Collecting lxml>=4.5.1\n",
            "  Downloading lxml-4.8.0-cp37-cp37m-manylinux_2_17_x86_64.manylinux2014_x86_64.manylinux_2_24_x86_64.whl (6.4 MB)\n",
            "\u001b[K     |████████████████████████████████| 6.4 MB 10.9 MB/s \n",
            "\u001b[?25hRequirement already satisfied: numpy>=1.15 in /usr/local/lib/python3.7/dist-packages (from yfinance) (1.21.6)\n",
            "Collecting requests>=2.26\n",
            "  Downloading requests-2.27.1-py2.py3-none-any.whl (63 kB)\n",
            "\u001b[K     |████████████████████████████████| 63 kB 1.6 MB/s \n",
            "\u001b[?25hRequirement already satisfied: pytz>=2017.3 in /usr/local/lib/python3.7/dist-packages (from pandas>=0.24.0->yfinance) (2022.1)\n",
            "Requirement already satisfied: python-dateutil>=2.7.3 in /usr/local/lib/python3.7/dist-packages (from pandas>=0.24.0->yfinance) (2.8.2)\n",
            "Requirement already satisfied: six>=1.5 in /usr/local/lib/python3.7/dist-packages (from python-dateutil>=2.7.3->pandas>=0.24.0->yfinance) (1.15.0)\n",
            "Requirement already satisfied: urllib3<1.27,>=1.21.1 in /usr/local/lib/python3.7/dist-packages (from requests>=2.26->yfinance) (1.24.3)\n",
            "Requirement already satisfied: idna<4,>=2.5 in /usr/local/lib/python3.7/dist-packages (from requests>=2.26->yfinance) (2.10)\n",
            "Requirement already satisfied: certifi>=2017.4.17 in /usr/local/lib/python3.7/dist-packages (from requests>=2.26->yfinance) (2021.10.8)\n",
            "Requirement already satisfied: charset-normalizer~=2.0.0 in /usr/local/lib/python3.7/dist-packages (from requests>=2.26->yfinance) (2.0.12)\n",
            "Installing collected packages: requests, lxml, yfinance\n",
            "  Attempting uninstall: requests\n",
            "    Found existing installation: requests 2.23.0\n",
            "    Uninstalling requests-2.23.0:\n",
            "      Successfully uninstalled requests-2.23.0\n",
            "  Attempting uninstall: lxml\n",
            "    Found existing installation: lxml 4.2.6\n",
            "    Uninstalling lxml-4.2.6:\n",
            "      Successfully uninstalled lxml-4.2.6\n",
            "\u001b[31mERROR: pip's dependency resolver does not currently take into account all the packages that are installed. This behaviour is the source of the following dependency conflicts.\n",
            "google-colab 1.0.0 requires requests~=2.23.0, but you have requests 2.27.1 which is incompatible.\n",
            "datascience 0.10.6 requires folium==0.2.1, but you have folium 0.8.3 which is incompatible.\u001b[0m\n",
            "Successfully installed lxml-4.8.0 requests-2.27.1 yfinance-0.1.70\n"
          ]
        }
      ]
    },
    {
      "cell_type": "markdown",
      "source": [
        "# Criando funções"
      ],
      "metadata": {
        "id": "YoEbN8H1bCJM"
      }
    },
    {
      "cell_type": "markdown",
      "source": [
        "### A seguir, temos uma função que cria features mais básicas, partindo das já disponíveis nos dados importados."
      ],
      "metadata": {
        "id": "4NrV2d5Yen1Q"
      }
    },
    {
      "cell_type": "code",
      "metadata": {
        "id": "z1YUvyDjRkev"
      },
      "source": [
        "def features_initial(x):\n",
        "    x.reset_index(inplace=True)\n",
        "    x['Day'] = x['Date'].dt.day\n",
        "    x['Month'] = x['Date'].dt.month\n",
        "    x['Year'] = x['Date'].dt.year\n",
        "    x['Year-Month'] = x['Date'].dt.strftime('%Y') +'-' + x['Date'].dt.strftime('%m') \n",
        "    x['Rentability%'] = round((x['Close']/x['Close'].shift()) * 100 -100, 2)\n",
        "    x['Rentability pure'] = round(x['Close'] - x['Close'].shift(),2)"
      ],
      "execution_count": 103,
      "outputs": []
    },
    {
      "cell_type": "markdown",
      "source": [
        "### Já a função abaixo, cria features um pouco mais elaboradas, nos permitindo simular um investimento feito de forma mensal e consistente, no período dos dados extraídos.\n",
        "\n",
        "Com ela, conseguiremos informações como a quantidade de cotas totais em cada período, dividendos totais recebidos,\n",
        "total de patrimônio acumuldado considerando a valorização do ativo e os dividendos recebidos ao longo do tempo."
      ],
      "metadata": {
        "id": "W-H6FTadctcW"
      }
    },
    {
      "cell_type": "code",
      "source": [
        "def features_cash(x, y, aporte=100):\n",
        "    x['Action_value'] = (x.loc[:,'High']+ x.loc[:,'Low'])/2\n",
        "    year_temp = 0\n",
        "    # \n",
        "    for year in list(x['Year'].unique()):\n",
        "        year_temp = x.loc[(x['Year']==year)]\n",
        "        for month in list(year_temp['Month'].unique()):\n",
        "            temp = x.loc[(x['Month'] == month) & (x['Year']==year)]\n",
        "            day = list(temp[0:]['Day'])\n",
        "            day = day[0]\n",
        "            x.loc[(x['Day'] == day) & (x['Month'] == month) & (x['Year'] == year),['Bougth']] = aporte\n",
        "    # Valor de aporte\n",
        "    x.loc[:,'Valor_aportado'] = x['Bougth'] * x['Action_value']\n",
        "    x.fillna(0, inplace=True)\n",
        "    # A soma das ações\n",
        "    x['Total_actions'] = 0\n",
        "    for pos,c in enumerate(x['Bougth']):\n",
        "        x.loc[pos,'Total_actions'] = x.loc[:pos,'Bougth'].sum()\n",
        "    \n",
        "    # A soma do valor investido \n",
        "    x['Total_aportado'] = 0\n",
        "    for pos,c in enumerate(x['Total_actions']):\n",
        "        x.loc[pos,'Total_aportado'] = x.loc[:pos,'Valor_aportado'].sum()\n",
        "        \n",
        "    # The sum of dividends receives with actual aports\n",
        "    x['Dividend_receive'] = x['Total_actions'] * x['Dividends']\n",
        "    \n",
        "    # The final dividends receives\n",
        "    x['Total_receive'] = 0\n",
        "    for pos,c in enumerate(x['Dividend_receive']):\n",
        "        x.loc[pos,'Total_receive'] = x.loc[:pos,'Dividend_receive'].sum()\n",
        "\n",
        "    x['Valor_atual'] = x['Total_actions'] * x['Close']\n",
        "\n",
        "\n",
        "    x['My_rentability_pure'] = round(x['Valor_atual'] - x['Valor_atual'].shift(),2)\n",
        "\n",
        "    x['yld_final'] = (x['Total_receive']/x['Total_aportado'])*100\n",
        "\n",
        "def soma(x):\n",
        "  x['Acumulatted'] = x['Valor_atual'] + x['Total_receive'] + x['Rentability pure']"
      ],
      "metadata": {
        "id": "JEGVuqZ3ck9H"
      },
      "execution_count": 104,
      "outputs": []
    },
    {
      "cell_type": "markdown",
      "metadata": {
        "id": "Rtrk6DKuSVRJ"
      },
      "source": [
        "## Importação de dados e aplicação das funções nos conjuntos de dados"
      ]
    },
    {
      "cell_type": "code",
      "metadata": {
        "id": "n691rEhFSWyA"
      },
      "source": [
        "ticket = yf.Ticker('TAEE4.SA')\n",
        "bbseguros = yf.Ticker('BBSE3.SA')\n",
        "itsa = yf.Ticker('ITSA4.SA')"
      ],
      "execution_count": 105,
      "outputs": []
    },
    {
      "cell_type": "code",
      "metadata": {
        "id": "3X3ymkKLSy2i"
      },
      "source": [
        "taesa = ticket.history(interval='1d',start='2017-04-25', end='2022-04-25')\n",
        "bbseguros = bbseguros.history(interval='1d',start='2017-04-25', end='2022-04-25')\n",
        "itsa = itsa.history(interval='1d', start = '2017-04-25', end = '2022-04-25')"
      ],
      "execution_count": 106,
      "outputs": []
    },
    {
      "cell_type": "code",
      "metadata": {
        "id": "aeMZ7RMrTPK2"
      },
      "source": [
        "taesa_a = taesa.copy()\n",
        "bbseguros_a = bbseguros.copy()\n",
        "itsa_a = itsa.copy()\n",
        "features_initial(taesa_a)\n",
        "features_initial(bbseguros_a)\n",
        "features_initial(itsa_a)"
      ],
      "execution_count": 107,
      "outputs": []
    },
    {
      "cell_type": "code",
      "metadata": {
        "id": "3a3Sq05UT-15"
      },
      "source": [
        "features_cash(bbseguros_a, bbseguros, aporte = 10)\n",
        "features_cash(taesa_a, taesa, aporte=10)\n",
        "features_cash(itsa_a, itsa, aporte=10)"
      ],
      "execution_count": 108,
      "outputs": []
    },
    {
      "cell_type": "code",
      "metadata": {
        "id": "G7FF13v9VK9G"
      },
      "source": [
        "soma(taesa_a)\n",
        "soma(bbseguros_a)\n",
        "soma(itsa_a)"
      ],
      "execution_count": 109,
      "outputs": []
    },
    {
      "cell_type": "code",
      "source": [
        "taesa_a[['Close','Rentability%', 'Total_aportado', 'My_rentability_pure', 'Valor_atual', 'Total_actions', 'Total_receive', 'Acumulatted', 'yld_final']].tail()"
      ],
      "metadata": {
        "id": "VqUdHWN4LS4a",
        "outputId": "45e7616e-1523-41ca-d0f0-d21112956736",
        "colab": {
          "base_uri": "https://localhost:8080/",
          "height": 206
        }
      },
      "execution_count": 110,
      "outputs": [
        {
          "output_type": "execute_result",
          "data": {
            "text/plain": [
              "      Close  Rentability%  Total_aportado  My_rentability_pure  Valor_atual  \\\n",
              "1228  14.80          0.27     4623.810647                 24.0  8880.000114   \n",
              "1229  14.78         -0.14     4623.810647                -12.0  8867.999840   \n",
              "1230  14.83          0.34     4623.810647                 30.0  8897.999954   \n",
              "1231  14.85          0.13     4623.810647                 12.0  8910.000229   \n",
              "1232  14.79         -0.40     4623.810647                -36.0  8873.999977   \n",
              "\n",
              "      Total_actions  Total_receive   Acumulatted  yld_final  \n",
              "1228            600     1552.88341  10432.923524  33.584494  \n",
              "1229            600     1552.88341  10420.863250  33.584494  \n",
              "1230            600     1552.88341  10450.933364  33.584494  \n",
              "1231            600     1552.88341  10462.903639  33.584494  \n",
              "1232            600     1552.88341  10426.823387  33.584494  "
            ],
            "text/html": [
              "\n",
              "  <div id=\"df-82c7cfaa-70b4-48ba-b1b5-9cc39b4798db\">\n",
              "    <div class=\"colab-df-container\">\n",
              "      <div>\n",
              "<style scoped>\n",
              "    .dataframe tbody tr th:only-of-type {\n",
              "        vertical-align: middle;\n",
              "    }\n",
              "\n",
              "    .dataframe tbody tr th {\n",
              "        vertical-align: top;\n",
              "    }\n",
              "\n",
              "    .dataframe thead th {\n",
              "        text-align: right;\n",
              "    }\n",
              "</style>\n",
              "<table border=\"1\" class=\"dataframe\">\n",
              "  <thead>\n",
              "    <tr style=\"text-align: right;\">\n",
              "      <th></th>\n",
              "      <th>Close</th>\n",
              "      <th>Rentability%</th>\n",
              "      <th>Total_aportado</th>\n",
              "      <th>My_rentability_pure</th>\n",
              "      <th>Valor_atual</th>\n",
              "      <th>Total_actions</th>\n",
              "      <th>Total_receive</th>\n",
              "      <th>Acumulatted</th>\n",
              "      <th>yld_final</th>\n",
              "    </tr>\n",
              "  </thead>\n",
              "  <tbody>\n",
              "    <tr>\n",
              "      <th>1228</th>\n",
              "      <td>14.80</td>\n",
              "      <td>0.27</td>\n",
              "      <td>4623.810647</td>\n",
              "      <td>24.0</td>\n",
              "      <td>8880.000114</td>\n",
              "      <td>600</td>\n",
              "      <td>1552.88341</td>\n",
              "      <td>10432.923524</td>\n",
              "      <td>33.584494</td>\n",
              "    </tr>\n",
              "    <tr>\n",
              "      <th>1229</th>\n",
              "      <td>14.78</td>\n",
              "      <td>-0.14</td>\n",
              "      <td>4623.810647</td>\n",
              "      <td>-12.0</td>\n",
              "      <td>8867.999840</td>\n",
              "      <td>600</td>\n",
              "      <td>1552.88341</td>\n",
              "      <td>10420.863250</td>\n",
              "      <td>33.584494</td>\n",
              "    </tr>\n",
              "    <tr>\n",
              "      <th>1230</th>\n",
              "      <td>14.83</td>\n",
              "      <td>0.34</td>\n",
              "      <td>4623.810647</td>\n",
              "      <td>30.0</td>\n",
              "      <td>8897.999954</td>\n",
              "      <td>600</td>\n",
              "      <td>1552.88341</td>\n",
              "      <td>10450.933364</td>\n",
              "      <td>33.584494</td>\n",
              "    </tr>\n",
              "    <tr>\n",
              "      <th>1231</th>\n",
              "      <td>14.85</td>\n",
              "      <td>0.13</td>\n",
              "      <td>4623.810647</td>\n",
              "      <td>12.0</td>\n",
              "      <td>8910.000229</td>\n",
              "      <td>600</td>\n",
              "      <td>1552.88341</td>\n",
              "      <td>10462.903639</td>\n",
              "      <td>33.584494</td>\n",
              "    </tr>\n",
              "    <tr>\n",
              "      <th>1232</th>\n",
              "      <td>14.79</td>\n",
              "      <td>-0.40</td>\n",
              "      <td>4623.810647</td>\n",
              "      <td>-36.0</td>\n",
              "      <td>8873.999977</td>\n",
              "      <td>600</td>\n",
              "      <td>1552.88341</td>\n",
              "      <td>10426.823387</td>\n",
              "      <td>33.584494</td>\n",
              "    </tr>\n",
              "  </tbody>\n",
              "</table>\n",
              "</div>\n",
              "      <button class=\"colab-df-convert\" onclick=\"convertToInteractive('df-82c7cfaa-70b4-48ba-b1b5-9cc39b4798db')\"\n",
              "              title=\"Convert this dataframe to an interactive table.\"\n",
              "              style=\"display:none;\">\n",
              "        \n",
              "  <svg xmlns=\"http://www.w3.org/2000/svg\" height=\"24px\"viewBox=\"0 0 24 24\"\n",
              "       width=\"24px\">\n",
              "    <path d=\"M0 0h24v24H0V0z\" fill=\"none\"/>\n",
              "    <path d=\"M18.56 5.44l.94 2.06.94-2.06 2.06-.94-2.06-.94-.94-2.06-.94 2.06-2.06.94zm-11 1L8.5 8.5l.94-2.06 2.06-.94-2.06-.94L8.5 2.5l-.94 2.06-2.06.94zm10 10l.94 2.06.94-2.06 2.06-.94-2.06-.94-.94-2.06-.94 2.06-2.06.94z\"/><path d=\"M17.41 7.96l-1.37-1.37c-.4-.4-.92-.59-1.43-.59-.52 0-1.04.2-1.43.59L10.3 9.45l-7.72 7.72c-.78.78-.78 2.05 0 2.83L4 21.41c.39.39.9.59 1.41.59.51 0 1.02-.2 1.41-.59l7.78-7.78 2.81-2.81c.8-.78.8-2.07 0-2.86zM5.41 20L4 18.59l7.72-7.72 1.47 1.35L5.41 20z\"/>\n",
              "  </svg>\n",
              "      </button>\n",
              "      \n",
              "  <style>\n",
              "    .colab-df-container {\n",
              "      display:flex;\n",
              "      flex-wrap:wrap;\n",
              "      gap: 12px;\n",
              "    }\n",
              "\n",
              "    .colab-df-convert {\n",
              "      background-color: #E8F0FE;\n",
              "      border: none;\n",
              "      border-radius: 50%;\n",
              "      cursor: pointer;\n",
              "      display: none;\n",
              "      fill: #1967D2;\n",
              "      height: 32px;\n",
              "      padding: 0 0 0 0;\n",
              "      width: 32px;\n",
              "    }\n",
              "\n",
              "    .colab-df-convert:hover {\n",
              "      background-color: #E2EBFA;\n",
              "      box-shadow: 0px 1px 2px rgba(60, 64, 67, 0.3), 0px 1px 3px 1px rgba(60, 64, 67, 0.15);\n",
              "      fill: #174EA6;\n",
              "    }\n",
              "\n",
              "    [theme=dark] .colab-df-convert {\n",
              "      background-color: #3B4455;\n",
              "      fill: #D2E3FC;\n",
              "    }\n",
              "\n",
              "    [theme=dark] .colab-df-convert:hover {\n",
              "      background-color: #434B5C;\n",
              "      box-shadow: 0px 1px 3px 1px rgba(0, 0, 0, 0.15);\n",
              "      filter: drop-shadow(0px 1px 2px rgba(0, 0, 0, 0.3));\n",
              "      fill: #FFFFFF;\n",
              "    }\n",
              "  </style>\n",
              "\n",
              "      <script>\n",
              "        const buttonEl =\n",
              "          document.querySelector('#df-82c7cfaa-70b4-48ba-b1b5-9cc39b4798db button.colab-df-convert');\n",
              "        buttonEl.style.display =\n",
              "          google.colab.kernel.accessAllowed ? 'block' : 'none';\n",
              "\n",
              "        async function convertToInteractive(key) {\n",
              "          const element = document.querySelector('#df-82c7cfaa-70b4-48ba-b1b5-9cc39b4798db');\n",
              "          const dataTable =\n",
              "            await google.colab.kernel.invokeFunction('convertToInteractive',\n",
              "                                                     [key], {});\n",
              "          if (!dataTable) return;\n",
              "\n",
              "          const docLinkHtml = 'Like what you see? Visit the ' +\n",
              "            '<a target=\"_blank\" href=https://colab.research.google.com/notebooks/data_table.ipynb>data table notebook</a>'\n",
              "            + ' to learn more about interactive tables.';\n",
              "          element.innerHTML = '';\n",
              "          dataTable['output_type'] = 'display_data';\n",
              "          await google.colab.output.renderOutput(dataTable, element);\n",
              "          const docLink = document.createElement('div');\n",
              "          docLink.innerHTML = docLinkHtml;\n",
              "          element.appendChild(docLink);\n",
              "        }\n",
              "      </script>\n",
              "    </div>\n",
              "  </div>\n",
              "  "
            ]
          },
          "metadata": {},
          "execution_count": 110
        }
      ]
    },
    {
      "cell_type": "code",
      "source": [
        "plt.figure(figsize=(15,10))\n",
        "sns.set_theme(style=\"dark\")\n",
        "sns.lineplot(data = taesa_a, x='Date', y='Acumulatted')\n",
        "sns.lineplot(data = taesa_a, x='Date', y='Total_aportado')\n",
        "plt.title('Comparativo Banco do Brasil x Economizar mesmo valor de aporte mensal')\n",
        "plt.xlabel('Data')\n",
        "plt.ylabel('Acumulado')"
      ],
      "metadata": {
        "id": "RxCubc0xWaGZ",
        "outputId": "7da8cc30-7ecf-4d47-b1ce-f042d3d9fb84",
        "colab": {
          "base_uri": "https://localhost:8080/",
          "height": 644
        }
      },
      "execution_count": 118,
      "outputs": [
        {
          "output_type": "execute_result",
          "data": {
            "text/plain": [
              "Text(0, 0.5, 'Acumulado')"
            ]
          },
          "metadata": {},
          "execution_count": 118
        },
        {
          "output_type": "display_data",
          "data": {
            "text/plain": [
              "<Figure size 1080x720 with 1 Axes>"
            ],
            "image/png": "[encoded data removed]"
          },
          "metadata": {}
        }
      ]
    },
    {
      "cell_type": "code",
      "source": [
        "taesa_a['Rentability%'].sum()"
      ],
      "metadata": {
        "id": "ZVZyGYKSWn6A",
        "colab": {
          "base_uri": "https://localhost:8080/"
        },
        "outputId": "f8123ec7-6d72-4f98-8b5e-898cc23629c6"
      },
      "execution_count": 121,
      "outputs": [
        {
          "output_type": "execute_result",
          "data": {
            "text/plain": [
              "87.2"
            ]
          },
          "metadata": {},
          "execution_count": 121
        }
      ]
    },
    {
      "cell_type": "code",
      "source": [
        "taesa_a['Rentability%'].sum()"
      ],
      "metadata": {
        "id": "imb1AWryO7cb",
        "outputId": "c6d61587-865e-4764-8d81-b5636e84331f",
        "colab": {
          "base_uri": "https://localhost:8080/"
        }
      },
      "execution_count": 11,
      "outputs": [
        {
          "output_type": "execute_result",
          "data": {
            "text/plain": [
              "87.2"
            ]
          },
          "metadata": {},
          "execution_count": 11
        }
      ]
    },
    {
      "cell_type": "code",
      "source": [
        "bbseguros_a[['Close','Rentability%', 'Total_aportado', 'My_rentability_pure', 'Valor_atual', 'Total_actions', 'Total_receive', 'Acumulatted', 'yld_final']].tail()"
      ],
      "metadata": {
        "id": "ibDqBSwVI3FP",
        "outputId": "e665b102-6894-40a5-e0a9-097bd29c505b",
        "colab": {
          "base_uri": "https://localhost:8080/",
          "height": 206
        }
      },
      "execution_count": 12,
      "outputs": [
        {
          "output_type": "execute_result",
          "data": {
            "text/plain": [
              "          Close  Rentability%  Total_aportado  My_rentability_pure  \\\n",
              "1238  26.160000          0.85    13659.376133                134.2   \n",
              "1239  26.780001          2.37    13659.376133                378.2   \n",
              "1240  26.020000         -2.84    13659.376133               -463.6   \n",
              "1241  26.760000          2.84    13659.376133                451.4   \n",
              "1242  26.389999         -1.38    13659.376133               -225.7   \n",
              "\n",
              "       Valor_atual  Total_actions  Total_receive   Acumulatted  yld_final  \n",
              "1238  15957.599907            610     3516.82346  19474.643367  25.746589  \n",
              "1239  16335.800419            610     3516.82346  19853.243879  25.746589  \n",
              "1240  15872.200279            610     3516.82346  19388.263739  25.746589  \n",
              "1241  16323.600140            610     3516.82346  19841.163600  25.746589  \n",
              "1242  16097.899628            610     3516.82346  19614.353088  25.746589  "
            ],
            "text/html": [
              "\n",
              "  <div id=\"df-ef673aac-7e1c-4672-8cab-580fffbcde55\">\n",
              "    <div class=\"colab-df-container\">\n",
              "      <div>\n",
              "<style scoped>\n",
              "    .dataframe tbody tr th:only-of-type {\n",
              "        vertical-align: middle;\n",
              "    }\n",
              "\n",
              "    .dataframe tbody tr th {\n",
              "        vertical-align: top;\n",
              "    }\n",
              "\n",
              "    .dataframe thead th {\n",
              "        text-align: right;\n",
              "    }\n",
              "</style>\n",
              "<table border=\"1\" class=\"dataframe\">\n",
              "  <thead>\n",
              "    <tr style=\"text-align: right;\">\n",
              "      <th></th>\n",
              "      <th>Close</th>\n",
              "      <th>Rentability%</th>\n",
              "      <th>Total_aportado</th>\n",
              "      <th>My_rentability_pure</th>\n",
              "      <th>Valor_atual</th>\n",
              "      <th>Total_actions</th>\n",
              "      <th>Total_receive</th>\n",
              "      <th>Acumulatted</th>\n",
              "      <th>yld_final</th>\n",
              "    </tr>\n",
              "  </thead>\n",
              "  <tbody>\n",
              "    <tr>\n",
              "      <th>1238</th>\n",
              "      <td>26.160000</td>\n",
              "      <td>0.85</td>\n",
              "      <td>13659.376133</td>\n",
              "      <td>134.2</td>\n",
              "      <td>15957.599907</td>\n",
              "      <td>610</td>\n",
              "      <td>3516.82346</td>\n",
              "      <td>19474.643367</td>\n",
              "      <td>25.746589</td>\n",
              "    </tr>\n",
              "    <tr>\n",
              "      <th>1239</th>\n",
              "      <td>26.780001</td>\n",
              "      <td>2.37</td>\n",
              "      <td>13659.376133</td>\n",
              "      <td>378.2</td>\n",
              "      <td>16335.800419</td>\n",
              "      <td>610</td>\n",
              "      <td>3516.82346</td>\n",
              "      <td>19853.243879</td>\n",
              "      <td>25.746589</td>\n",
              "    </tr>\n",
              "    <tr>\n",
              "      <th>1240</th>\n",
              "      <td>26.020000</td>\n",
              "      <td>-2.84</td>\n",
              "      <td>13659.376133</td>\n",
              "      <td>-463.6</td>\n",
              "      <td>15872.200279</td>\n",
              "      <td>610</td>\n",
              "      <td>3516.82346</td>\n",
              "      <td>19388.263739</td>\n",
              "      <td>25.746589</td>\n",
              "    </tr>\n",
              "    <tr>\n",
              "      <th>1241</th>\n",
              "      <td>26.760000</td>\n",
              "      <td>2.84</td>\n",
              "      <td>13659.376133</td>\n",
              "      <td>451.4</td>\n",
              "      <td>16323.600140</td>\n",
              "      <td>610</td>\n",
              "      <td>3516.82346</td>\n",
              "      <td>19841.163600</td>\n",
              "      <td>25.746589</td>\n",
              "    </tr>\n",
              "    <tr>\n",
              "      <th>1242</th>\n",
              "      <td>26.389999</td>\n",
              "      <td>-1.38</td>\n",
              "      <td>13659.376133</td>\n",
              "      <td>-225.7</td>\n",
              "      <td>16097.899628</td>\n",
              "      <td>610</td>\n",
              "      <td>3516.82346</td>\n",
              "      <td>19614.353088</td>\n",
              "      <td>25.746589</td>\n",
              "    </tr>\n",
              "  </tbody>\n",
              "</table>\n",
              "</div>\n",
              "      <button class=\"colab-df-convert\" onclick=\"convertToInteractive('df-ef673aac-7e1c-4672-8cab-580fffbcde55')\"\n",
              "              title=\"Convert this dataframe to an interactive table.\"\n",
              "              style=\"display:none;\">\n",
              "        \n",
              "  <svg xmlns=\"http://www.w3.org/2000/svg\" height=\"24px\"viewBox=\"0 0 24 24\"\n",
              "       width=\"24px\">\n",
              "    <path d=\"M0 0h24v24H0V0z\" fill=\"none\"/>\n",
              "    <path d=\"M18.56 5.44l.94 2.06.94-2.06 2.06-.94-2.06-.94-.94-2.06-.94 2.06-2.06.94zm-11 1L8.5 8.5l.94-2.06 2.06-.94-2.06-.94L8.5 2.5l-.94 2.06-2.06.94zm10 10l.94 2.06.94-2.06 2.06-.94-2.06-.94-.94-2.06-.94 2.06-2.06.94z\"/><path d=\"M17.41 7.96l-1.37-1.37c-.4-.4-.92-.59-1.43-.59-.52 0-1.04.2-1.43.59L10.3 9.45l-7.72 7.72c-.78.78-.78 2.05 0 2.83L4 21.41c.39.39.9.59 1.41.59.51 0 1.02-.2 1.41-.59l7.78-7.78 2.81-2.81c.8-.78.8-2.07 0-2.86zM5.41 20L4 18.59l7.72-7.72 1.47 1.35L5.41 20z\"/>\n",
              "  </svg>\n",
              "      </button>\n",
              "      \n",
              "  <style>\n",
              "    .colab-df-container {\n",
              "      display:flex;\n",
              "      flex-wrap:wrap;\n",
              "      gap: 12px;\n",
              "    }\n",
              "\n",
              "    .colab-df-convert {\n",
              "      background-color: #E8F0FE;\n",
              "      border: none;\n",
              "      border-radius: 50%;\n",
              "      cursor: pointer;\n",
              "      display: none;\n",
              "      fill: #1967D2;\n",
              "      height: 32px;\n",
              "      padding: 0 0 0 0;\n",
              "      width: 32px;\n",
              "    }\n",
              "\n",
              "    .colab-df-convert:hover {\n",
              "      background-color: #E2EBFA;\n",
              "      box-shadow: 0px 1px 2px rgba(60, 64, 67, 0.3), 0px 1px 3px 1px rgba(60, 64, 67, 0.15);\n",
              "      fill: #174EA6;\n",
              "    }\n",
              "\n",
              "    [theme=dark] .colab-df-convert {\n",
              "      background-color: #3B4455;\n",
              "      fill: #D2E3FC;\n",
              "    }\n",
              "\n",
              "    [theme=dark] .colab-df-convert:hover {\n",
              "      background-color: #434B5C;\n",
              "      box-shadow: 0px 1px 3px 1px rgba(0, 0, 0, 0.15);\n",
              "      filter: drop-shadow(0px 1px 2px rgba(0, 0, 0, 0.3));\n",
              "      fill: #FFFFFF;\n",
              "    }\n",
              "  </style>\n",
              "\n",
              "      <script>\n",
              "        const buttonEl =\n",
              "          document.querySelector('#df-ef673aac-7e1c-4672-8cab-580fffbcde55 button.colab-df-convert');\n",
              "        buttonEl.style.display =\n",
              "          google.colab.kernel.accessAllowed ? 'block' : 'none';\n",
              "\n",
              "        async function convertToInteractive(key) {\n",
              "          const element = document.querySelector('#df-ef673aac-7e1c-4672-8cab-580fffbcde55');\n",
              "          const dataTable =\n",
              "            await google.colab.kernel.invokeFunction('convertToInteractive',\n",
              "                                                     [key], {});\n",
              "          if (!dataTable) return;\n",
              "\n",
              "          const docLinkHtml = 'Like what you see? Visit the ' +\n",
              "            '<a target=\"_blank\" href=https://colab.research.google.com/notebooks/data_table.ipynb>data table notebook</a>'\n",
              "            + ' to learn more about interactive tables.';\n",
              "          element.innerHTML = '';\n",
              "          dataTable['output_type'] = 'display_data';\n",
              "          await google.colab.output.renderOutput(dataTable, element);\n",
              "          const docLink = document.createElement('div');\n",
              "          docLink.innerHTML = docLinkHtml;\n",
              "          element.appendChild(docLink);\n",
              "        }\n",
              "      </script>\n",
              "    </div>\n",
              "  </div>\n",
              "  "
            ]
          },
          "metadata": {},
          "execution_count": 12
        }
      ]
    },
    {
      "cell_type": "code",
      "source": [
        "import seaborn as sns\n",
        "import matplotlib.pyplot as plt"
      ],
      "metadata": {
        "id": "VeI1V9FCxx2u"
      },
      "execution_count": 22,
      "outputs": []
    },
    {
      "cell_type": "code",
      "source": [
        "sns.set_theme(style=\"dark\")\n",
        "sns.lineplot(data = bbseguros_a, x='Date', y='Acumulatted')\n",
        "sns.lineplot(data = bbseguros_a, x='Date', y='Total_aportado')\n",
        "plt.title('Comparativo Banco do Brasil x Economizar mesmo valor de aporte mensal')\n",
        "plt.xlabel('Data')\n",
        "plt.ylabel('Acumulado')"
      ],
      "metadata": {
        "colab": {
          "base_uri": "https://localhost:8080/",
          "height": 318
        },
        "id": "PD7J7Uwr366-",
        "outputId": "c37a4f15-c8d6-4c02-d95e-13a4da2a1f5b"
      },
      "execution_count": 32,
      "outputs": [
        {
          "output_type": "execute_result",
          "data": {
            "text/plain": [
              "Text(0, 0.5, 'Acumulado')"
            ]
          },
          "metadata": {},
          "execution_count": 32
        },
        {
          "output_type": "display_data",
          "data": {
            "text/plain": [
              "<Figure size 432x288 with 1 Axes>"
            ],
            "image/png": "[encoded data removed]"
          },
          "metadata": {}
        }
      ]
    },
    {
      "cell_type": "code",
      "source": [
        "bbseguros_a['Rentability%'].sum()"
      ],
      "metadata": {
        "id": "yveTWXVSPM2J",
        "outputId": "bea21de1-c8df-4705-da46-51fa7abde287",
        "colab": {
          "base_uri": "https://localhost:8080/"
        }
      },
      "execution_count": 14,
      "outputs": [
        {
          "output_type": "execute_result",
          "data": {
            "text/plain": [
              "49.099999999999994"
            ]
          },
          "metadata": {},
          "execution_count": 14
        }
      ]
    },
    {
      "cell_type": "code",
      "source": [
        "itsa_a[['Close','Rentability%', 'Total_aportado', 'My_rentability_pure', 'Valor_atual', 'Total_actions', 'Total_receive', 'Acumulatted', 'yld_final']].tail()"
      ],
      "metadata": {
        "id": "q2G-WSA3I3OO",
        "outputId": "17873e8b-b1d0-4c93-9f8c-b7af7cbb2816",
        "colab": {
          "base_uri": "https://localhost:8080/",
          "height": 206
        }
      },
      "execution_count": 15,
      "outputs": [
        {
          "output_type": "execute_result",
          "data": {
            "text/plain": [
              "      Close  Rentability%  Total_aportado  My_rentability_pure  Valor_atual  \\\n",
              "1239  10.10          0.10     5421.471186                  6.1  6161.000233   \n",
              "1240  10.16          0.59     5421.471186                 36.6  6197.599907   \n",
              "1241  10.05         -1.08     5421.471186                -67.1  6130.500116   \n",
              "1242  10.06          0.10     5421.471186                  6.1  6136.600256   \n",
              "1243   9.91         -1.49     5421.471186                -91.5  6045.099907   \n",
              "\n",
              "      Total_actions  Total_receive  Acumulatted  yld_final  \n",
              "1239            610      901.54024  7062.550473   16.62907  \n",
              "1240            610      901.54024  7099.200147   16.62907  \n",
              "1241            610      901.54024  7031.930356   16.62907  \n",
              "1242            610      901.54024  7038.150496   16.62907  \n",
              "1243            610      901.54024  6946.490147   16.62907  "
            ],
            "text/html": [
              "\n",
              "  <div id=\"df-70e1de15-302a-4e47-ae10-144673765ab6\">\n",
              "    <div class=\"colab-df-container\">\n",
              "      <div>\n",
              "<style scoped>\n",
              "    .dataframe tbody tr th:only-of-type {\n",
              "        vertical-align: middle;\n",
              "    }\n",
              "\n",
              "    .dataframe tbody tr th {\n",
              "        vertical-align: top;\n",
              "    }\n",
              "\n",
              "    .dataframe thead th {\n",
              "        text-align: right;\n",
              "    }\n",
              "</style>\n",
              "<table border=\"1\" class=\"dataframe\">\n",
              "  <thead>\n",
              "    <tr style=\"text-align: right;\">\n",
              "      <th></th>\n",
              "      <th>Close</th>\n",
              "      <th>Rentability%</th>\n",
              "      <th>Total_aportado</th>\n",
              "      <th>My_rentability_pure</th>\n",
              "      <th>Valor_atual</th>\n",
              "      <th>Total_actions</th>\n",
              "      <th>Total_receive</th>\n",
              "      <th>Acumulatted</th>\n",
              "      <th>yld_final</th>\n",
              "    </tr>\n",
              "  </thead>\n",
              "  <tbody>\n",
              "    <tr>\n",
              "      <th>1239</th>\n",
              "      <td>10.10</td>\n",
              "      <td>0.10</td>\n",
              "      <td>5421.471186</td>\n",
              "      <td>6.1</td>\n",
              "      <td>6161.000233</td>\n",
              "      <td>610</td>\n",
              "      <td>901.54024</td>\n",
              "      <td>7062.550473</td>\n",
              "      <td>16.62907</td>\n",
              "    </tr>\n",
              "    <tr>\n",
              "      <th>1240</th>\n",
              "      <td>10.16</td>\n",
              "      <td>0.59</td>\n",
              "      <td>5421.471186</td>\n",
              "      <td>36.6</td>\n",
              "      <td>6197.599907</td>\n",
              "      <td>610</td>\n",
              "      <td>901.54024</td>\n",
              "      <td>7099.200147</td>\n",
              "      <td>16.62907</td>\n",
              "    </tr>\n",
              "    <tr>\n",
              "      <th>1241</th>\n",
              "      <td>10.05</td>\n",
              "      <td>-1.08</td>\n",
              "      <td>5421.471186</td>\n",
              "      <td>-67.1</td>\n",
              "      <td>6130.500116</td>\n",
              "      <td>610</td>\n",
              "      <td>901.54024</td>\n",
              "      <td>7031.930356</td>\n",
              "      <td>16.62907</td>\n",
              "    </tr>\n",
              "    <tr>\n",
              "      <th>1242</th>\n",
              "      <td>10.06</td>\n",
              "      <td>0.10</td>\n",
              "      <td>5421.471186</td>\n",
              "      <td>6.1</td>\n",
              "      <td>6136.600256</td>\n",
              "      <td>610</td>\n",
              "      <td>901.54024</td>\n",
              "      <td>7038.150496</td>\n",
              "      <td>16.62907</td>\n",
              "    </tr>\n",
              "    <tr>\n",
              "      <th>1243</th>\n",
              "      <td>9.91</td>\n",
              "      <td>-1.49</td>\n",
              "      <td>5421.471186</td>\n",
              "      <td>-91.5</td>\n",
              "      <td>6045.099907</td>\n",
              "      <td>610</td>\n",
              "      <td>901.54024</td>\n",
              "      <td>6946.490147</td>\n",
              "      <td>16.62907</td>\n",
              "    </tr>\n",
              "  </tbody>\n",
              "</table>\n",
              "</div>\n",
              "      <button class=\"colab-df-convert\" onclick=\"convertToInteractive('df-70e1de15-302a-4e47-ae10-144673765ab6')\"\n",
              "              title=\"Convert this dataframe to an interactive table.\"\n",
              "              style=\"display:none;\">\n",
              "        \n",
              "  <svg xmlns=\"http://www.w3.org/2000/svg\" height=\"24px\"viewBox=\"0 0 24 24\"\n",
              "       width=\"24px\">\n",
              "    <path d=\"M0 0h24v24H0V0z\" fill=\"none\"/>\n",
              "    <path d=\"M18.56 5.44l.94 2.06.94-2.06 2.06-.94-2.06-.94-.94-2.06-.94 2.06-2.06.94zm-11 1L8.5 8.5l.94-2.06 2.06-.94-2.06-.94L8.5 2.5l-.94 2.06-2.06.94zm10 10l.94 2.06.94-2.06 2.06-.94-2.06-.94-.94-2.06-.94 2.06-2.06.94z\"/><path d=\"M17.41 7.96l-1.37-1.37c-.4-.4-.92-.59-1.43-.59-.52 0-1.04.2-1.43.59L10.3 9.45l-7.72 7.72c-.78.78-.78 2.05 0 2.83L4 21.41c.39.39.9.59 1.41.59.51 0 1.02-.2 1.41-.59l7.78-7.78 2.81-2.81c.8-.78.8-2.07 0-2.86zM5.41 20L4 18.59l7.72-7.72 1.47 1.35L5.41 20z\"/>\n",
              "  </svg>\n",
              "      </button>\n",
              "      \n",
              "  <style>\n",
              "    .colab-df-container {\n",
              "      display:flex;\n",
              "      flex-wrap:wrap;\n",
              "      gap: 12px;\n",
              "    }\n",
              "\n",
              "    .colab-df-convert {\n",
              "      background-color: #E8F0FE;\n",
              "      border: none;\n",
              "      border-radius: 50%;\n",
              "      cursor: pointer;\n",
              "      display: none;\n",
              "      fill: #1967D2;\n",
              "      height: 32px;\n",
              "      padding: 0 0 0 0;\n",
              "      width: 32px;\n",
              "    }\n",
              "\n",
              "    .colab-df-convert:hover {\n",
              "      background-color: #E2EBFA;\n",
              "      box-shadow: 0px 1px 2px rgba(60, 64, 67, 0.3), 0px 1px 3px 1px rgba(60, 64, 67, 0.15);\n",
              "      fill: #174EA6;\n",
              "    }\n",
              "\n",
              "    [theme=dark] .colab-df-convert {\n",
              "      background-color: #3B4455;\n",
              "      fill: #D2E3FC;\n",
              "    }\n",
              "\n",
              "    [theme=dark] .colab-df-convert:hover {\n",
              "      background-color: #434B5C;\n",
              "      box-shadow: 0px 1px 3px 1px rgba(0, 0, 0, 0.15);\n",
              "      filter: drop-shadow(0px 1px 2px rgba(0, 0, 0, 0.3));\n",
              "      fill: #FFFFFF;\n",
              "    }\n",
              "  </style>\n",
              "\n",
              "      <script>\n",
              "        const buttonEl =\n",
              "          document.querySelector('#df-70e1de15-302a-4e47-ae10-144673765ab6 button.colab-df-convert');\n",
              "        buttonEl.style.display =\n",
              "          google.colab.kernel.accessAllowed ? 'block' : 'none';\n",
              "\n",
              "        async function convertToInteractive(key) {\n",
              "          const element = document.querySelector('#df-70e1de15-302a-4e47-ae10-144673765ab6');\n",
              "          const dataTable =\n",
              "            await google.colab.kernel.invokeFunction('convertToInteractive',\n",
              "                                                     [key], {});\n",
              "          if (!dataTable) return;\n",
              "\n",
              "          const docLinkHtml = 'Like what you see? Visit the ' +\n",
              "            '<a target=\"_blank\" href=https://colab.research.google.com/notebooks/data_table.ipynb>data table notebook</a>'\n",
              "            + ' to learn more about interactive tables.';\n",
              "          element.innerHTML = '';\n",
              "          dataTable['output_type'] = 'display_data';\n",
              "          await google.colab.output.renderOutput(dataTable, element);\n",
              "          const docLink = document.createElement('div');\n",
              "          docLink.innerHTML = docLinkHtml;\n",
              "          element.appendChild(docLink);\n",
              "        }\n",
              "      </script>\n",
              "    </div>\n",
              "  </div>\n",
              "  "
            ]
          },
          "metadata": {},
          "execution_count": 15
        }
      ]
    },
    {
      "cell_type": "code",
      "source": [
        "itsa_a['Acumulatted'].plot(kind='line')\n",
        "itsa_a['Total_aportado'].plot(kind='line')"
      ],
      "metadata": {
        "colab": {
          "base_uri": "https://localhost:8080/",
          "height": 282
        },
        "id": "G3SXjMi6x64f",
        "outputId": "e085acdb-600e-4fe7-970f-d11e860f022f"
      },
      "execution_count": 16,
      "outputs": [
        {
          "output_type": "execute_result",
          "data": {
            "text/plain": [
              "<matplotlib.axes._subplots.AxesSubplot at 0x7f7b15acebd0>"
            ]
          },
          "metadata": {},
          "execution_count": 16
        },
        {
          "output_type": "display_data",
          "data": {
            "text/plain": [
              "<Figure size 432x288 with 1 Axes>"
            ],
            "image/png": "[encoded data removed]"
          },
          "metadata": {
            "needs_background": "light"
          }
        }
      ]
    },
    {
      "cell_type": "code",
      "source": [
        "itsa_a['Rentability%'].sum()"
      ],
      "metadata": {
        "id": "2IEJDmeNfD1C",
        "outputId": "e8a21567-36b2-46ce-b998-0da12af18584",
        "colab": {
          "base_uri": "https://localhost:8080/"
        }
      },
      "execution_count": 17,
      "outputs": [
        {
          "output_type": "execute_result",
          "data": {
            "text/plain": [
              "69.15999999999998"
            ]
          },
          "metadata": {},
          "execution_count": 17
        }
      ]
    },
    {
      "cell_type": "code",
      "source": [
        "itsa_a.head(1)"
      ],
      "metadata": {
        "id": "oBvRSBgWPfCj",
        "outputId": "a25f59d6-02f5-470e-ba21-a6dcd4b73249",
        "colab": {
          "base_uri": "https://localhost:8080/",
          "height": 191
        }
      },
      "execution_count": 18,
      "outputs": [
        {
          "output_type": "execute_result",
          "data": {
            "text/plain": [
              "        Date      Open      High       Low     Close      Volume  Dividends  \\\n",
              "0 2017-04-25  6.252382  6.317784  6.226222  6.311243  15940848.0        0.0   \n",
              "\n",
              "   Stock Splits  Day  Month  ...  Bougth  Valor_aportado  Total_actions  \\\n",
              "0           0.0   25      4  ...    10.0       62.720025             10   \n",
              "\n",
              "   Total_aportado  Dividend_receive  Total_receive  Valor_atual  \\\n",
              "0       62.720025               0.0            0.0    63.112431   \n",
              "\n",
              "   My_rentability_pure  yld_final  Acumulatted  \n",
              "0                  NaN        0.0    63.112431  \n",
              "\n",
              "[1 rows x 24 columns]"
            ],
            "text/html": [
              "\n",
              "  <div id=\"df-cb1429bb-25d9-42a5-b378-91a081e625db\">\n",
              "    <div class=\"colab-df-container\">\n",
              "      <div>\n",
              "<style scoped>\n",
              "    .dataframe tbody tr th:only-of-type {\n",
              "        vertical-align: middle;\n",
              "    }\n",
              "\n",
              "    .dataframe tbody tr th {\n",
              "        vertical-align: top;\n",
              "    }\n",
              "\n",
              "    .dataframe thead th {\n",
              "        text-align: right;\n",
              "    }\n",
              "</style>\n",
              "<table border=\"1\" class=\"dataframe\">\n",
              "  <thead>\n",
              "    <tr style=\"text-align: right;\">\n",
              "      <th></th>\n",
              "      <th>Date</th>\n",
              "      <th>Open</th>\n",
              "      <th>High</th>\n",
              "      <th>Low</th>\n",
              "      <th>Close</th>\n",
              "      <th>Volume</th>\n",
              "      <th>Dividends</th>\n",
              "      <th>Stock Splits</th>\n",
              "      <th>Day</th>\n",
              "      <th>Month</th>\n",
              "      <th>...</th>\n",
              "      <th>Bougth</th>\n",
              "      <th>Valor_aportado</th>\n",
              "      <th>Total_actions</th>\n",
              "      <th>Total_aportado</th>\n",
              "      <th>Dividend_receive</th>\n",
              "      <th>Total_receive</th>\n",
              "      <th>Valor_atual</th>\n",
              "      <th>My_rentability_pure</th>\n",
              "      <th>yld_final</th>\n",
              "      <th>Acumulatted</th>\n",
              "    </tr>\n",
              "  </thead>\n",
              "  <tbody>\n",
              "    <tr>\n",
              "      <th>0</th>\n",
              "      <td>2017-04-25</td>\n",
              "      <td>6.252382</td>\n",
              "      <td>6.317784</td>\n",
              "      <td>6.226222</td>\n",
              "      <td>6.311243</td>\n",
              "      <td>15940848.0</td>\n",
              "      <td>0.0</td>\n",
              "      <td>0.0</td>\n",
              "      <td>25</td>\n",
              "      <td>4</td>\n",
              "      <td>...</td>\n",
              "      <td>10.0</td>\n",
              "      <td>62.720025</td>\n",
              "      <td>10</td>\n",
              "      <td>62.720025</td>\n",
              "      <td>0.0</td>\n",
              "      <td>0.0</td>\n",
              "      <td>63.112431</td>\n",
              "      <td>NaN</td>\n",
              "      <td>0.0</td>\n",
              "      <td>63.112431</td>\n",
              "    </tr>\n",
              "  </tbody>\n",
              "</table>\n",
              "<p>1 rows × 24 columns</p>\n",
              "</div>\n",
              "      <button class=\"colab-df-convert\" onclick=\"convertToInteractive('df-cb1429bb-25d9-42a5-b378-91a081e625db')\"\n",
              "              title=\"Convert this dataframe to an interactive table.\"\n",
              "              style=\"display:none;\">\n",
              "        \n",
              "  <svg xmlns=\"http://www.w3.org/2000/svg\" height=\"24px\"viewBox=\"0 0 24 24\"\n",
              "       width=\"24px\">\n",
              "    <path d=\"M0 0h24v24H0V0z\" fill=\"none\"/>\n",
              "    <path d=\"M18.56 5.44l.94 2.06.94-2.06 2.06-.94-2.06-.94-.94-2.06-.94 2.06-2.06.94zm-11 1L8.5 8.5l.94-2.06 2.06-.94-2.06-.94L8.5 2.5l-.94 2.06-2.06.94zm10 10l.94 2.06.94-2.06 2.06-.94-2.06-.94-.94-2.06-.94 2.06-2.06.94z\"/><path d=\"M17.41 7.96l-1.37-1.37c-.4-.4-.92-.59-1.43-.59-.52 0-1.04.2-1.43.59L10.3 9.45l-7.72 7.72c-.78.78-.78 2.05 0 2.83L4 21.41c.39.39.9.59 1.41.59.51 0 1.02-.2 1.41-.59l7.78-7.78 2.81-2.81c.8-.78.8-2.07 0-2.86zM5.41 20L4 18.59l7.72-7.72 1.47 1.35L5.41 20z\"/>\n",
              "  </svg>\n",
              "      </button>\n",
              "      \n",
              "  <style>\n",
              "    .colab-df-container {\n",
              "      display:flex;\n",
              "      flex-wrap:wrap;\n",
              "      gap: 12px;\n",
              "    }\n",
              "\n",
              "    .colab-df-convert {\n",
              "      background-color: #E8F0FE;\n",
              "      border: none;\n",
              "      border-radius: 50%;\n",
              "      cursor: pointer;\n",
              "      display: none;\n",
              "      fill: #1967D2;\n",
              "      height: 32px;\n",
              "      padding: 0 0 0 0;\n",
              "      width: 32px;\n",
              "    }\n",
              "\n",
              "    .colab-df-convert:hover {\n",
              "      background-color: #E2EBFA;\n",
              "      box-shadow: 0px 1px 2px rgba(60, 64, 67, 0.3), 0px 1px 3px 1px rgba(60, 64, 67, 0.15);\n",
              "      fill: #174EA6;\n",
              "    }\n",
              "\n",
              "    [theme=dark] .colab-df-convert {\n",
              "      background-color: #3B4455;\n",
              "      fill: #D2E3FC;\n",
              "    }\n",
              "\n",
              "    [theme=dark] .colab-df-convert:hover {\n",
              "      background-color: #434B5C;\n",
              "      box-shadow: 0px 1px 3px 1px rgba(0, 0, 0, 0.15);\n",
              "      filter: drop-shadow(0px 1px 2px rgba(0, 0, 0, 0.3));\n",
              "      fill: #FFFFFF;\n",
              "    }\n",
              "  </style>\n",
              "\n",
              "      <script>\n",
              "        const buttonEl =\n",
              "          document.querySelector('#df-cb1429bb-25d9-42a5-b378-91a081e625db button.colab-df-convert');\n",
              "        buttonEl.style.display =\n",
              "          google.colab.kernel.accessAllowed ? 'block' : 'none';\n",
              "\n",
              "        async function convertToInteractive(key) {\n",
              "          const element = document.querySelector('#df-cb1429bb-25d9-42a5-b378-91a081e625db');\n",
              "          const dataTable =\n",
              "            await google.colab.kernel.invokeFunction('convertToInteractive',\n",
              "                                                     [key], {});\n",
              "          if (!dataTable) return;\n",
              "\n",
              "          const docLinkHtml = 'Like what you see? Visit the ' +\n",
              "            '<a target=\"_blank\" href=https://colab.research.google.com/notebooks/data_table.ipynb>data table notebook</a>'\n",
              "            + ' to learn more about interactive tables.';\n",
              "          element.innerHTML = '';\n",
              "          dataTable['output_type'] = 'display_data';\n",
              "          await google.colab.output.renderOutput(dataTable, element);\n",
              "          const docLink = document.createElement('div');\n",
              "          docLink.innerHTML = docLinkHtml;\n",
              "          element.appendChild(docLink);\n",
              "        }\n",
              "      </script>\n",
              "    </div>\n",
              "  </div>\n",
              "  "
            ]
          },
          "metadata": {},
          "execution_count": 18
        }
      ]
    },
    {
      "cell_type": "code",
      "source": [
        "teste = taesa_a"
      ],
      "metadata": {
        "id": "RQbBiH-jP2Yj"
      },
      "execution_count": 93,
      "outputs": []
    },
    {
      "cell_type": "code",
      "source": [
        "x['Mes-ano'] = x['Date'].dt.strftime('%Y') +'-' + x['Date'].dt.strftime('%m') "
      ],
      "metadata": {
        "id": "aQPzXqixB8FP"
      },
      "execution_count": 101,
      "outputs": []
    },
    {
      "cell_type": "code",
      "source": [
        "teste['Mes-ano']"
      ],
      "metadata": {
        "colab": {
          "base_uri": "https://localhost:8080/"
        },
        "id": "1fvPZTjWCg39",
        "outputId": "db0035a3-6c66-48cf-b025-e0d1a89fb1e1"
      },
      "execution_count": 102,
      "outputs": [
        {
          "output_type": "execute_result",
          "data": {
            "text/plain": [
              "0       2017-05\n",
              "1       2017-05\n",
              "2       2017-05\n",
              "3       2017-05\n",
              "4       2017-05\n",
              "         ...   \n",
              "1228    2022-04\n",
              "1229    2022-04\n",
              "1230    2022-04\n",
              "1231    2022-04\n",
              "1232    2022-04\n",
              "Name: Mes-ano, Length: 1233, dtype: object"
            ]
          },
          "metadata": {},
          "execution_count": 102
        }
      ]
    }
  ]
}